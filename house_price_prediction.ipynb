{
 "cells": [
  {
   "cell_type": "code",
   "execution_count": 133,
   "metadata": {},
   "outputs": [],
   "source": [
    "import numpy as np\n",
    "import math\n",
    "import seaborn as sns\n",
    "import pandas as pd\n",
    "import matplotlib.pyplot as plt\n",
    "from scipy import stats\n",
    "from datetime import datetime\n",
    "from sklearn.model_selection import train_test_split\n",
    "from sklearn.preprocessing import StandardScaler\n",
    "from statsmodels.formula.api import ols\n",
    "import statsmodels.api as sm\n",
    "from sklearn.pipeline import Pipeline\n",
    "from sklearn.compose import ColumnTransformer\n",
    "from sklearn.preprocessing import OneHotEncoder, MinMaxScaler, StandardScaler\n",
    "from sklearn.linear_model import LinearRegression, ElasticNet, Ridge, Lasso\n",
    "from sklearn.ensemble import RandomForestRegressor\n",
    "from sklearn.decomposition import PCA\n",
    "from sklearn.metrics import mean_squared_error"
   ]
  },
  {
   "cell_type": "code",
   "execution_count": 134,
   "metadata": {},
   "outputs": [],
   "source": [
    "# Load data\n",
    "df = pd.read_csv(\"https://raw.githubusercontent.com/delinai/schulich_ds1/main/Datasets/kc_house_data.csv\")"
   ]
  },
  {
   "cell_type": "code",
   "execution_count": 135,
   "metadata": {},
   "outputs": [],
   "source": [
    "# date update\n",
    "df['date'] = pd.to_datetime(df['date'])\n",
    "df['year'] = df['date'].dt.year\n",
    "df['renovation'] = df['yr_renovated'].apply(lambda x: 1 if x > 0 else 0)\n",
    "df['house_age'] = df['year'] - df['yr_built']"
   ]
  },
  {
   "cell_type": "code",
   "execution_count": 136,
   "metadata": {},
   "outputs": [],
   "source": [
    "# Drop unrelated features'id', 'date', 'zipcode', 'year', 'yr_renovated'\n",
    "df = df.drop(['id','date', 'year', 'yr_built', 'yr_renovated'], axis=1)"
   ]
  },
  {
   "cell_type": "code",
   "execution_count": 137,
   "metadata": {},
   "outputs": [
    {
     "data": {
      "text/plain": [
       "0    221900.0\n",
       "1    538000.0\n",
       "2    180000.0\n",
       "3    604000.0\n",
       "4    510000.0\n",
       "Name: price, dtype: float64"
      ]
     },
     "execution_count": 137,
     "metadata": {},
     "output_type": "execute_result"
    }
   ],
   "source": [
    "df['price'].head()"
   ]
  },
  {
   "cell_type": "code",
   "execution_count": 138,
   "metadata": {},
   "outputs": [],
   "source": [
    "#df['price'] = np.log(df['price'])"
   ]
  },
  {
   "cell_type": "code",
   "execution_count": 139,
   "metadata": {},
   "outputs": [
    {
     "data": {
      "text/plain": [
       "0    221900.0\n",
       "1    538000.0\n",
       "2    180000.0\n",
       "3    604000.0\n",
       "4    510000.0\n",
       "Name: price, dtype: float64"
      ]
     },
     "execution_count": 139,
     "metadata": {},
     "output_type": "execute_result"
    }
   ],
   "source": [
    "df['price'].head()"
   ]
  },
  {
   "cell_type": "code",
   "execution_count": 140,
   "metadata": {},
   "outputs": [],
   "source": [
    "# Identify features\n",
    "features = [i for i in df.columns if i not in ['price']]\n",
    "unique_feature_num = df[features].nunique().sort_values()\n",
    "\n",
    "numerical_features = []\n",
    "categorical_features = []\n",
    "for i in range(df[features].shape[1]):\n",
    "    if unique_feature_num[i] <= 5:\n",
    "        categorical_features.append(unique_feature_num.index[i])\n",
    "    else:\n",
    "        numerical_features.append(unique_feature_num.index[i])"
   ]
  },
  {
   "cell_type": "code",
   "execution_count": 141,
   "metadata": {},
   "outputs": [
    {
     "name": "stdout",
     "output_type": "stream",
     "text": [
      "One-Hot Encoding on features:\n",
      "renovation\n",
      "waterfront\n",
      "\n",
      "Dummy Encoding on features:\n",
      "condition\n",
      "view\n"
     ]
    }
   ],
   "source": [
    "# Check empty elements\n",
    "nvc = pd.DataFrame(df.isnull().sum().sort_values(), columns=['Total Null Values'])\n",
    "nvc['Percentage'] = round(nvc['Total Null Values']/df.shape[0],3)*100\n",
    "\n",
    "# Apply one-hot encoding for categorical features\n",
    "ecc = nvc[nvc['Percentage']!=0].index.values\n",
    "fcc = [i for i in categorical_features if i not in ecc]\n",
    "oh = True\n",
    "dm = True\n",
    "for i in fcc:\n",
    "    if df[i].nunique()==2:\n",
    "        if oh==True: print(\"One-Hot Encoding on features:\")\n",
    "        print(i);oh=False\n",
    "        df[i]=pd.get_dummies(df[i], drop_first=True, prefix=str(i))\n",
    "    if (df[i].nunique()>2 and df[i].nunique()<17):\n",
    "        if dm==True: print(\"\\nDummy Encoding on features:\")\n",
    "        print(i);dm=False\n",
    "        df = pd.concat([df.drop([i], axis=1), pd.DataFrame(pd.get_dummies(df[i], drop_first=True, prefix=str(i)))],axis=1)\n"
   ]
  },
  {
   "cell_type": "code",
   "execution_count": 142,
   "metadata": {},
   "outputs": [
    {
     "name": "stdout",
     "output_type": "stream",
     "text": [
      "updated_num_features: ['floors', 'grade', 'bedrooms', 'bathrooms', 'house_age', 'sqft_basement', 'long', 'sqft_living15', 'sqft_above', 'sqft_living', 'lat', 'sqft_lot15', 'sqft_lot']\n",
      "upated_cat_features: ['view_4', 'view_2', 'view_1', 'condition_5', 'waterfront', 'condition_4', 'condition_3', 'condition_2', 'renovation', 'view_3']\n"
     ]
    }
   ],
   "source": [
    "# Check updated categorical features\n",
    "new_features = [i for i in df.columns if i not in ['price']]\n",
    "unique_feature_num = df[new_features].nunique().sort_values()\n",
    "updated_num_features = []\n",
    "updated_cat_features = []\n",
    "for i in range(df[new_features].shape[1]):\n",
    "    if unique_feature_num[i] <= 5:\n",
    "        updated_cat_features.append(unique_feature_num.index[i])\n",
    "    else:\n",
    "        updated_num_features.append(unique_feature_num.index[i])\n",
    "\n",
    "print(\"updated_num_features: {}\".format(updated_num_features))\n",
    "print(\"upated_cat_features: {}\".format(updated_cat_features))\n"
   ]
  },
  {
   "cell_type": "code",
   "execution_count": 143,
   "metadata": {},
   "outputs": [],
   "source": [
    "# remove outliers based on selected features\n",
    "df1 = df.copy()\n",
    "selected_features = ['price', 'sqft_living15', 'sqft_above', 'sqft_living', 'sqft_lot', 'sqft_lot15']\n",
    "for i in selected_features:\n",
    "    Q1 = df1[i].quantile(0.25)\n",
    "    Q3 = df1[i].quantile(0.75)\n",
    "    IQR = Q3 - Q1\n",
    "    df1 = df1[df1[i] <= (Q3+(2.5*IQR))]\n",
    "    df1 = df1[df1[i] >= (Q1-(2.5*IQR))]\n",
    "    df1 = df1.reset_index(drop=True)"
   ]
  },
  {
   "cell_type": "code",
   "execution_count": 144,
   "metadata": {},
   "outputs": [
    {
     "name": "stdout",
     "output_type": "stream",
     "text": [
      "<class 'pandas.core.frame.DataFrame'>\n",
      "RangeIndex: 18819 entries, 0 to 18818\n",
      "Data columns (total 24 columns):\n",
      " #   Column         Non-Null Count  Dtype  \n",
      "---  ------         --------------  -----  \n",
      " 0   price          18819 non-null  float64\n",
      " 1   bedrooms       18819 non-null  int64  \n",
      " 2   bathrooms      18819 non-null  float64\n",
      " 3   sqft_living    18819 non-null  int64  \n",
      " 4   sqft_lot       18819 non-null  int64  \n",
      " 5   floors         18819 non-null  float64\n",
      " 6   waterfront     18819 non-null  bool   \n",
      " 7   grade          18819 non-null  int64  \n",
      " 8   sqft_above     18819 non-null  int64  \n",
      " 9   sqft_basement  18819 non-null  int64  \n",
      " 10  lat            18819 non-null  float64\n",
      " 11  long           18819 non-null  float64\n",
      " 12  sqft_living15  18819 non-null  int64  \n",
      " 13  sqft_lot15     18819 non-null  int64  \n",
      " 14  renovation     18819 non-null  bool   \n",
      " 15  house_age      18819 non-null  int64  \n",
      " 16  condition_2    18819 non-null  bool   \n",
      " 17  condition_3    18819 non-null  bool   \n",
      " 18  condition_4    18819 non-null  bool   \n",
      " 19  condition_5    18819 non-null  bool   \n",
      " 20  view_1         18819 non-null  bool   \n",
      " 21  view_2         18819 non-null  bool   \n",
      " 22  view_3         18819 non-null  bool   \n",
      " 23  view_4         18819 non-null  bool   \n",
      "dtypes: bool(10), float64(5), int64(9)\n",
      "memory usage: 2.2 MB\n"
     ]
    }
   ],
   "source": [
    "df1.info()"
   ]
  },
  {
   "cell_type": "code",
   "execution_count": 145,
   "metadata": {},
   "outputs": [
    {
     "data": {
      "text/plain": [
       "'price ~ bedrooms + bathrooms + sqft_living + sqft_lot + floors + waterfront + grade + sqft_above + sqft_basement + lat + long + sqft_living15 + sqft_lot15 + renovation + house_age + condition_2 + condition_3 + condition_4 + condition_5 + view_1 + view_2 + view_3 + view_4'"
      ]
     },
     "execution_count": 145,
     "metadata": {},
     "output_type": "execute_result"
    }
   ],
   "source": [
    "selected = list(df1.columns.values)[1:]\n",
    "selected = ' + '.join(selected)\n",
    "selected = \"price ~ \" + selected\n",
    "selected"
   ]
  },
  {
   "cell_type": "code",
   "execution_count": 146,
   "metadata": {},
   "outputs": [
    {
     "name": "stdout",
     "output_type": "stream",
     "text": [
      "                            OLS Regression Results                            \n",
      "==============================================================================\n",
      "Dep. Variable:                  price   R-squared:                       0.618\n",
      "Model:                            OLS   Adj. R-squared:                  0.618\n",
      "Method:                 Least Squares   F-statistic:                     3382.\n",
      "Date:                Tue, 11 Jul 2023   Prob (F-statistic):               0.00\n",
      "Time:                        08:41:30   Log-Likelihood:            -2.5051e+05\n",
      "No. Observations:               18819   AIC:                         5.010e+05\n",
      "Df Residuals:                   18809   BIC:                         5.011e+05\n",
      "Df Model:                           9                                         \n",
      "Covariance Type:            nonrobust                                         \n",
      "=================================================================================\n",
      "                    coef    std err          t      P>|t|      [0.025      0.975]\n",
      "---------------------------------------------------------------------------------\n",
      "Intercept     -4.277e+07   1.21e+06    -35.249      0.000   -4.51e+07   -4.04e+07\n",
      "bathrooms      3.922e+04   2472.799     15.859      0.000    3.44e+04    4.41e+04\n",
      "house_age      1701.4493     47.782     35.609      0.000    1607.792    1795.106\n",
      "sqft_basement    29.1135      1.977     14.725      0.000      25.238      32.989\n",
      "long          -1.143e+05   9601.268    -11.907      0.000   -1.33e+05   -9.55e+04\n",
      "sqft_living15   110.9121      2.859     38.788      0.000     105.307     116.517\n",
      "sqft_above       57.1565      1.680     34.012      0.000      53.863      60.450\n",
      "sqft_living      86.2717      1.801     47.899      0.000      82.741      89.802\n",
      "lat            6.032e+05   8105.843     74.416      0.000    5.87e+05    6.19e+05\n",
      "sqft_lot15       -3.4397      0.649     -5.302      0.000      -4.711      -2.168\n",
      "sqft_lot         -3.1277      0.553     -5.658      0.000      -4.211      -2.044\n",
      "==============================================================================\n",
      "Omnibus:                     3596.029   Durbin-Watson:                   1.994\n",
      "Prob(Omnibus):                  0.000   Jarque-Bera (JB):            10098.177\n",
      "Skew:                           1.017   Prob(JB):                         0.00\n",
      "Kurtosis:                       5.957   Cond. No.                     3.14e+16\n",
      "==============================================================================\n",
      "\n",
      "Notes:\n",
      "[1] Standard Errors assume that the covariance matrix of the errors is correctly specified.\n",
      "[2] The smallest eigenvalue is 2.65e-21. This might indicate that there are\n",
      "strong multicollinearity problems or that the design matrix is singular.\n"
     ]
    }
   ],
   "source": [
    "# results_1 = ols(\"price ~ waterfront + view + condition + grade\", data=df).fit()\n",
    "results_1 = ols(\"price ~ bathrooms + house_age + sqft_basement + long + sqft_living15 + sqft_above + sqft_living + lat + sqft_lot15 + sqft_lot\", data=df1).fit()\n",
    "print(results_1.summary())"
   ]
  },
  {
   "cell_type": "code",
   "execution_count": 147,
   "metadata": {},
   "outputs": [],
   "source": [
    "# Data split\n",
    "TARGET = ['price']\n",
    "X_train, X_test, y_train, y_test = train_test_split(df1[updated_num_features + updated_cat_features]\n",
    "                                                    ,df1[TARGET],\n",
    "                                                    test_size = 0.3, random_state=1234)\n"
   ]
  },
  {
   "cell_type": "code",
   "execution_count": 148,
   "metadata": {},
   "outputs": [],
   "source": [
    "cat_transformer = Pipeline(steps = [('onehot', OneHotEncoder(handle_unknown='ignore'))])\n",
    "num_transformer = Pipeline(steps = [('scaler', StandardScaler())])\n",
    "\n",
    "preprocessor = ColumnTransformer(transformers = [('cat',cat_transformer, updated_cat_features),\n",
    "                                                 ('num', num_transformer, updated_num_features)])"
   ]
  },
  {
   "cell_type": "code",
   "execution_count": 149,
   "metadata": {},
   "outputs": [
    {
     "name": "stdout",
     "output_type": "stream",
     "text": [
      "regressor: LinearRegression\n",
      "128479.62233349563\n"
     ]
    },
    {
     "name": "stderr",
     "output_type": "stream",
     "text": [
      "C:\\Users\\lifen\\AppData\\Local\\Packages\\PythonSoftwareFoundation.Python.3.11_qbz5n2kfra8p0\\LocalCache\\local-packages\\Python311\\site-packages\\sklearn\\linear_model\\_coordinate_descent.py:631: ConvergenceWarning: Objective did not converge. You might want to increase the number of iterations, check the scale of the features or consider increasing regularisation. Duality gap: 3.524e+13, tolerance: 7.304e+10\n",
      "  model = cd_fast.enet_coordinate_descent(\n"
     ]
    },
    {
     "name": "stdout",
     "output_type": "stream",
     "text": [
      "regressor: Lasso\n",
      "128514.34803906898\n",
      "regressor: ElasticNet\n",
      "134085.02642817041\n"
     ]
    },
    {
     "name": "stderr",
     "output_type": "stream",
     "text": [
      "C:\\Users\\lifen\\AppData\\Local\\Packages\\PythonSoftwareFoundation.Python.3.11_qbz5n2kfra8p0\\LocalCache\\local-packages\\Python311\\site-packages\\sklearn\\pipeline.py:405: DataConversionWarning: A column-vector y was passed when a 1d array was expected. Please change the shape of y to (n_samples,), for example using ravel().\n",
      "  self._final_estimator.fit(Xt, y, **fit_params_last_step)\n"
     ]
    },
    {
     "name": "stdout",
     "output_type": "stream",
     "text": [
      "regressor: RandomForest\n",
      "89616.50758990529\n"
     ]
    }
   ],
   "source": [
    "regressors = ['LinearRegression', 'Lasso', 'ElasticNet', 'RandomForest']\n",
    "for reg in regressors:\n",
    "    if reg == 'LinearRegression':\n",
    "        regressor = LinearRegression()\n",
    "    elif reg == 'Lasso':\n",
    "        regressor = Lasso(alpha=1.0)\n",
    "    elif reg == 'ElasticNet':\n",
    "        regressor = ElasticNet(alpha=1.0, l1_ratio=0.8)\n",
    "    elif reg == 'RandomForest':\n",
    "        regressor = RandomForestRegressor(n_estimators=10)\n",
    "\n",
    "    reg_model = Pipeline(steps = [\n",
    "        ('preprocessor', preprocessor),\n",
    "        ('regressor', regressor)\n",
    "    ])\n",
    "\n",
    "    reg_model.fit(X_train, y_train)\n",
    "    pred = reg_model.predict(X_test)\n",
    "    msqrt = np.sqrt(mean_squared_error(pred,y_test))\n",
    "    print(\"regressor: {}\".format(reg))\n",
    "    print(msqrt)"
   ]
  },
  {
   "cell_type": "code",
   "execution_count": null,
   "metadata": {},
   "outputs": [],
   "source": []
  }
 ],
 "metadata": {
  "kernelspec": {
   "display_name": "Python 3",
   "language": "python",
   "name": "python3"
  },
  "language_info": {
   "codemirror_mode": {
    "name": "ipython",
    "version": 3
   },
   "file_extension": ".py",
   "mimetype": "text/x-python",
   "name": "python",
   "nbconvert_exporter": "python",
   "pygments_lexer": "ipython3",
   "version": "3.11.3"
  }
 },
 "nbformat": 4,
 "nbformat_minor": 4
}
