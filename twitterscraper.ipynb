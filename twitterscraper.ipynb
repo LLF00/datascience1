{
 "cells": [
  {
   "cell_type": "code",
   "execution_count": 13,
   "id": "e6801975",
   "metadata": {},
   "outputs": [],
   "source": [
    "import time\n",
    "import pandas as pd\n",
    "from selenium import webdriver\n",
    "from selenium.webdriver.common.by import By\n",
    "from selenium.webdriver.common.keys import Keys\n",
    "from selenium.webdriver.support.ui import WebDriverWait\n",
    "from selenium.webdriver.support import expected_conditions as EC"
   ]
  },
  {
   "cell_type": "markdown",
   "id": "a46adb50",
   "metadata": {},
   "source": [
    "# Make sure the following values are correct before run this script"
   ]
  },
  {
   "cell_type": "markdown",
   "id": "ef1534db",
   "metadata": {},
   "source": [
    "- **User name and password**"
   ]
  },
  {
   "cell_type": "code",
   "execution_count": 14,
   "id": "4d0ca05f",
   "metadata": {},
   "outputs": [],
   "source": [
    "username = 'Your Twitter USERNAME'\n",
    "password = 'Your_password'"
   ]
  },
  {
   "cell_type": "markdown",
   "id": "c4c348fd",
   "metadata": {},
   "source": [
    "- **Maximum tweets**"
   ]
  },
  {
   "cell_type": "code",
   "execution_count": 15,
   "id": "0592a4b9",
   "metadata": {},
   "outputs": [],
   "source": [
    "max_tweets = 100"
   ]
  },
  {
   "cell_type": "markdown",
   "id": "eb9edbe9",
   "metadata": {},
   "source": [
    "- **SEARCH KEY WORDS**"
   ]
  },
  {
   "cell_type": "code",
   "execution_count": 16,
   "id": "4e3d45ac",
   "metadata": {},
   "outputs": [],
   "source": [
    "topic = 'CIBC Wealth Management'"
   ]
  },
  {
   "cell_type": "markdown",
   "id": "ef0e6f5f",
   "metadata": {},
   "source": [
    "- OUTPUT NAME"
   ]
  },
  {
   "cell_type": "code",
   "execution_count": 17,
   "id": "67f7c5b2",
   "metadata": {},
   "outputs": [],
   "source": [
    "output = 'sample_tweets.csv'"
   ]
  },
  {
   "cell_type": "markdown",
   "id": "e2e8a4b4",
   "metadata": {},
   "source": [
    "## Browser options"
   ]
  },
  {
   "cell_type": "code",
   "execution_count": 18,
   "id": "f056821b",
   "metadata": {},
   "outputs": [],
   "source": [
    "options = webdriver.FirefoxOptions()\n",
    "options.add_argument('--headless')"
   ]
  },
  {
   "cell_type": "code",
   "execution_count": 19,
   "id": "19cf2f59",
   "metadata": {},
   "outputs": [],
   "source": [
    "def scroll_down(browser):\n",
    "    browser.execute_script(\"window.scrollTo(0, document.body.scrollHeight);\")\n",
    "    time.sleep(2)"
   ]
  },
  {
   "cell_type": "code",
   "execution_count": 20,
   "id": "85f832a7",
   "metadata": {},
   "outputs": [],
   "source": [
    "def start_twitter_search():\n",
    "    with webdriver.Firefox(options=options) as browser:\n",
    "        url = 'https://twitter.com/'\n",
    "        browser.get(url)\n",
    "\n",
    "        wait = WebDriverWait(browser, 10)\n",
    "\n",
    "        login_button = wait.until(EC.presence_of_element_located((By.XPATH, '//a[@href=\"/login\"]')))\n",
    "        login_button.click()\n",
    "\n",
    "        username_input = wait.until(EC.presence_of_element_located((By.XPATH, './/input[@name=\"text\"]')))\n",
    "        username_input.send_keys(username)\n",
    "        username_input.send_keys(Keys.RETURN)\n",
    "\n",
    "        time.sleep(3)\n",
    "\n",
    "        password_input = wait.until(EC.presence_of_element_located((By.XPATH, './/input[@name=\"password\"]')))\n",
    "        password_input.send_keys(password)\n",
    "        password_input.send_keys(Keys.RETURN)\n",
    "\n",
    "        wait.until(EC.presence_of_element_located((By.XPATH, '//input[@enterkeyhint=\"search\"]')))\n",
    "\n",
    "        search_input = browser.find_element(By.XPATH, '//input[@enterkeyhint=\"search\"]')\n",
    "        search_input.send_keys(topic)\n",
    "        search_input.send_keys(Keys.RETURN)\n",
    "\n",
    "        current_tweets = 0\n",
    "        user_data = []\n",
    "        text_data = []\n",
    "        time_data = []\n",
    "\n",
    "        while current_tweets < max_tweets:\n",
    "\n",
    "            for _ in range(5):\n",
    "                scroll_down(browser)\n",
    "\n",
    "            tweets = wait.until(EC.presence_of_all_elements_located((By.XPATH, '//article[@role=\"article\"]')))\n",
    "\n",
    "            for tweet in tweets:\n",
    "                try:\n",
    "                    user = tweet.find_element(By.XPATH, './/span[contains(text(), \"@\")]').text\n",
    "                    text = tweet.find_element(By.XPATH, \".//div[@lang]\").text\n",
    "                    tweet_time = tweet.find_element(By.XPATH, \".//time\").get_attribute(\"datetime\")\n",
    "\n",
    "                    tweets_data = [user, text, tweet_time]\n",
    "                except Exception as e:\n",
    "                    print(f\"Error extracting tweet: {e}\")\n",
    "                    tweets_data = ['user', 'text', \"time\"]\n",
    "\n",
    "                user_data.append(tweets_data[0])\n",
    "                text_data.append(\" \".join(tweets_data[1].split()))\n",
    "                time_data.append(tweets_data[2])\n",
    "\n",
    "                current_tweets += 1\n",
    "\n",
    "            print(f\"Scraped {current_tweets} tweets\")\n",
    "\n",
    "            if current_tweets >= max_tweets:\n",
    "                break\n",
    "\n",
    "        df = pd.DataFrame({'user': user_data, 'text': text_data, 'time': time_data})\n",
    "        df.to_csv(output, index=False)\n",
    "        print(f\"Total {current_tweets} tweets scraped\")"
   ]
  },
  {
   "cell_type": "code",
   "execution_count": 21,
   "id": "67e0cf27",
   "metadata": {},
   "outputs": [],
   "source": [
    "def main():\n",
    "    start_twitter_search()"
   ]
  },
  {
   "cell_type": "code",
   "execution_count": 22,
   "id": "592edd9d",
   "metadata": {
    "scrolled": true
   },
   "outputs": [
    {
     "name": "stdout",
     "output_type": "stream",
     "text": [
      "Scraped 16 tweets\n",
      "Scraped 37 tweets\n",
      "Scraped 46 tweets\n",
      "Scraped 55 tweets\n",
      "Scraped 64 tweets\n",
      "Scraped 73 tweets\n",
      "Scraped 82 tweets\n",
      "Scraped 91 tweets\n",
      "Scraped 100 tweets\n",
      "Total 100 tweets scraped\n"
     ]
    }
   ],
   "source": [
    "if __name__ == \"__main__\":\n",
    "   main()"
   ]
  },
  {
   "cell_type": "code",
   "execution_count": null,
   "id": "c7db179e",
   "metadata": {},
   "outputs": [],
   "source": []
  }
 ],
 "metadata": {
  "kernelspec": {
   "display_name": "Python 3 (ipykernel)",
   "language": "python",
   "name": "python3"
  },
  "language_info": {
   "codemirror_mode": {
    "name": "ipython",
    "version": 3
   },
   "file_extension": ".py",
   "mimetype": "text/x-python",
   "name": "python",
   "nbconvert_exporter": "python",
   "pygments_lexer": "ipython3",
   "version": "3.10.9"
  }
 },
 "nbformat": 4,
 "nbformat_minor": 5
}
