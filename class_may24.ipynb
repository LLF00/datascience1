{
 "cells": [
  {
   "cell_type": "code",
   "execution_count": 2,
   "metadata": {},
   "outputs": [],
   "source": [
    "import pandas as pd\n",
    "import numpy as np\n",
    "import matplotlib.pyplot as plt\n",
    "import seaborn as sns"
   ]
  },
  {
   "cell_type": "code",
   "execution_count": 11,
   "metadata": {},
   "outputs": [],
   "source": [
    "list1 = [1,89,87,65,34,98,87,65]"
   ]
  },
  {
   "attachments": {},
   "cell_type": "markdown",
   "metadata": {},
   "source": [
    "The len() function returnsthe number of items in an object. def -- define"
   ]
  },
  {
   "attachments": {},
   "cell_type": "markdown",
   "metadata": {},
   "source": [
    "*  /  //  %\tMultiplication, division, floor division, and modulus.向下取整除法"
   ]
  },
  {
   "cell_type": "code",
   "execution_count": 12,
   "metadata": {},
   "outputs": [
    {
     "data": {
      "text/plain": [
       "65.75"
      ]
     },
     "execution_count": 12,
     "metadata": {},
     "output_type": "execute_result"
    }
   ],
   "source": [
    "def mean(x):\n",
    "    return sum(x)/len(x)\n",
    "\n",
    "mean(list1)"
   ]
  },
  {
   "cell_type": "code",
   "execution_count": 14,
   "metadata": {},
   "outputs": [
    {
     "name": "stdout",
     "output_type": "stream",
     "text": [
      "[1, 89, 87, 65, 34, 98, 87, 65]\n"
     ]
    }
   ],
   "source": [
    "print(list1)"
   ]
  },
  {
   "attachments": {},
   "cell_type": "markdown",
   "metadata": {},
   "source": [
    "sort() means acceding order of x. %2 means len()divided by 2 then remainder what"
   ]
  },
  {
   "cell_type": "code",
   "execution_count": 16,
   "metadata": {},
   "outputs": [
    {
     "name": "stdout",
     "output_type": "stream",
     "text": [
      "[1, 89, 87, 65, 34, 98, 87, 65]\n",
      "[1, 34, 65, 65, 87, 87, 89, 98]\n",
      "[1, 89, 87, 65, 34, 98, 87, 65]\n"
     ]
    },
    {
     "data": {
      "text/plain": [
       "49.5"
      ]
     },
     "execution_count": 16,
     "metadata": {},
     "output_type": "execute_result"
    }
   ],
   "source": [
    "def median(x):\n",
    "    print(x)\n",
    "    s_x = sorted(x)\n",
    "    print(s_x)\n",
    "    print(x)                 #sorted does not change the original X\n",
    "    if len(x)%2 == 0:\n",
    "          med = (x[(len(x)//2)]+x[(len(x)//2)-1])/2\n",
    "    else:\n",
    "        med = x[len(x)//2]\n",
    "        \n",
    "    return med\n",
    "    \n",
    "median(list1)"
   ]
  },
  {
   "cell_type": "code",
   "execution_count": 20,
   "metadata": {},
   "outputs": [
    {
     "name": "stdout",
     "output_type": "stream",
     "text": [
      "[1, 34, 65, 65, 87, 87, 89, 98]\n",
      "87 65\n",
      "[1, 3, 34, 65, 87, 89, 98, 99]\n",
      "87 65\n",
      "76.0\n"
     ]
    }
   ],
   "source": [
    "def median(x):\n",
    "    x.sort()    # x.sort() changes the original X\n",
    "    print(x)\n",
    "    if len(x)%2 == 0:\n",
    "        num1 = x[len(x) // 2]             #inedxing 0\n",
    "        num2 = x[len(x)//2 - 1]           #indexing 0 , so -1\n",
    "        print(num1, num2)\n",
    "        med = (x[(len(x)//2)]+x[(len(x)//2)-1])/2\n",
    "    else:\n",
    "        med = x[len(x)//2]\n",
    "\n",
    "    return med  # return med means return the result from function\n",
    "    \n",
    "median(list1)\n",
    "\n",
    "\n",
    "test = [89, 87, 65, 34, 98, 1, 99, 3]\n",
    "test_median = median(test)\n",
    "print(test_median)"
   ]
  },
  {
   "attachments": {},
   "cell_type": "markdown",
   "metadata": {},
   "source": [
    "Suppose we want to keep a running total of a few numbers. We could do so using the += assignment operator, like this:\n",
    "\n",
    "a = 10;\n",
    "a += 7.5;\n",
    "print(a);  \n",
    "a = 17.5"
   ]
  },
  {
   "cell_type": "code",
   "execution_count": 7,
   "metadata": {},
   "outputs": [
    {
     "data": {
      "text/plain": [
       "[65, 87]"
      ]
     },
     "execution_count": 7,
     "metadata": {},
     "output_type": "execute_result"
    }
   ],
   "source": [
    "def mode(x):\n",
    "    freq_dict = {}     #() is set [] is array {} is dictionary&tuple/pair\n",
    "    for i in x:\n",
    "        if i in freq_dict:\n",
    "            freq_dict[i] += 1\n",
    "        else:\n",
    "            freq_dict[i] = 1\n",
    "\n",
    "    # Find the mode(s)\n",
    "    max_freq = max(freq_dict.values())\n",
    "    modes = [k for k, v in freq_dict.items() if v == max_freq]\n",
    "    \n",
    "    return modes\n",
    "mode(list1)"
   ]
  },
  {
   "attachments": {},
   "cell_type": "markdown",
   "metadata": {},
   "source": [
    "dictionary{}  is  a key:value pair frame. Key is unique. value can be repeatable"
   ]
  },
  {
   "cell_type": "code",
   "execution_count": 23,
   "metadata": {},
   "outputs": [
    {
     "name": "stdout",
     "output_type": "stream",
     "text": [
      "[3]\n"
     ]
    }
   ],
   "source": [
    "\n",
    "def mode_2(input_array):\n",
    "    freq_dict = {}\n",
    "    for value in input_array:\n",
    "        if value in freq_dict:\n",
    "            freq_dict[value] += 1\n",
    "        else:\n",
    "            freq_dict[value] = 1\n",
    "    max_freq = max(freq_dict.values())\n",
    "    # find value that has max_freq:\n",
    "    modes = []\n",
    "    for key, value in freq_dict.items():\n",
    "        if value == max_freq:\n",
    "            modes.append(value)\n",
    "    print(modes)\n",
    "    return modes\n",
    " \n",
    "input_array = [3,5,3,5,3]        \n",
    "array_mode = mode_2(input_array)        \n",
    "    "
   ]
  },
  {
   "attachments": {},
   "cell_type": "markdown",
   "metadata": {},
   "source": [
    "iqr = interquartile range. \n",
    "def is the keyword for defining a function. "
   ]
  },
  {
   "cell_type": "code",
   "execution_count": 8,
   "metadata": {},
   "outputs": [
    {
     "data": {
      "text/plain": [
       "[1, 65, 87, 89]"
      ]
     },
     "execution_count": 8,
     "metadata": {},
     "output_type": "execute_result"
    }
   ],
   "source": [
    "def iqr(x):\n",
    "    x.sort()\n",
    "    first_quartile_val = min(x)\n",
    "    second_quartile_val = x[len(x)//4]\n",
    "    third_quartile_val = x[(len(x)//4) * 2]\n",
    "    fourth_quartile_val = x[(len(x)//4) * 3]\n",
    "    list_quartiles = [first_quartile_val, second_quartile_val, third_quartile_val, fourth_quartile_val]\n",
    "\n",
    "    return list_quartiles\n",
    "\n",
    "iqr(list1)"
   ]
  },
  {
   "attachments": {},
   "cell_type": "markdown",
   "metadata": {},
   "source": [
    "iqr range = max - second"
   ]
  },
  {
   "cell_type": "code",
   "execution_count": 24,
   "metadata": {},
   "outputs": [
    {
     "name": "stdout",
     "output_type": "stream",
     "text": [
      "24\n"
     ]
    }
   ],
   "source": [
    "iqr_range = iqr(list1)[-1] - iqr(list1)[1]\n",
    "print(iqr_range)"
   ]
  },
  {
   "cell_type": "code",
   "execution_count": 29,
   "metadata": {},
   "outputs": [],
   "source": [
    "negative_skew = [1, 1, 1, 2, 2, 3, 3, 3, 3, 4, 4, 4, 4, 4, 5, 5, 5, 5, 5, 5]\n",
    "positive_skew = [2, 2, 2, 2, 2, 3, 3, 3, 3, 4, 4, 4, 4, 5, 5, 5, 6, 6, 6, 6]\n",
    "zero_skew = [1, 2, 2, 2, 3, 3, 3, 3, 4, 4, 4, 4, 4, 5, 5, 5, 5,  6, 6, 6, 6, 7, 7, 7, 7, 8, 8, 8, 9]\n",
    "mesokurtic = [30, 31, 35, 33, 36, 37, 45, 46, 47, 48, 49, 50, 50, 51, 51, 52, 52, 53, 53, 54, 54, 55, 55, 55, 56, 55, 56, 75, 78, 43, 45, 56, 56, 57, 57, 57, 58, 58, 58, 59, 59, 59, 60, 60, 60, 61, 61, 61, 62, 62, 62, 63, 63, 63, 64, 64, 64, 65, 65, 65, 66, 66, 66, 67, 67, 67, 68, 68, 68, 69, 69, 69, 70, 70, 70, 71, 71, 71, 72, 72, 72, 73, 63, 73, 74, 74, 74, 63, 75, 75, 76, 76, 76, 64, 77, 64, 78, 65, 65, 79, 79, 79, 80, 80, 65, 81, 82, 82, 83, 83,90, 91, 92, 93, 90, 91, 92, 95, 100]\n",
    "leptokurtic = [20, 20, 22, 25, 28, 30, 42, 45, 47, 49, 50, 50, 50, 50, 51, 51, 51, 51, 52, 52, 52, 52, 52, 52, 52, 52, 53, 53, 53, 53, 53, 53, 53, 53, 54, 54, 54, 54, 54, 54, 54, 54, 55, 55, 55, 55, 55, 55, 55, 55, 56, 56, 56, 56, 56, 56, 56, 56, 57, 57, 57, 57, 57, 57, 57, 57, 58, 58, 58, 58, 59, 59, 61, 63, 65, 67, 69, 70, 72, 75, 78, 80, 82, 85, 88, 90, 92, 95, 98, 100]\n",
    "platykurtic = [38, 40, 42, 44, 46, 48, 50, 51, 52, 53, 54, 55, 56, 57, 58, 59, 60, 61, 62, 63, 64, 65, 66, 67, 68, 69, 70, 71, 72, 73, 74, 75, 76, 77, 78, 79, 80, 81, 82, 83, 84, 85, 86, 87, 88, 89, 90, 91, 92, 93, 94, 95, 96, 97, 98, 99, 100, 101, 102, 103, 104, 105, 106, 108, 110, 112, 114, 116, 118, 120, 122, 124, 126, 128, 130, 132, 134, 136, 138, 140, 142, 144, 146, 148, 150, 152, 154, 156, 158, 160]"
   ]
  },
  {
   "cell_type": "code",
   "execution_count": 26,
   "metadata": {},
   "outputs": [],
   "source": [
    "# Calculating Kurtosis\n",
    "# Class 2 pdf p14\n",
    "\n",
    "import math\n",
    "\n",
    "def kurtosis(data):\n",
    "    n = len(data)\n",
    "    mean = sum(data) / n\n",
    "    variance = sum((x - mean) ** 2 for x in data) / n    # for x in dasta means calculate every x in data\n",
    "    std_dev = math.sqrt(variance)\n",
    "    \n",
    "    kurtosis = sum((x - mean) ** 4 for x in data) / (n * std_dev ** 4) - 3\n",
    "    return kurtosis"
   ]
  },
  {
   "cell_type": "code",
   "execution_count": 30,
   "metadata": {},
   "outputs": [
    {
     "name": "stdout",
     "output_type": "stream",
     "text": [
      "Leptokurtic Distribution:  1.9957859751689853\n",
      "Mesokurtic Distribution:  0.1448368495077883\n",
      "Platykurtic Distribution:  -0.843250669215688\n"
     ]
    }
   ],
   "source": [
    "print(\"Leptokurtic Distribution: \", kurtosis(leptokurtic))\n",
    "print(\"Mesokurtic Distribution: \", kurtosis(mesokurtic))\n",
    "print(\"Platykurtic Distribution: \", kurtosis(platykurtic))"
   ]
  },
  {
   "attachments": {},
   "cell_type": "markdown",
   "metadata": {},
   "source": [
    "用scipy验证kurtosis是否一致"
   ]
  },
  {
   "cell_type": "code",
   "execution_count": 31,
   "metadata": {},
   "outputs": [
    {
     "name": "stdout",
     "output_type": "stream",
     "text": [
      "Leptokurtic Distribution (scipy):  1.9957859751689844\n",
      "Mesokurtic Distribution (scipy):  0.14483684950778608\n",
      "Platykurtic Distribution (scipy):  -0.8432506692156885\n"
     ]
    }
   ],
   "source": [
    "import scipy.stats\n",
    "\n",
    "# fisher=True means it calculates excess kurtosis\n",
    "print(\"Leptokurtic Distribution (scipy): \", scipy.stats.kurtosis(leptokurtic, fisher=True))\n",
    "print(\"Mesokurtic Distribution (scipy): \", scipy.stats.kurtosis(mesokurtic, fisher=True))\n",
    "print(\"Platykurtic Distribution (scipy): \", scipy.stats.kurtosis(platykurtic, fisher=True))"
   ]
  },
  {
   "cell_type": "code",
   "execution_count": 33,
   "metadata": {},
   "outputs": [],
   "source": [
    "# calculate skewness of a data set\n",
    "# class 2 pdf p14\n",
    "def skewness(data):\n",
    "    n = len(data)\n",
    "    mean = sum(data) / n\n",
    "    variance = sum((x - mean) ** 2 for x in data) / n\n",
    "    std_dev = math.sqrt(variance)\n",
    "    \n",
    "    skewness = sum((x - mean) ** 3 for x in data) / (n * std_dev ** 3)\n",
    "    return skewness"
   ]
  },
  {
   "cell_type": "code",
   "execution_count": 34,
   "metadata": {},
   "outputs": [
    {
     "name": "stdout",
     "output_type": "stream",
     "text": [
      "Positive Skew Distribution:  0.16459021864868792\n",
      "Negative Skew Distribution:  -0.5041776750367143\n",
      "Zero Skew Distribution:  0.04568039890548256\n"
     ]
    }
   ],
   "source": [
    "print(\"Positive Skew Distribution: \", skewness(positive_skew))\n",
    "print(\"Negative Skew Distribution: \", skewness(negative_skew))\n",
    "print(\"Zero Skew Distribution: \", skewness(zero_skew))"
   ]
  },
  {
   "cell_type": "code",
   "execution_count": 36,
   "metadata": {},
   "outputs": [
    {
     "name": "stdout",
     "output_type": "stream",
     "text": [
      "Positive Skew Distribution (scipy):  0.1645902186486881\n",
      "Negative Skew Distribution (scipy):  -0.5041776750367145\n",
      "Zero Skew Distribution (scipy):  0.04568039890548258\n"
     ]
    }
   ],
   "source": [
    "print(\"Positive Skew Distribution (scipy): \", scipy.stats.skew(positive_skew))\n",
    "print(\"Negative Skew Distribution (scipy): \", scipy.stats.skew(negative_skew))\n",
    "print(\"Zero Skew Distribution (scipy): \", scipy.stats.skew(zero_skew))"
   ]
  },
  {
   "cell_type": "code",
   "execution_count": 37,
   "metadata": {},
   "outputs": [],
   "source": [
    "x = [1, 2, 3, 4, 5]\n",
    "y = [2, 3, 5, 7, 11]"
   ]
  },
  {
   "cell_type": "code",
   "execution_count": 38,
   "metadata": {},
   "outputs": [
    {
     "name": "stdout",
     "output_type": "stream",
     "text": [
      "0.9722718241315029\n"
     ]
    }
   ],
   "source": [
    "def pearson_correlation(x, y):\n",
    "    n = len(x)\n",
    "    sum_x = float(sum(x))\n",
    "    sum_y = float(sum(y))\n",
    "    sum_x_sq = sum(xi*xi for xi in x)\n",
    "    sum_y_sq = sum(yi*yi for yi in y)\n",
    "    psum = sum(xi*yi for xi, yi in zip(x, y))\n",
    "    num = psum - (sum_x * sum_y/n)\n",
    "    den = pow((sum_x_sq - pow(sum_x, 2) / n) * (sum_y_sq - pow(sum_y, 2) / n), 0.5)\n",
    "    if den == 0: return 0\n",
    "    return num / den\n",
    "print(pearson_correlation(x, y))\n",
    "\n",
    "#correlation between [-1,1]"
   ]
  }
 ],
 "metadata": {
  "kernelspec": {
   "display_name": "Python 3",
   "language": "python",
   "name": "python3"
  },
  "language_info": {
   "codemirror_mode": {
    "name": "ipython",
    "version": 3
   },
   "file_extension": ".py",
   "mimetype": "text/x-python",
   "name": "python",
   "nbconvert_exporter": "python",
   "pygments_lexer": "ipython3",
   "version": "3.11.3"
  },
  "orig_nbformat": 4
 },
 "nbformat": 4,
 "nbformat_minor": 2
}
