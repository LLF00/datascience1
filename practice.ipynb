{
 "cells": [
  {
   "cell_type": "code",
   "execution_count": 2,
   "metadata": {},
   "outputs": [],
   "source": [
    "import pandas as pd\n",
    "import seaborn as sns\n",
    "import numpy as np\n",
    "import matplotlib.pyplot as plt"
   ]
  },
  {
   "cell_type": "code",
   "execution_count": 4,
   "metadata": {},
   "outputs": [],
   "source": [
    "df = pd.read_csv(r'D:\\5.MBAN6110 Data Science I\\purchases.csv')"
   ]
  },
  {
   "cell_type": "code",
   "execution_count": 5,
   "metadata": {},
   "outputs": [
    {
     "name": "stdout",
     "output_type": "stream",
     "text": [
      "<class 'pandas.core.frame.DataFrame'>\n",
      "RangeIndex: 9747 entries, 0 to 9746\n",
      "Data columns (total 12 columns):\n",
      " #   Column                    Non-Null Count  Dtype  \n",
      "---  ------                    --------------  -----  \n",
      " 0   index                     9747 non-null   int64  \n",
      " 1   complaints                9747 non-null   int64  \n",
      " 2   transactions_ytd          9747 non-null   int64  \n",
      " 3   avg_tr_amt                9746 non-null   float64\n",
      " 4   time_on_site              9743 non-null   float64\n",
      " 5   total_discounts           9744 non-null   float64\n",
      " 6   num_reviews               9747 non-null   int64  \n",
      " 7   avg_review                9747 non-null   float64\n",
      " 8   returns                   9746 non-null   float64\n",
      " 9   latest_review             9747 non-null   int64  \n",
      " 10  num_total_purchases       9747 non-null   int64  \n",
      " 11  purchase_made_last_month  9747 non-null   object \n",
      "dtypes: float64(5), int64(6), object(1)\n",
      "memory usage: 913.9+ KB\n"
     ]
    }
   ],
   "source": [
    "df.info()"
   ]
  },
  {
   "cell_type": "code",
   "execution_count": null,
   "metadata": {},
   "outputs": [],
   "source": []
  }
 ],
 "metadata": {
  "kernelspec": {
   "display_name": "Python 3",
   "language": "python",
   "name": "python3"
  },
  "language_info": {
   "codemirror_mode": {
    "name": "ipython",
    "version": 3
   },
   "file_extension": ".py",
   "mimetype": "text/x-python",
   "name": "python",
   "nbconvert_exporter": "python",
   "pygments_lexer": "ipython3",
   "version": "3.11.3"
  },
  "orig_nbformat": 4
 },
 "nbformat": 4,
 "nbformat_minor": 2
}
