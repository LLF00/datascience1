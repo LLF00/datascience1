{
 "cells": [
  {
   "cell_type": "code",
   "execution_count": 4,
   "metadata": {},
   "outputs": [],
   "source": [
    "import pandas as pd\n",
    "import datetime"
   ]
  },
  {
   "cell_type": "code",
   "execution_count": 5,
   "metadata": {},
   "outputs": [],
   "source": [
    "def calculate_week_of_month(date):\n",
    "    first_day_of_month = date + pd.to_timedelta(f'-{date.day} days')\n",
    "    return (date - first_day_of_month).days // 7 + 1"
   ]
  },
  {
   "cell_type": "code",
   "execution_count": 6,
   "metadata": {},
   "outputs": [],
   "source": [
    "def process_csv(input_file, output_file):\n",
    "    df = pd.read_csv(input_file)\n",
    "\n",
    "    df.fillna(method='ffill', inplace=True)\n",
    "\n",
    "    df['start_date'] = pd.to_datetime(df['Event Start Read Date'])\n",
    "\n",
    "    df['end_date'] = pd.to_datetime(df['Event Stop Read Date'])\n",
    "\n",
    "    df['duration_days'] = (df['end_date'] - df['start_date']).dt.days + 1\n",
    "\n",
    "    # Create a new DataFrame to store the updated data\n",
    "    new_df = []\n",
    "    for index, row in df.iterrows():\n",
    "        start_date = row['start_date']\n",
    "        end_date = row['end_date']\n",
    "        days = row['duration_days']\n",
    "        average = row['Avg Daily Flow (Event)']\n",
    "        week_of_month = calculate_week_of_month(start_date)\n",
    "\n",
    "        for day in range(days):\n",
    "            new_row = {\n",
    "                'Cycle/Route': row['Cycle/Route'],\n",
    "                'Address': row['Address'],\n",
    "                'MIU ID': row['MIU ID'],\n",
    "                'Meter Number': row['Meter Number'],\n",
    "                'Meter Size': row['Meter Size'],\n",
    "                'Event Start Read Date': start_date + pd.to_timedelta(f'{day} days'),\n",
    "                'Event Stop Read Date': start_date + pd.to_timedelta(f'{day} days'),\n",
    "                'Days': 1,\n",
    "                'Avg Daily Flow (Event)': row['Avg Daily Flow (Event)'],\n",
    "                'Avg Daily Flow (Prior)': row['Avg Daily Flow (Prior)'],\n",
    "                'UOM': row['UOM'],\n",
    "                'Last Read Date': row['Last Read Date'],\n",
    "                'Week of Month': week_of_month,\n",
    "                'Day of Week': (start_date + pd.to_timedelta(f'{day} days')).strftime('%A')\n",
    "            }\n",
    "            new_df.append(new_row)\n",
    "\n",
    "    new_df = pd.DataFrame(new_df)\n",
    "    new_df.to_csv(output_file, index=False)\n",
    "\n",
    "def main():\n",
    "    input_file = r\"D:\\water\\Route 35 csv- July Cons.csv\"\n",
    "    output_file = input_file.split('.')[0] + '_updated.csv'\n",
    "    process_csv(input_file, output_file)\n",
    "\n",
    "if __name__ == '__main__':\n",
    "    main()\n"
   ]
  }
 ],
 "metadata": {
  "kernelspec": {
   "display_name": "Python 3",
   "language": "python",
   "name": "python3"
  },
  "language_info": {
   "codemirror_mode": {
    "name": "ipython",
    "version": 3
   },
   "file_extension": ".py",
   "mimetype": "text/x-python",
   "name": "python",
   "nbconvert_exporter": "python",
   "pygments_lexer": "ipython3",
   "version": "3.11.9"
  }
 },
 "nbformat": 4,
 "nbformat_minor": 2
}
