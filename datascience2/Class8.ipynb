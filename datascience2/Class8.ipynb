{
  "cells": [
    {
      "cell_type": "code",
      "execution_count": 1,
      "metadata": {
        "id": "677clVWuvIqq"
      },
      "outputs": [
        {
          "ename": "ModuleNotFoundError",
          "evalue": "No module named 'tensorflow.python'",
          "output_type": "error",
          "traceback": [
            "\u001b[1;31m---------------------------------------------------------------------------\u001b[0m",
            "\u001b[1;31mModuleNotFoundError\u001b[0m                       Traceback (most recent call last)",
            "\u001b[1;32mLLF00\\datascience1\\datascience2\\今天的.ipynb Cell 1\u001b[0m line \u001b[0;36m2\n\u001b[0;32m      <a href='vscode-notebook-cell://github/LLF00/datascience1/datascience2/%E4%BB%8A%E5%A4%A9%E7%9A%84.ipynb#W0sdnNjb2RlLXZmcw%3D%3D?line=0'>1</a>\u001b[0m \u001b[39mimport\u001b[39;00m \u001b[39mpandas\u001b[39;00m \u001b[39mas\u001b[39;00m \u001b[39mpd\u001b[39;00m\n\u001b[1;32m----> <a href='vscode-notebook-cell://github/LLF00/datascience1/datascience2/%E4%BB%8A%E5%A4%A9%E7%9A%84.ipynb#W0sdnNjb2RlLXZmcw%3D%3D?line=1'>2</a>\u001b[0m \u001b[39mimport\u001b[39;00m \u001b[39mtensorflow\u001b[39;00m \u001b[39mas\u001b[39;00m \u001b[39mtf\u001b[39;00m\n\u001b[0;32m      <a href='vscode-notebook-cell://github/LLF00/datascience1/datascience2/%E4%BB%8A%E5%A4%A9%E7%9A%84.ipynb#W0sdnNjb2RlLXZmcw%3D%3D?line=2'>3</a>\u001b[0m \u001b[39mimport\u001b[39;00m \u001b[39mnumpy\u001b[39;00m \u001b[39mas\u001b[39;00m \u001b[39mnp\u001b[39;00m\n\u001b[0;32m      <a href='vscode-notebook-cell://github/LLF00/datascience1/datascience2/%E4%BB%8A%E5%A4%A9%E7%9A%84.ipynb#W0sdnNjb2RlLXZmcw%3D%3D?line=3'>4</a>\u001b[0m \u001b[39mimport\u001b[39;00m \u001b[39mmatplotlib\u001b[39;00m\u001b[39m.\u001b[39;00m\u001b[39mpyplot\u001b[39;00m \u001b[39mas\u001b[39;00m \u001b[39mplt\u001b[39;00m\n",
            "File \u001b[1;32m~\\AppData\\Local\\Packages\\PythonSoftwareFoundation.Python.3.11_qbz5n2kfra8p0\\LocalCache\\local-packages\\Python311\\site-packages\\tensorflow\\__init__.py:38\u001b[0m\n\u001b[0;32m     35\u001b[0m \u001b[39mimport\u001b[39;00m \u001b[39msys\u001b[39;00m \u001b[39mas\u001b[39;00m \u001b[39m_sys\u001b[39;00m\n\u001b[0;32m     36\u001b[0m \u001b[39mimport\u001b[39;00m \u001b[39mtyping\u001b[39;00m \u001b[39mas\u001b[39;00m \u001b[39m_typing\u001b[39;00m\n\u001b[1;32m---> 38\u001b[0m \u001b[39mfrom\u001b[39;00m \u001b[39mtensorflow\u001b[39;00m\u001b[39m.\u001b[39;00m\u001b[39mpython\u001b[39;00m\u001b[39m.\u001b[39;00m\u001b[39mtools\u001b[39;00m \u001b[39mimport\u001b[39;00m module_util \u001b[39mas\u001b[39;00m _module_util\n\u001b[0;32m     39\u001b[0m \u001b[39mfrom\u001b[39;00m \u001b[39mtensorflow\u001b[39;00m\u001b[39m.\u001b[39;00m\u001b[39mpython\u001b[39;00m\u001b[39m.\u001b[39;00m\u001b[39mutil\u001b[39;00m\u001b[39m.\u001b[39;00m\u001b[39mlazy_loader\u001b[39;00m \u001b[39mimport\u001b[39;00m LazyLoader \u001b[39mas\u001b[39;00m _LazyLoader\n\u001b[0;32m     41\u001b[0m \u001b[39m# Make sure code inside the TensorFlow codebase can use tf2.enabled() at import.\u001b[39;00m\n",
            "\u001b[1;31mModuleNotFoundError\u001b[0m: No module named 'tensorflow.python'"
          ]
        }
      ],
      "source": [
        "import pandas as pd\n",
        "import tensorflow as tf\n",
        "import numpy as np\n",
        "import matplotlib.pyplot as plt\n",
        "import tensorflow_datasets as tfds"
      ]
    },
    {
      "cell_type": "code",
      "execution_count": null,
      "metadata": {
        "colab": {
          "base_uri": "https://localhost:8080/",
          "height": 84,
          "referenced_widgets": [
            "78109b1753ed4fe287712985d4c6bc66",
            "825576c279554d58a598872122d4d020",
            "a59795f45cbf47cdab21229ace6e1309",
            "b917332541aa419489c0345ccf3caa27",
            "7718097afc8e4999adc8bf60e2df1c80",
            "012dc702b4e9435a99c38848c959d5de",
            "f8bdf7989ae148f9ae33156015267d6c",
            "8dd9de32c5094068ae66f8a8eaaf1260",
            "a0093b6ead5241e9a9c45c60146562d1",
            "1aef6d42741742f68ec379bdaff8477b",
            "a79e5560e2cb445d9e03656d8e7e3534"
          ]
        },
        "id": "QTvfReMMvSKU",
        "outputId": "fdb9bfff-c8bf-4cec-956b-dd58f350cc54"
      },
      "outputs": [
        {
          "name": "stdout",
          "output_type": "stream",
          "text": [
            "Downloading and preparing dataset 11.06 MiB (download: 11.06 MiB, generated: 21.00 MiB, total: 32.06 MiB) to /root/tensorflow_datasets/mnist/3.0.1...\n"
          ]
        },
        {
          "data": {
            "application/vnd.jupyter.widget-view+json": {
              "model_id": "78109b1753ed4fe287712985d4c6bc66",
              "version_major": 2,
              "version_minor": 0
            },
            "text/plain": [
              "Dl Completed...:   0%|          | 0/5 [00:00<?, ? file/s]"
            ]
          },
          "metadata": {},
          "output_type": "display_data"
        },
        {
          "name": "stdout",
          "output_type": "stream",
          "text": [
            "Dataset mnist downloaded and prepared to /root/tensorflow_datasets/mnist/3.0.1. Subsequent calls will reuse this data.\n"
          ]
        }
      ],
      "source": [
        "(train, test) = tfds.load('mnist',\n",
        "                                split = ['train','test'])"
      ]
    },
    {
      "cell_type": "code",
      "execution_count": null,
      "metadata": {
        "id": "mxz7MDjDvsJH"
      },
      "outputs": [],
      "source": [
        "def load_dataset(train_size, test_size):\n",
        "    train, test = tf.keras.datasets.mnist.load_data()\n",
        "\n",
        "    # take a sample\n",
        "    train_idx = np.random.randint(low=0, high=train[0].shape[0], size=train_size)\n",
        "    test_idx = np.random.randint(low=0, high=test[0].shape[0], size=test_size)\n",
        "    X_train = train[0][train_idx].reshape(-1,28*28)\n",
        "    y_train = train[1][train_idx].reshape(-1,1)\n",
        "    X_test = test[0][test_idx].reshape(-1,28*28)\n",
        "    y_test = test[1][test_idx].reshape(-1,1)\n",
        "\n",
        "    scale = StandardScaler()\n",
        "    X_train = scale.fit_transform(X_train)\n",
        "    X_test = scale.transform(X_test)\n",
        "\n",
        "    OH = OneHotEncoder(categories='auto', sparse=False)\n",
        "    y_train = OH.fit_transform(y_train)\n",
        "    y_test = OH.transform(y_test)\n",
        "\n",
        "    print('X_train:',X_train.shape)\n",
        "    print('y_train:',y_train.shape)\n",
        "    print('X_test:',X_test.shape)\n",
        "    print('y_test:',y_test.shape)\n",
        "    print('Min:', X_train.min())\n",
        "    print('Max:', X_train.max())\n",
        "\n",
        "    return X_train, X_test, y_train, y_test\n"
      ]
    },
    {
      "cell_type": "code",
      "execution_count": null,
      "metadata": {
        "id": "h7xlT5uFvivx"
      },
      "outputs": [],
      "source": [
        "from sklearn.preprocessing import StandardScaler\n",
        "from sklearn.preprocessing import OneHotEncoder"
      ]
    },
    {
      "cell_type": "code",
      "execution_count": null,
      "metadata": {
        "colab": {
          "base_uri": "https://localhost:8080/"
        },
        "id": "bzACuMtKvkK1",
        "outputId": "8cde6207-d5fb-47a3-b378-a11768d52bad"
      },
      "outputs": [
        {
          "name": "stdout",
          "output_type": "stream",
          "text": [
            "X_train: (1000, 784)\n",
            "y_train: (1000, 10)\n",
            "X_test: (1000, 784)\n",
            "y_test: (1000, 10)\n",
            "Min: -1.2734785723095159\n",
            "Max: 31.606961258559338\n"
          ]
        },
        {
          "name": "stderr",
          "output_type": "stream",
          "text": [
            "/usr/local/lib/python3.10/dist-packages/sklearn/preprocessing/_encoders.py:868: FutureWarning: `sparse` was renamed to `sparse_output` in version 1.2 and will be removed in 1.4. `sparse_output` is ignored unless you leave `sparse` to its default value.\n",
            "  warnings.warn(\n"
          ]
        }
      ],
      "source": [
        "X_train, X_test, y_train, y_test = load_dataset(1000,1000)"
      ]
    },
    {
      "cell_type": "code",
      "execution_count": null,
      "metadata": {
        "colab": {
          "base_uri": "https://localhost:8080/"
        },
        "id": "9tMdk83ovlGN",
        "outputId": "5a848496-7886-4e8c-8a30-b16ed83420eb"
      },
      "outputs": [
        {
          "name": "stdout",
          "output_type": "stream",
          "text": [
            "X_train: (60000, 784)\n",
            "y_train: (60000, 10)\n",
            "X_test: (10000, 784)\n",
            "y_test: (10000, 10)\n",
            "Min: -1.2773526250210165\n",
            "Max: 244.94693302865178\n"
          ]
        },
        {
          "name": "stderr",
          "output_type": "stream",
          "text": [
            "/usr/local/lib/python3.10/dist-packages/sklearn/preprocessing/_encoders.py:868: FutureWarning: `sparse` was renamed to `sparse_output` in version 1.2 and will be removed in 1.4. `sparse_output` is ignored unless you leave `sparse` to its default value.\n",
            "  warnings.warn(\n"
          ]
        }
      ],
      "source": [
        "X_train, X_test, y_train, y_test = load_dataset(60000,10000)"
      ]
    },
    {
      "cell_type": "markdown",
      "metadata": {
        "id": "3aviPe5UwFmH"
      },
      "source": [
        "well"
      ]
    },
    {
      "cell_type": "code",
      "execution_count": null,
      "metadata": {
        "id": "-0WOnSPmwGLB"
      },
      "outputs": [],
      "source": [
        "init = tf.initializers.zeros()\n",
        "activate = 'relu'\n",
        "optimizer = tf.keras.optimizers.SGD(learning_rate=0.01)"
      ]
    },
    {
      "cell_type": "code",
      "execution_count": null,
      "metadata": {
        "id": "y0KAqoxOwOLX"
      },
      "outputs": [],
      "source": [
        "from tensorflow.keras import layers"
      ]
    },
    {
      "cell_type": "code",
      "execution_count": null,
      "metadata": {
        "id": "1hASpVE-wGgd"
      },
      "outputs": [],
      "source": [
        "init = tf.initializers.zeros()\n",
        "activate = 'relu'\n",
        "optimizer = tf.keras.optimizers.SGD(learning_rate=0.01)"
      ]
    },
    {
      "cell_type": "code",
      "execution_count": null,
      "metadata": {
        "id": "G8waFtyRwI27"
      },
      "outputs": [],
      "source": [
        "def simple_model(initializer, activation='relu'):\n",
        "    return tf.keras.Sequential([layers.Dense(32, activation, input_shape=(784,), kernel_initializer=initializer),\n",
        "                                layers.Dense(32, activation, kernel_initializer=initializer),\n",
        "                                layers.Dense(32, activation, kernel_initializer=initializer),\n",
        "                                layers.Dense(32, activation, kernel_initializer=initializer),\n",
        "                                layers.Dense(10, activation = 'softmax', kernel_initializer=tf.keras.initializers.glorot_normal())\n",
        "\n",
        "\n",
        "\n",
        "    ])"
      ]
    },
    {
      "cell_type": "code",
      "execution_count": null,
      "metadata": {
        "id": "blUP-S3swKQ2"
      },
      "outputs": [],
      "source": [
        "model_zeros = simple_model(init, activate)"
      ]
    },
    {
      "cell_type": "code",
      "execution_count": null,
      "metadata": {
        "colab": {
          "base_uri": "https://localhost:8080/"
        },
        "id": "UzjWzcU2xKnL",
        "outputId": "bd6ac510-2e51-47a7-a035-c2ace4d31e49"
      },
      "outputs": [
        {
          "name": "stdout",
          "output_type": "stream",
          "text": [
            "Epoch 1/10\n",
            "19/19 [==============================] - 2s 62ms/step - loss: 2.3026 - accuracy: 0.1099 - val_loss: 2.3025 - val_accuracy: 0.1126\n",
            "Epoch 2/10\n",
            "19/19 [==============================] - 1s 45ms/step - loss: 2.3025 - accuracy: 0.1114 - val_loss: 2.3025 - val_accuracy: 0.1126\n",
            "Epoch 3/10\n",
            "19/19 [==============================] - 1s 69ms/step - loss: 2.3025 - accuracy: 0.1114 - val_loss: 2.3025 - val_accuracy: 0.1126\n",
            "Epoch 4/10\n",
            "19/19 [==============================] - 1s 57ms/step - loss: 2.3024 - accuracy: 0.1114 - val_loss: 2.3024 - val_accuracy: 0.1126\n",
            "Epoch 5/10\n",
            "19/19 [==============================] - 1s 66ms/step - loss: 2.3024 - accuracy: 0.1114 - val_loss: 2.3024 - val_accuracy: 0.1126\n",
            "Epoch 6/10\n",
            "19/19 [==============================] - 1s 41ms/step - loss: 2.3024 - accuracy: 0.1114 - val_loss: 2.3023 - val_accuracy: 0.1126\n",
            "Epoch 7/10\n",
            "19/19 [==============================] - 1s 42ms/step - loss: 2.3023 - accuracy: 0.1114 - val_loss: 2.3023 - val_accuracy: 0.1126\n",
            "Epoch 8/10\n",
            "19/19 [==============================] - 1s 48ms/step - loss: 2.3023 - accuracy: 0.1114 - val_loss: 2.3023 - val_accuracy: 0.1126\n",
            "Epoch 9/10\n",
            "19/19 [==============================] - 1s 39ms/step - loss: 2.3023 - accuracy: 0.1114 - val_loss: 2.3022 - val_accuracy: 0.1126\n",
            "Epoch 10/10\n",
            "19/19 [==============================] - 1s 56ms/step - loss: 2.3022 - accuracy: 0.1114 - val_loss: 2.3022 - val_accuracy: 0.1126\n"
          ]
        },
        {
          "data": {
            "text/plain": [
              "<keras.src.callbacks.History at 0x7d8d006a33d0>"
            ]
          },
          "execution_count": 46,
          "metadata": {},
          "output_type": "execute_result"
        }
      ],
      "source": [
        "model_zeros.compile(optimizer=optimizer, loss='categorical_crossentropy', metrics=['accuracy'])\n",
        "model_zeros.fit(X_train, y_train, epochs=10, batch_size=3200, validation_data=(X_test, y_test))"
      ]
    },
    {
      "cell_type": "code",
      "execution_count": null,
      "metadata": {
        "colab": {
          "base_uri": "https://localhost:8080/"
        },
        "id": "O9pihih9xLX_",
        "outputId": "41ed0620-39c2-4011-cecd-57344d27bb84"
      },
      "outputs": [
        {
          "name": "stderr",
          "output_type": "stream",
          "text": [
            "/usr/local/lib/python3.10/dist-packages/keras/src/initializers/initializers.py:120: UserWarning: The initializer GlorotUniform is unseeded and being called multiple times, which will return identical values each time (even if the initializer is unseeded). Please update your code to provide a seed to the initializer, or avoid using the same initializer instance more than once.\n",
            "  warnings.warn(\n"
          ]
        },
        {
          "name": "stdout",
          "output_type": "stream",
          "text": [
            "Epoch 1/10\n",
            "19/19 [==============================] - 1s 39ms/step - loss: 2.3332 - accuracy: 0.1217 - val_loss: 2.5006 - val_accuracy: 0.1321\n",
            "Epoch 2/10\n",
            "19/19 [==============================] - 0s 25ms/step - loss: 2.2790 - accuracy: 0.1475 - val_loss: 2.4189 - val_accuracy: 0.1673\n",
            "Epoch 3/10\n",
            "19/19 [==============================] - 0s 25ms/step - loss: 2.2315 - accuracy: 0.1810 - val_loss: 2.3518 - val_accuracy: 0.2074\n",
            "Epoch 4/10\n",
            "19/19 [==============================] - 0s 26ms/step - loss: 2.1835 - accuracy: 0.2231 - val_loss: 2.2895 - val_accuracy: 0.2507\n",
            "Epoch 5/10\n",
            "19/19 [==============================] - 0s 25ms/step - loss: 2.1309 - accuracy: 0.2648 - val_loss: 2.2313 - val_accuracy: 0.2890\n",
            "Epoch 6/10\n",
            "19/19 [==============================] - 0s 26ms/step - loss: 2.0707 - accuracy: 0.3067 - val_loss: 2.1803 - val_accuracy: 0.3282\n",
            "Epoch 7/10\n",
            "19/19 [==============================] - 0s 25ms/step - loss: 2.0011 - accuracy: 0.3505 - val_loss: 2.1263 - val_accuracy: 0.3664\n",
            "Epoch 8/10\n",
            "19/19 [==============================] - 1s 27ms/step - loss: 1.9208 - accuracy: 0.3934 - val_loss: 2.0622 - val_accuracy: 0.4060\n",
            "Epoch 9/10\n",
            "19/19 [==============================] - 0s 25ms/step - loss: 1.8310 - accuracy: 0.4320 - val_loss: 1.9874 - val_accuracy: 0.4411\n",
            "Epoch 10/10\n",
            "19/19 [==============================] - 0s 25ms/step - loss: 1.7348 - accuracy: 0.4655 - val_loss: 1.8844 - val_accuracy: 0.4803\n"
          ]
        },
        {
          "data": {
            "text/plain": [
              "<keras.src.callbacks.History at 0x7d8cf76e8a60>"
            ]
          },
          "execution_count": 47,
          "metadata": {},
          "output_type": "execute_result"
        }
      ],
      "source": [
        "init = tf.initializers.glorot_uniform()\n",
        "activate = 'relu'\n",
        "optimizer = tf.keras.optimizers.SGD(learning_rate=0.01)\n",
        "model_glorotu = simple_model(init, activate)\n",
        "model_glorotu.compile(optimizer=optimizer, loss='categorical_crossentropy', metrics=['accuracy'])\n",
        "model_glorotu.fit(X_train, y_train, epochs=10, batch_size=3200, validation_data=(X_test, y_test))"
      ]
    },
    {
      "cell_type": "code",
      "execution_count": null,
      "metadata": {
        "id": "EdNCCY4uxbc3"
      },
      "outputs": [],
      "source": []
    }
  ],
  "metadata": {
    "colab": {
      "provenance": [],
      "toc_visible": true
    },
    "kernelspec": {
      "display_name": "Python 3",
      "name": "python3"
    },
    "language_info": {
      "codemirror_mode": {
        "name": "ipython",
        "version": 3
      },
      "file_extension": ".py",
      "mimetype": "text/x-python",
      "name": "python",
      "nbconvert_exporter": "python",
      "pygments_lexer": "ipython3",
      "version": "3.11.6"
    },
    "widgets": {
      "application/vnd.jupyter.widget-state+json": {
        "012dc702b4e9435a99c38848c959d5de": {
          "model_module": "@jupyter-widgets/base",
          "model_module_version": "1.2.0",
          "model_name": "LayoutModel",
          "state": {
            "_model_module": "@jupyter-widgets/base",
            "_model_module_version": "1.2.0",
            "_model_name": "LayoutModel",
            "_view_count": null,
            "_view_module": "@jupyter-widgets/base",
            "_view_module_version": "1.2.0",
            "_view_name": "LayoutView",
            "align_content": null,
            "align_items": null,
            "align_self": null,
            "border": null,
            "bottom": null,
            "display": null,
            "flex": null,
            "flex_flow": null,
            "grid_area": null,
            "grid_auto_columns": null,
            "grid_auto_flow": null,
            "grid_auto_rows": null,
            "grid_column": null,
            "grid_gap": null,
            "grid_row": null,
            "grid_template_areas": null,
            "grid_template_columns": null,
            "grid_template_rows": null,
            "height": null,
            "justify_content": null,
            "justify_items": null,
            "left": null,
            "margin": null,
            "max_height": null,
            "max_width": null,
            "min_height": null,
            "min_width": null,
            "object_fit": null,
            "object_position": null,
            "order": null,
            "overflow": null,
            "overflow_x": null,
            "overflow_y": null,
            "padding": null,
            "right": null,
            "top": null,
            "visibility": null,
            "width": null
          }
        },
        "1aef6d42741742f68ec379bdaff8477b": {
          "model_module": "@jupyter-widgets/base",
          "model_module_version": "1.2.0",
          "model_name": "LayoutModel",
          "state": {
            "_model_module": "@jupyter-widgets/base",
            "_model_module_version": "1.2.0",
            "_model_name": "LayoutModel",
            "_view_count": null,
            "_view_module": "@jupyter-widgets/base",
            "_view_module_version": "1.2.0",
            "_view_name": "LayoutView",
            "align_content": null,
            "align_items": null,
            "align_self": null,
            "border": null,
            "bottom": null,
            "display": null,
            "flex": null,
            "flex_flow": null,
            "grid_area": null,
            "grid_auto_columns": null,
            "grid_auto_flow": null,
            "grid_auto_rows": null,
            "grid_column": null,
            "grid_gap": null,
            "grid_row": null,
            "grid_template_areas": null,
            "grid_template_columns": null,
            "grid_template_rows": null,
            "height": null,
            "justify_content": null,
            "justify_items": null,
            "left": null,
            "margin": null,
            "max_height": null,
            "max_width": null,
            "min_height": null,
            "min_width": null,
            "object_fit": null,
            "object_position": null,
            "order": null,
            "overflow": null,
            "overflow_x": null,
            "overflow_y": null,
            "padding": null,
            "right": null,
            "top": null,
            "visibility": null,
            "width": null
          }
        },
        "7718097afc8e4999adc8bf60e2df1c80": {
          "model_module": "@jupyter-widgets/base",
          "model_module_version": "1.2.0",
          "model_name": "LayoutModel",
          "state": {
            "_model_module": "@jupyter-widgets/base",
            "_model_module_version": "1.2.0",
            "_model_name": "LayoutModel",
            "_view_count": null,
            "_view_module": "@jupyter-widgets/base",
            "_view_module_version": "1.2.0",
            "_view_name": "LayoutView",
            "align_content": null,
            "align_items": null,
            "align_self": null,
            "border": null,
            "bottom": null,
            "display": null,
            "flex": null,
            "flex_flow": null,
            "grid_area": null,
            "grid_auto_columns": null,
            "grid_auto_flow": null,
            "grid_auto_rows": null,
            "grid_column": null,
            "grid_gap": null,
            "grid_row": null,
            "grid_template_areas": null,
            "grid_template_columns": null,
            "grid_template_rows": null,
            "height": null,
            "justify_content": null,
            "justify_items": null,
            "left": null,
            "margin": null,
            "max_height": null,
            "max_width": null,
            "min_height": null,
            "min_width": null,
            "object_fit": null,
            "object_position": null,
            "order": null,
            "overflow": null,
            "overflow_x": null,
            "overflow_y": null,
            "padding": null,
            "right": null,
            "top": null,
            "visibility": null,
            "width": null
          }
        },
        "78109b1753ed4fe287712985d4c6bc66": {
          "model_module": "@jupyter-widgets/controls",
          "model_module_version": "1.5.0",
          "model_name": "HBoxModel",
          "state": {
            "_dom_classes": [],
            "_model_module": "@jupyter-widgets/controls",
            "_model_module_version": "1.5.0",
            "_model_name": "HBoxModel",
            "_view_count": null,
            "_view_module": "@jupyter-widgets/controls",
            "_view_module_version": "1.5.0",
            "_view_name": "HBoxView",
            "box_style": "",
            "children": [
              "IPY_MODEL_825576c279554d58a598872122d4d020",
              "IPY_MODEL_a59795f45cbf47cdab21229ace6e1309",
              "IPY_MODEL_b917332541aa419489c0345ccf3caa27"
            ],
            "layout": "IPY_MODEL_7718097afc8e4999adc8bf60e2df1c80"
          }
        },
        "825576c279554d58a598872122d4d020": {
          "model_module": "@jupyter-widgets/controls",
          "model_module_version": "1.5.0",
          "model_name": "HTMLModel",
          "state": {
            "_dom_classes": [],
            "_model_module": "@jupyter-widgets/controls",
            "_model_module_version": "1.5.0",
            "_model_name": "HTMLModel",
            "_view_count": null,
            "_view_module": "@jupyter-widgets/controls",
            "_view_module_version": "1.5.0",
            "_view_name": "HTMLView",
            "description": "",
            "description_tooltip": null,
            "layout": "IPY_MODEL_012dc702b4e9435a99c38848c959d5de",
            "placeholder": "​",
            "style": "IPY_MODEL_f8bdf7989ae148f9ae33156015267d6c",
            "value": "Dl Completed...: 100%"
          }
        },
        "8dd9de32c5094068ae66f8a8eaaf1260": {
          "model_module": "@jupyter-widgets/base",
          "model_module_version": "1.2.0",
          "model_name": "LayoutModel",
          "state": {
            "_model_module": "@jupyter-widgets/base",
            "_model_module_version": "1.2.0",
            "_model_name": "LayoutModel",
            "_view_count": null,
            "_view_module": "@jupyter-widgets/base",
            "_view_module_version": "1.2.0",
            "_view_name": "LayoutView",
            "align_content": null,
            "align_items": null,
            "align_self": null,
            "border": null,
            "bottom": null,
            "display": null,
            "flex": null,
            "flex_flow": null,
            "grid_area": null,
            "grid_auto_columns": null,
            "grid_auto_flow": null,
            "grid_auto_rows": null,
            "grid_column": null,
            "grid_gap": null,
            "grid_row": null,
            "grid_template_areas": null,
            "grid_template_columns": null,
            "grid_template_rows": null,
            "height": null,
            "justify_content": null,
            "justify_items": null,
            "left": null,
            "margin": null,
            "max_height": null,
            "max_width": null,
            "min_height": null,
            "min_width": null,
            "object_fit": null,
            "object_position": null,
            "order": null,
            "overflow": null,
            "overflow_x": null,
            "overflow_y": null,
            "padding": null,
            "right": null,
            "top": null,
            "visibility": null,
            "width": null
          }
        },
        "a0093b6ead5241e9a9c45c60146562d1": {
          "model_module": "@jupyter-widgets/controls",
          "model_module_version": "1.5.0",
          "model_name": "ProgressStyleModel",
          "state": {
            "_model_module": "@jupyter-widgets/controls",
            "_model_module_version": "1.5.0",
            "_model_name": "ProgressStyleModel",
            "_view_count": null,
            "_view_module": "@jupyter-widgets/base",
            "_view_module_version": "1.2.0",
            "_view_name": "StyleView",
            "bar_color": null,
            "description_width": ""
          }
        },
        "a59795f45cbf47cdab21229ace6e1309": {
          "model_module": "@jupyter-widgets/controls",
          "model_module_version": "1.5.0",
          "model_name": "FloatProgressModel",
          "state": {
            "_dom_classes": [],
            "_model_module": "@jupyter-widgets/controls",
            "_model_module_version": "1.5.0",
            "_model_name": "FloatProgressModel",
            "_view_count": null,
            "_view_module": "@jupyter-widgets/controls",
            "_view_module_version": "1.5.0",
            "_view_name": "ProgressView",
            "bar_style": "success",
            "description": "",
            "description_tooltip": null,
            "layout": "IPY_MODEL_8dd9de32c5094068ae66f8a8eaaf1260",
            "max": 5,
            "min": 0,
            "orientation": "horizontal",
            "style": "IPY_MODEL_a0093b6ead5241e9a9c45c60146562d1",
            "value": 5
          }
        },
        "a79e5560e2cb445d9e03656d8e7e3534": {
          "model_module": "@jupyter-widgets/controls",
          "model_module_version": "1.5.0",
          "model_name": "DescriptionStyleModel",
          "state": {
            "_model_module": "@jupyter-widgets/controls",
            "_model_module_version": "1.5.0",
            "_model_name": "DescriptionStyleModel",
            "_view_count": null,
            "_view_module": "@jupyter-widgets/base",
            "_view_module_version": "1.2.0",
            "_view_name": "StyleView",
            "description_width": ""
          }
        },
        "b917332541aa419489c0345ccf3caa27": {
          "model_module": "@jupyter-widgets/controls",
          "model_module_version": "1.5.0",
          "model_name": "HTMLModel",
          "state": {
            "_dom_classes": [],
            "_model_module": "@jupyter-widgets/controls",
            "_model_module_version": "1.5.0",
            "_model_name": "HTMLModel",
            "_view_count": null,
            "_view_module": "@jupyter-widgets/controls",
            "_view_module_version": "1.5.0",
            "_view_name": "HTMLView",
            "description": "",
            "description_tooltip": null,
            "layout": "IPY_MODEL_1aef6d42741742f68ec379bdaff8477b",
            "placeholder": "​",
            "style": "IPY_MODEL_a79e5560e2cb445d9e03656d8e7e3534",
            "value": " 5/5 [00:00&lt;00:00,  8.31 file/s]"
          }
        },
        "f8bdf7989ae148f9ae33156015267d6c": {
          "model_module": "@jupyter-widgets/controls",
          "model_module_version": "1.5.0",
          "model_name": "DescriptionStyleModel",
          "state": {
            "_model_module": "@jupyter-widgets/controls",
            "_model_module_version": "1.5.0",
            "_model_name": "DescriptionStyleModel",
            "_view_count": null,
            "_view_module": "@jupyter-widgets/base",
            "_view_module_version": "1.2.0",
            "_view_name": "StyleView",
            "description_width": ""
          }
        }
      }
    }
  },
  "nbformat": 4,
  "nbformat_minor": 0
}
