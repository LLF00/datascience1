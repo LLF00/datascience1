{
  "cells": [
    {
      "cell_type": "code",
      "execution_count": 1,
      "metadata": {
        "id": "677clVWuvIqq"
      },
      "outputs": [
        {
          "name": "stderr",
          "output_type": "stream",
          "text": [
            "C:\\Users\\lifen\\AppData\\Local\\Packages\\PythonSoftwareFoundation.Python.3.11_qbz5n2kfra8p0\\LocalCache\\local-packages\\Python311\\site-packages\\tqdm\\auto.py:21: TqdmWarning: IProgress not found. Please update jupyter and ipywidgets. See https://ipywidgets.readthedocs.io/en/stable/user_install.html\n",
            "  from .autonotebook import tqdm as notebook_tqdm\n"
          ]
        }
      ],
      "source": [
        "import pandas as pd\n",
        "import tensorflow as tf\n",
        "import numpy as np\n",
        "import matplotlib.pyplot as plt\n",
        "import tensorflow_datasets as tfds"
      ]
    },
    {
      "cell_type": "code",
      "execution_count": 2,
      "metadata": {
        "colab": {
          "base_uri": "https://localhost:8080/",
          "height": 84,
          "referenced_widgets": [
            "78109b1753ed4fe287712985d4c6bc66",
            "825576c279554d58a598872122d4d020",
            "a59795f45cbf47cdab21229ace6e1309",
            "b917332541aa419489c0345ccf3caa27",
            "7718097afc8e4999adc8bf60e2df1c80",
            "012dc702b4e9435a99c38848c959d5de",
            "f8bdf7989ae148f9ae33156015267d6c",
            "8dd9de32c5094068ae66f8a8eaaf1260",
            "a0093b6ead5241e9a9c45c60146562d1",
            "1aef6d42741742f68ec379bdaff8477b",
            "a79e5560e2cb445d9e03656d8e7e3534"
          ]
        },
        "id": "QTvfReMMvSKU",
        "outputId": "fdb9bfff-c8bf-4cec-956b-dd58f350cc54"
      },
      "outputs": [
        {
          "name": "stdout",
          "output_type": "stream",
          "text": [
            "\u001b[1mDownloading and preparing dataset Unknown size (download: Unknown size, generated: Unknown size, total: Unknown size) to C:\\Users\\lifen\\tensorflow_datasets\\mnist\\3.0.1...\u001b[0m\n"
          ]
        },
        {
          "name": "stderr",
          "output_type": "stream",
          "text": [
            "Dl Completed...: 0 url [00:00, ? url/s]\n",
            "Dl Completed...:   0%|          | 0/1 [00:00<?, ? url/s]\n",
            "Dl Completed...:   0%|          | 0/2 [00:00<?, ? url/s]\n",
            "Dl Completed...:   0%|          | 0/3 [00:00<?, ? url/s]\n",
            "Dl Completed...:   0%|          | 0/4 [00:00<?, ? url/s]\n",
            "Dl Completed...:   0%|          | 0/4 [00:01<?, ? url/s]\n",
            "Dl Completed...:   0%|          | 0/4 [00:01<?, ? url/s]\n",
            "Dl Completed...:   0%|          | 0/4 [00:01<?, ? url/s]\n",
            "Dl Completed...:  25%|██▌       | 1/4 [00:01<00:03,  1.15s/ url]\n",
            "Dl Completed...:  50%|█████     | 2/4 [00:01<00:02,  1.15s/ url]\n",
            "Dl Completed...:  50%|█████     | 2/4 [00:01<00:02,  1.15s/ url]\n",
            "Dl Completed...:  50%|█████     | 2/4 [00:01<00:02,  1.15s/ url]\n",
            "\u001b[A\n",
            "Dl Completed...:  50%|█████     | 2/4 [00:01<00:02,  1.15s/ url]\n",
            "Dl Completed...:  50%|█████     | 2/4 [00:01<00:02,  1.15s/ url]\n",
            "Dl Completed...:  50%|█████     | 2/4 [00:01<00:02,  1.15s/ url]\n",
            "Dl Completed...:  50%|█████     | 2/4 [00:01<00:02,  1.15s/ url]\n",
            "Dl Completed...:  50%|█████     | 2/4 [00:01<00:02,  1.15s/ url]\n",
            "Dl Completed...:  50%|█████     | 2/4 [00:01<00:02,  1.15s/ url]\n",
            "Dl Completed...:  50%|█████     | 2/4 [00:01<00:02,  1.15s/ url]\n",
            "Dl Completed...:  50%|█████     | 2/4 [00:01<00:02,  1.15s/ url]\n",
            "Dl Completed...:  50%|█████     | 2/4 [00:01<00:02,  1.15s/ url]\n",
            "Dl Completed...:  50%|█████     | 2/4 [00:01<00:02,  1.15s/ url]\n",
            "Dl Completed...:  50%|█████     | 2/4 [00:01<00:02,  1.15s/ url]\n",
            "Dl Completed...:  50%|█████     | 2/4 [00:01<00:02,  1.15s/ url]\n",
            "Dl Completed...:  75%|███████▌  | 3/4 [00:01<00:00,  2.08 url/s]\n",
            "Dl Completed...:  75%|███████▌  | 3/4 [00:01<00:00,  2.08 url/s]\n",
            "Dl Completed...: 100%|██████████| 4/4 [00:01<00:00,  2.08 url/s]\n",
            "Dl Completed...: 100%|██████████| 4/4 [00:01<00:00,  2.08 url/s]\n",
            "\u001b[A\n",
            "Dl Completed...: 100%|██████████| 4/4 [00:01<00:00,  2.08 url/s]\n",
            "Dl Completed...: 100%|██████████| 4/4 [00:01<00:00,  2.08 url/s]\n",
            "\u001b[A\n",
            "Dl Completed...: 100%|██████████| 4/4 [00:02<00:00,  2.08 url/s]\n",
            "Extraction completed...: 100%|██████████| 4/4 [00:02<00:00,  1.91 file/s]\n",
            "Dl Size...: 100%|██████████| 10/10 [00:02<00:00,  4.77 MiB/s]\n",
            "Dl Completed...: 100%|██████████| 4/4 [00:02<00:00,  1.90 url/s]\n",
            "                                                                        \r"
          ]
        },
        {
          "name": "stdout",
          "output_type": "stream",
          "text": [
            "\u001b[1mDataset mnist downloaded and prepared to C:\\Users\\lifen\\tensorflow_datasets\\mnist\\3.0.1. Subsequent calls will reuse this data.\u001b[0m\n"
          ]
        }
      ],
      "source": [
        "(train, test) = tfds.load('mnist',split = ['train','test'])"
      ]
    },
    {
      "cell_type": "code",
      "execution_count": null,
      "metadata": {},
      "outputs": [],
      "source": []
    },
    {
      "cell_type": "code",
      "execution_count": 3,
      "metadata": {
        "id": "mxz7MDjDvsJH"
      },
      "outputs": [],
      "source": [
        "def load_dataset(train_size, test_size):\n",
        "    train, test = tf.keras.datasets.mnist.load_data()\n",
        "\n",
        "    # take a sample\n",
        "    train_idx = np.random.randint(low=0, high=train[0].shape[0], size=train_size)\n",
        "    test_idx = np.random.randint(low=0, high=test[0].shape[0], size=test_size)\n",
        "    X_train = train[0][train_idx].reshape(-1,28*28)\n",
        "    y_train = train[1][train_idx].reshape(-1,1)\n",
        "    X_test = test[0][test_idx].reshape(-1,28*28)\n",
        "    y_test = test[1][test_idx].reshape(-1,1)\n",
        "\n",
        "    scale = StandardScaler()\n",
        "    X_train = scale.fit_transform(X_train)\n",
        "    X_test = scale.transform(X_test)\n",
        "\n",
        "    OH = OneHotEncoder(categories='auto', sparse=False)\n",
        "    y_train = OH.fit_transform(y_train)\n",
        "    y_test = OH.transform(y_test)\n",
        "\n",
        "    print('X_train:',X_train.shape)\n",
        "    print('y_train:',y_train.shape)\n",
        "    print('X_test:',X_test.shape)\n",
        "    print('y_test:',y_test.shape)\n",
        "    print('Min:', X_train.min())\n",
        "    print('Max:', X_train.max())\n",
        "\n",
        "    return X_train, X_test, y_train, y_test\n"
      ]
    },
    {
      "cell_type": "code",
      "execution_count": 4,
      "metadata": {
        "id": "h7xlT5uFvivx"
      },
      "outputs": [],
      "source": [
        "from sklearn.preprocessing import StandardScaler\n",
        "from sklearn.preprocessing import OneHotEncoder"
      ]
    },
    {
      "cell_type": "code",
      "execution_count": 5,
      "metadata": {
        "colab": {
          "base_uri": "https://localhost:8080/"
        },
        "id": "bzACuMtKvkK1",
        "outputId": "8cde6207-d5fb-47a3-b378-a11768d52bad"
      },
      "outputs": [
        {
          "name": "stdout",
          "output_type": "stream",
          "text": [
            "Downloading data from https://storage.googleapis.com/tensorflow/tf-keras-datasets/mnist.npz\n",
            "11490434/11490434 [==============================] - 3s 0us/step\n",
            "X_train: (1000, 784)\n",
            "y_train: (1000, 10)\n",
            "X_test: (1000, 784)\n",
            "y_test: (1000, 10)\n",
            "Min: -1.3376402778413445\n",
            "Max: 31.606961258559163\n"
          ]
        },
        {
          "name": "stderr",
          "output_type": "stream",
          "text": [
            "C:\\Users\\lifen\\AppData\\Local\\Packages\\PythonSoftwareFoundation.Python.3.11_qbz5n2kfra8p0\\LocalCache\\local-packages\\Python311\\site-packages\\sklearn\\preprocessing\\_encoders.py:868: FutureWarning: `sparse` was renamed to `sparse_output` in version 1.2 and will be removed in 1.4. `sparse_output` is ignored unless you leave `sparse` to its default value.\n",
            "  warnings.warn(\n"
          ]
        }
      ],
      "source": [
        "X_train, X_test, y_train, y_test = load_dataset(1000,1000)"
      ]
    },
    {
      "cell_type": "code",
      "execution_count": 6,
      "metadata": {
        "colab": {
          "base_uri": "https://localhost:8080/"
        },
        "id": "9tMdk83ovlGN",
        "outputId": "5a848496-7886-4e8c-8a30-b16ed83420eb"
      },
      "outputs": [
        {
          "name": "stdout",
          "output_type": "stream",
          "text": [
            "X_train: (60000, 784)\n",
            "y_train: (60000, 10)\n",
            "X_test: (10000, 784)\n",
            "y_test: (10000, 10)\n",
            "Min: -1.2690616008450686\n",
            "Max: 244.9469330286772\n"
          ]
        },
        {
          "name": "stderr",
          "output_type": "stream",
          "text": [
            "C:\\Users\\lifen\\AppData\\Local\\Packages\\PythonSoftwareFoundation.Python.3.11_qbz5n2kfra8p0\\LocalCache\\local-packages\\Python311\\site-packages\\sklearn\\preprocessing\\_encoders.py:868: FutureWarning: `sparse` was renamed to `sparse_output` in version 1.2 and will be removed in 1.4. `sparse_output` is ignored unless you leave `sparse` to its default value.\n",
            "  warnings.warn(\n"
          ]
        }
      ],
      "source": [
        "X_train, X_test, y_train, y_test = load_dataset(60000,10000)"
      ]
    },
    {
      "cell_type": "markdown",
      "metadata": {
        "id": "3aviPe5UwFmH"
      },
      "source": [
        "well"
      ]
    },
    {
      "cell_type": "code",
      "execution_count": 7,
      "metadata": {
        "id": "-0WOnSPmwGLB"
      },
      "outputs": [],
      "source": [
        "init = tf.initializers.zeros()\n",
        "activate = 'relu'\n",
        "optimizer = tf.keras.optimizers.SGD(learning_rate=0.01)"
      ]
    },
    {
      "cell_type": "code",
      "execution_count": 8,
      "metadata": {
        "id": "y0KAqoxOwOLX"
      },
      "outputs": [],
      "source": [
        "from tensorflow.keras import layers"
      ]
    },
    {
      "cell_type": "code",
      "execution_count": 9,
      "metadata": {
        "id": "1hASpVE-wGgd"
      },
      "outputs": [],
      "source": [
        "init = tf.initializers.zeros()\n",
        "activate = 'relu'\n",
        "optimizer = tf.keras.optimizers.SGD(learning_rate=0.01)"
      ]
    },
    {
      "cell_type": "code",
      "execution_count": 10,
      "metadata": {
        "id": "G8waFtyRwI27"
      },
      "outputs": [],
      "source": [
        "def simple_model(initializer, activation='relu'):\n",
        "    return tf.keras.Sequential([layers.Dense(32, activation, input_shape=(784,), kernel_initializer=initializer),\n",
        "                                layers.Dense(32, activation, kernel_initializer=initializer),\n",
        "                                layers.Dense(32, activation, kernel_initializer=initializer),\n",
        "                                layers.Dense(32, activation, kernel_initializer=initializer),\n",
        "                                layers.Dense(10, activation = 'softmax', kernel_initializer=tf.keras.initializers.glorot_normal())\n",
        "\n",
        "\n",
        "\n",
        "    ])"
      ]
    },
    {
      "cell_type": "code",
      "execution_count": 11,
      "metadata": {
        "id": "blUP-S3swKQ2"
      },
      "outputs": [],
      "source": [
        "model_zeros = simple_model(init, activate)"
      ]
    },
    {
      "cell_type": "code",
      "execution_count": 12,
      "metadata": {
        "colab": {
          "base_uri": "https://localhost:8080/"
        },
        "id": "UzjWzcU2xKnL",
        "outputId": "bd6ac510-2e51-47a7-a035-c2ace4d31e49"
      },
      "outputs": [
        {
          "name": "stdout",
          "output_type": "stream",
          "text": [
            "Epoch 1/10\n",
            "19/19 [==============================] - 1s 27ms/step - loss: 2.3026 - accuracy: 0.1098 - val_loss: 2.3025 - val_accuracy: 0.1138\n",
            "Epoch 2/10\n",
            "19/19 [==============================] - 0s 13ms/step - loss: 2.3025 - accuracy: 0.1111 - val_loss: 2.3025 - val_accuracy: 0.1138\n",
            "Epoch 3/10\n",
            "19/19 [==============================] - 0s 12ms/step - loss: 2.3024 - accuracy: 0.1111 - val_loss: 2.3024 - val_accuracy: 0.1138\n",
            "Epoch 4/10\n",
            "19/19 [==============================] - 0s 11ms/step - loss: 2.3024 - accuracy: 0.1111 - val_loss: 2.3024 - val_accuracy: 0.1138\n",
            "Epoch 5/10\n",
            "19/19 [==============================] - 0s 11ms/step - loss: 2.3023 - accuracy: 0.1111 - val_loss: 2.3023 - val_accuracy: 0.1138\n",
            "Epoch 6/10\n",
            "19/19 [==============================] - 0s 12ms/step - loss: 2.3023 - accuracy: 0.1111 - val_loss: 2.3022 - val_accuracy: 0.1138\n",
            "Epoch 7/10\n",
            "19/19 [==============================] - 0s 12ms/step - loss: 2.3023 - accuracy: 0.1111 - val_loss: 2.3022 - val_accuracy: 0.1138\n",
            "Epoch 8/10\n",
            "19/19 [==============================] - 0s 12ms/step - loss: 2.3022 - accuracy: 0.1111 - val_loss: 2.3021 - val_accuracy: 0.1138\n",
            "Epoch 9/10\n",
            "19/19 [==============================] - 0s 11ms/step - loss: 2.3022 - accuracy: 0.1111 - val_loss: 2.3021 - val_accuracy: 0.1138\n",
            "Epoch 10/10\n",
            "19/19 [==============================] - 0s 12ms/step - loss: 2.3021 - accuracy: 0.1111 - val_loss: 2.3021 - val_accuracy: 0.1138\n"
          ]
        },
        {
          "data": {
            "text/plain": [
              "<keras.src.callbacks.History at 0x13b3ef7f890>"
            ]
          },
          "execution_count": 12,
          "metadata": {},
          "output_type": "execute_result"
        }
      ],
      "source": [
        "model_zeros.compile(optimizer=optimizer, loss='categorical_crossentropy', metrics=['accuracy'])\n",
        "model_zeros.fit(X_train, y_train, epochs=10, batch_size=3200, validation_data=(X_test, y_test))"
      ]
    },
    {
      "cell_type": "code",
      "execution_count": 13,
      "metadata": {
        "colab": {
          "base_uri": "https://localhost:8080/"
        },
        "id": "O9pihih9xLX_",
        "outputId": "41ed0620-39c2-4011-cecd-57344d27bb84"
      },
      "outputs": [
        {
          "name": "stderr",
          "output_type": "stream",
          "text": [
            "C:\\Users\\lifen\\AppData\\Local\\Packages\\PythonSoftwareFoundation.Python.3.11_qbz5n2kfra8p0\\LocalCache\\local-packages\\Python311\\site-packages\\keras\\src\\initializers\\initializers.py:120: UserWarning: The initializer GlorotUniform is unseeded and being called multiple times, which will return identical values each time (even if the initializer is unseeded). Please update your code to provide a seed to the initializer, or avoid using the same initializer instance more than once.\n",
            "  warnings.warn(\n"
          ]
        },
        {
          "name": "stdout",
          "output_type": "stream",
          "text": [
            "Epoch 1/10\n",
            "19/19 [==============================] - 1s 25ms/step - loss: 2.3136 - accuracy: 0.0841 - val_loss: 2.3006 - val_accuracy: 0.0883\n",
            "Epoch 2/10\n",
            "19/19 [==============================] - 0s 12ms/step - loss: 2.2934 - accuracy: 0.0998 - val_loss: 2.2816 - val_accuracy: 0.1000\n",
            "Epoch 3/10\n",
            "19/19 [==============================] - 0s 13ms/step - loss: 2.2737 - accuracy: 0.1170 - val_loss: 2.2623 - val_accuracy: 0.1247\n",
            "Epoch 4/10\n",
            "19/19 [==============================] - 0s 11ms/step - loss: 2.2532 - accuracy: 0.1393 - val_loss: 2.2411 - val_accuracy: 0.1481\n",
            "Epoch 5/10\n",
            "19/19 [==============================] - 0s 11ms/step - loss: 2.2299 - accuracy: 0.1675 - val_loss: 2.2162 - val_accuracy: 0.1775\n",
            "Epoch 6/10\n",
            "19/19 [==============================] - 0s 11ms/step - loss: 2.2018 - accuracy: 0.1995 - val_loss: 2.1850 - val_accuracy: 0.2106\n",
            "Epoch 7/10\n",
            "19/19 [==============================] - 0s 12ms/step - loss: 2.1666 - accuracy: 0.2350 - val_loss: 2.1457 - val_accuracy: 0.2391\n",
            "Epoch 8/10\n",
            "19/19 [==============================] - 0s 12ms/step - loss: 2.1226 - accuracy: 0.2660 - val_loss: 2.0972 - val_accuracy: 0.2685\n",
            "Epoch 9/10\n",
            "19/19 [==============================] - 0s 12ms/step - loss: 2.0694 - accuracy: 0.2939 - val_loss: 2.0404 - val_accuracy: 0.2999\n",
            "Epoch 10/10\n",
            "19/19 [==============================] - 0s 11ms/step - loss: 2.0097 - accuracy: 0.3178 - val_loss: 1.9797 - val_accuracy: 0.3305\n"
          ]
        },
        {
          "data": {
            "text/plain": [
              "<keras.src.callbacks.History at 0x13b40a6c190>"
            ]
          },
          "execution_count": 13,
          "metadata": {},
          "output_type": "execute_result"
        }
      ],
      "source": [
        "init = tf.initializers.glorot_uniform()\n",
        "activate = 'relu'\n",
        "optimizer = tf.keras.optimizers.SGD(learning_rate=0.01)\n",
        "model_glorotu = simple_model(init, activate)\n",
        "model_glorotu.compile(optimizer=optimizer, loss='categorical_crossentropy', metrics=['accuracy'])\n",
        "model_glorotu.fit(X_train, y_train, epochs=10, batch_size=3200, validation_data=(X_test, y_test))"
      ]
    },
    {
      "cell_type": "code",
      "execution_count": null,
      "metadata": {
        "id": "EdNCCY4uxbc3"
      },
      "outputs": [],
      "source": []
    }
  ],
  "metadata": {
    "colab": {
      "provenance": [],
      "toc_visible": true
    },
    "kernelspec": {
      "display_name": "Python 3",
      "name": "python3"
    },
    "language_info": {
      "codemirror_mode": {
        "name": "ipython",
        "version": 3
      },
      "file_extension": ".py",
      "mimetype": "text/x-python",
      "name": "python",
      "nbconvert_exporter": "python",
      "pygments_lexer": "ipython3",
      "version": "3.11.6"
    },
    "widgets": {
      "application/vnd.jupyter.widget-state+json": {
        "012dc702b4e9435a99c38848c959d5de": {
          "model_module": "@jupyter-widgets/base",
          "model_module_version": "1.2.0",
          "model_name": "LayoutModel",
          "state": {
            "_model_module": "@jupyter-widgets/base",
            "_model_module_version": "1.2.0",
            "_model_name": "LayoutModel",
            "_view_count": null,
            "_view_module": "@jupyter-widgets/base",
            "_view_module_version": "1.2.0",
            "_view_name": "LayoutView",
            "align_content": null,
            "align_items": null,
            "align_self": null,
            "border": null,
            "bottom": null,
            "display": null,
            "flex": null,
            "flex_flow": null,
            "grid_area": null,
            "grid_auto_columns": null,
            "grid_auto_flow": null,
            "grid_auto_rows": null,
            "grid_column": null,
            "grid_gap": null,
            "grid_row": null,
            "grid_template_areas": null,
            "grid_template_columns": null,
            "grid_template_rows": null,
            "height": null,
            "justify_content": null,
            "justify_items": null,
            "left": null,
            "margin": null,
            "max_height": null,
            "max_width": null,
            "min_height": null,
            "min_width": null,
            "object_fit": null,
            "object_position": null,
            "order": null,
            "overflow": null,
            "overflow_x": null,
            "overflow_y": null,
            "padding": null,
            "right": null,
            "top": null,
            "visibility": null,
            "width": null
          }
        },
        "1aef6d42741742f68ec379bdaff8477b": {
          "model_module": "@jupyter-widgets/base",
          "model_module_version": "1.2.0",
          "model_name": "LayoutModel",
          "state": {
            "_model_module": "@jupyter-widgets/base",
            "_model_module_version": "1.2.0",
            "_model_name": "LayoutModel",
            "_view_count": null,
            "_view_module": "@jupyter-widgets/base",
            "_view_module_version": "1.2.0",
            "_view_name": "LayoutView",
            "align_content": null,
            "align_items": null,
            "align_self": null,
            "border": null,
            "bottom": null,
            "display": null,
            "flex": null,
            "flex_flow": null,
            "grid_area": null,
            "grid_auto_columns": null,
            "grid_auto_flow": null,
            "grid_auto_rows": null,
            "grid_column": null,
            "grid_gap": null,
            "grid_row": null,
            "grid_template_areas": null,
            "grid_template_columns": null,
            "grid_template_rows": null,
            "height": null,
            "justify_content": null,
            "justify_items": null,
            "left": null,
            "margin": null,
            "max_height": null,
            "max_width": null,
            "min_height": null,
            "min_width": null,
            "object_fit": null,
            "object_position": null,
            "order": null,
            "overflow": null,
            "overflow_x": null,
            "overflow_y": null,
            "padding": null,
            "right": null,
            "top": null,
            "visibility": null,
            "width": null
          }
        },
        "7718097afc8e4999adc8bf60e2df1c80": {
          "model_module": "@jupyter-widgets/base",
          "model_module_version": "1.2.0",
          "model_name": "LayoutModel",
          "state": {
            "_model_module": "@jupyter-widgets/base",
            "_model_module_version": "1.2.0",
            "_model_name": "LayoutModel",
            "_view_count": null,
            "_view_module": "@jupyter-widgets/base",
            "_view_module_version": "1.2.0",
            "_view_name": "LayoutView",
            "align_content": null,
            "align_items": null,
            "align_self": null,
            "border": null,
            "bottom": null,
            "display": null,
            "flex": null,
            "flex_flow": null,
            "grid_area": null,
            "grid_auto_columns": null,
            "grid_auto_flow": null,
            "grid_auto_rows": null,
            "grid_column": null,
            "grid_gap": null,
            "grid_row": null,
            "grid_template_areas": null,
            "grid_template_columns": null,
            "grid_template_rows": null,
            "height": null,
            "justify_content": null,
            "justify_items": null,
            "left": null,
            "margin": null,
            "max_height": null,
            "max_width": null,
            "min_height": null,
            "min_width": null,
            "object_fit": null,
            "object_position": null,
            "order": null,
            "overflow": null,
            "overflow_x": null,
            "overflow_y": null,
            "padding": null,
            "right": null,
            "top": null,
            "visibility": null,
            "width": null
          }
        },
        "78109b1753ed4fe287712985d4c6bc66": {
          "model_module": "@jupyter-widgets/controls",
          "model_module_version": "1.5.0",
          "model_name": "HBoxModel",
          "state": {
            "_dom_classes": [],
            "_model_module": "@jupyter-widgets/controls",
            "_model_module_version": "1.5.0",
            "_model_name": "HBoxModel",
            "_view_count": null,
            "_view_module": "@jupyter-widgets/controls",
            "_view_module_version": "1.5.0",
            "_view_name": "HBoxView",
            "box_style": "",
            "children": [
              "IPY_MODEL_825576c279554d58a598872122d4d020",
              "IPY_MODEL_a59795f45cbf47cdab21229ace6e1309",
              "IPY_MODEL_b917332541aa419489c0345ccf3caa27"
            ],
            "layout": "IPY_MODEL_7718097afc8e4999adc8bf60e2df1c80"
          }
        },
        "825576c279554d58a598872122d4d020": {
          "model_module": "@jupyter-widgets/controls",
          "model_module_version": "1.5.0",
          "model_name": "HTMLModel",
          "state": {
            "_dom_classes": [],
            "_model_module": "@jupyter-widgets/controls",
            "_model_module_version": "1.5.0",
            "_model_name": "HTMLModel",
            "_view_count": null,
            "_view_module": "@jupyter-widgets/controls",
            "_view_module_version": "1.5.0",
            "_view_name": "HTMLView",
            "description": "",
            "description_tooltip": null,
            "layout": "IPY_MODEL_012dc702b4e9435a99c38848c959d5de",
            "placeholder": "​",
            "style": "IPY_MODEL_f8bdf7989ae148f9ae33156015267d6c",
            "value": "Dl Completed...: 100%"
          }
        },
        "8dd9de32c5094068ae66f8a8eaaf1260": {
          "model_module": "@jupyter-widgets/base",
          "model_module_version": "1.2.0",
          "model_name": "LayoutModel",
          "state": {
            "_model_module": "@jupyter-widgets/base",
            "_model_module_version": "1.2.0",
            "_model_name": "LayoutModel",
            "_view_count": null,
            "_view_module": "@jupyter-widgets/base",
            "_view_module_version": "1.2.0",
            "_view_name": "LayoutView",
            "align_content": null,
            "align_items": null,
            "align_self": null,
            "border": null,
            "bottom": null,
            "display": null,
            "flex": null,
            "flex_flow": null,
            "grid_area": null,
            "grid_auto_columns": null,
            "grid_auto_flow": null,
            "grid_auto_rows": null,
            "grid_column": null,
            "grid_gap": null,
            "grid_row": null,
            "grid_template_areas": null,
            "grid_template_columns": null,
            "grid_template_rows": null,
            "height": null,
            "justify_content": null,
            "justify_items": null,
            "left": null,
            "margin": null,
            "max_height": null,
            "max_width": null,
            "min_height": null,
            "min_width": null,
            "object_fit": null,
            "object_position": null,
            "order": null,
            "overflow": null,
            "overflow_x": null,
            "overflow_y": null,
            "padding": null,
            "right": null,
            "top": null,
            "visibility": null,
            "width": null
          }
        },
        "a0093b6ead5241e9a9c45c60146562d1": {
          "model_module": "@jupyter-widgets/controls",
          "model_module_version": "1.5.0",
          "model_name": "ProgressStyleModel",
          "state": {
            "_model_module": "@jupyter-widgets/controls",
            "_model_module_version": "1.5.0",
            "_model_name": "ProgressStyleModel",
            "_view_count": null,
            "_view_module": "@jupyter-widgets/base",
            "_view_module_version": "1.2.0",
            "_view_name": "StyleView",
            "bar_color": null,
            "description_width": ""
          }
        },
        "a59795f45cbf47cdab21229ace6e1309": {
          "model_module": "@jupyter-widgets/controls",
          "model_module_version": "1.5.0",
          "model_name": "FloatProgressModel",
          "state": {
            "_dom_classes": [],
            "_model_module": "@jupyter-widgets/controls",
            "_model_module_version": "1.5.0",
            "_model_name": "FloatProgressModel",
            "_view_count": null,
            "_view_module": "@jupyter-widgets/controls",
            "_view_module_version": "1.5.0",
            "_view_name": "ProgressView",
            "bar_style": "success",
            "description": "",
            "description_tooltip": null,
            "layout": "IPY_MODEL_8dd9de32c5094068ae66f8a8eaaf1260",
            "max": 5,
            "min": 0,
            "orientation": "horizontal",
            "style": "IPY_MODEL_a0093b6ead5241e9a9c45c60146562d1",
            "value": 5
          }
        },
        "a79e5560e2cb445d9e03656d8e7e3534": {
          "model_module": "@jupyter-widgets/controls",
          "model_module_version": "1.5.0",
          "model_name": "DescriptionStyleModel",
          "state": {
            "_model_module": "@jupyter-widgets/controls",
            "_model_module_version": "1.5.0",
            "_model_name": "DescriptionStyleModel",
            "_view_count": null,
            "_view_module": "@jupyter-widgets/base",
            "_view_module_version": "1.2.0",
            "_view_name": "StyleView",
            "description_width": ""
          }
        },
        "b917332541aa419489c0345ccf3caa27": {
          "model_module": "@jupyter-widgets/controls",
          "model_module_version": "1.5.0",
          "model_name": "HTMLModel",
          "state": {
            "_dom_classes": [],
            "_model_module": "@jupyter-widgets/controls",
            "_model_module_version": "1.5.0",
            "_model_name": "HTMLModel",
            "_view_count": null,
            "_view_module": "@jupyter-widgets/controls",
            "_view_module_version": "1.5.0",
            "_view_name": "HTMLView",
            "description": "",
            "description_tooltip": null,
            "layout": "IPY_MODEL_1aef6d42741742f68ec379bdaff8477b",
            "placeholder": "​",
            "style": "IPY_MODEL_a79e5560e2cb445d9e03656d8e7e3534",
            "value": " 5/5 [00:00&lt;00:00,  8.31 file/s]"
          }
        },
        "f8bdf7989ae148f9ae33156015267d6c": {
          "model_module": "@jupyter-widgets/controls",
          "model_module_version": "1.5.0",
          "model_name": "DescriptionStyleModel",
          "state": {
            "_model_module": "@jupyter-widgets/controls",
            "_model_module_version": "1.5.0",
            "_model_name": "DescriptionStyleModel",
            "_view_count": null,
            "_view_module": "@jupyter-widgets/base",
            "_view_module_version": "1.2.0",
            "_view_name": "StyleView",
            "description_width": ""
          }
        }
      }
    }
  },
  "nbformat": 4,
  "nbformat_minor": 0
}
