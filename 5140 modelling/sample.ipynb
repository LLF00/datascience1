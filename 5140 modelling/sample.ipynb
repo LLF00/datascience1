{
 "cells": [
  {
   "cell_type": "code",
   "execution_count": 2,
   "metadata": {},
   "outputs": [],
   "source": [
    "import pandas as po\n",
    "import numpy as np\n",
    "from datetime import timedelta, datetime\n",
    "import random\n",
    "import matplotlib.pyplot as plt\n",
    "import pandas as pd"
   ]
  },
  {
   "cell_type": "code",
   "execution_count": 4,
   "metadata": {},
   "outputs": [],
   "source": [
    "# Function to generate a random date within a range\n",
    "def random_date(start, end):\n",
    "    return start + timedelta(\n",
    "        days=random.randint(0, int((end - start).days)))\n",
    "\n",
    "# Define the start and end dates for the dataset period\n",
    "start_date = datetime(2009, 1, 1)\n",
    "end_date = datetime(2011, 12, 31)"
   ]
  },
  {
   "cell_type": "code",
   "execution_count": 5,
   "metadata": {},
   "outputs": [],
   "source": [
    "# Sample values for categorical variables\n",
    "customer_country_codes = ['USA', 'CAN', 'GBR', 'AUS', 'DEU']\n",
    "product_codes = ['P001', 'P002', 'P003', 'P004', 'P005']\n",
    "order_types = ['VO']\n",
    "routes = ['Air', 'Sea', 'Road', 'Rail']\n",
    "currencies = ['USD', 'CAD', 'GBP', 'AUD', 'EUR']"
   ]
  },
  {
   "cell_type": "code",
   "execution_count": 6,
   "metadata": {},
   "outputs": [
    {
     "name": "stdout",
     "output_type": "stream",
     "text": [
      "  Order Date Requested Delivery Date Customer Country Code Product Code  \\\n",
      "0 2009-03-24              2009-06-15                   USA         P004   \n",
      "1 2009-11-09              2010-01-01                   USA         P001   \n",
      "2 2010-05-13              2010-08-23                   GBR         P003   \n",
      "3 2011-03-01              2011-06-06                   CAN         P005   \n",
      "4 2010-07-15              2010-12-08                   CAN         P002   \n",
      "\n",
      "    Description Order Type Customer Order Code   Value Currency       Items  \\\n",
      "0  Parka - P004         VO             CO-3417  910.66      AUD  139.320725   \n",
      "1  Parka - P001         VO             CO-5441  592.45      GBP  102.874628   \n",
      "2  Parka - P003         VO             CO-8435  929.19      USD  775.872252   \n",
      "3  Parka - P005         VO             CO-4825  324.58      CAD  548.211910   \n",
      "4  Parka - P002         VO             CO-2256  560.60      CAD  484.419253   \n",
      "\n",
      "  Route  \n",
      "0  Rail  \n",
      "1  Road  \n",
      "2   Sea  \n",
      "3  Road  \n",
      "4   Air  \n"
     ]
    }
   ],
   "source": [
    "# Number of rows in the dataset\n",
    "num_rows = 2421\n",
    "\n",
    "# Generating the dataset\n",
    "data = []\n",
    "for _ in range(num_rows):\n",
    "    order_date = random_date(start_date, end_date)\n",
    "    delivery_date = order_date + timedelta(days=random.randint(15,180))\n",
    "    country_code = random.choice(customer_country_codes)\n",
    "    product_code = random.choice(product_codes)\n",
    "    order_type = random.choice(order_types)\n",
    "    route = random.choice(routes)\n",
    "    currency = random.choice(currencies)\n",
    "    value = round(random.uniform(100, 1000), 2)\n",
    "    items = random.uniform(100, 1000)\n",
    "    description = f\"Parka - {product_code}\"\n",
    "\n",
    "    data.append([order_date, delivery_date, country_code, product_code, description,\n",
    "                 order_type, f'CO-{random.randint(1000, 9999)}', value, currency, items, route])\n",
    "\n",
    "# Creating DataFrame\n",
    "df = pd.DataFrame(data, columns=['Order Date', 'Requested Delivery Date', 'Customer Country Code',\n",
    "                                 'Product Code', 'Description', 'Order Type', 'Customer Order Code',\n",
    "                                 'Value', 'Currency', 'Items', 'Route'])\n",
    "\n",
    "print(df.head())  # Display the first few rows of the dataset"
   ]
  },
  {
   "cell_type": "code",
   "execution_count": 7,
   "metadata": {},
   "outputs": [],
   "source": [
    "# Save DataFrame to CSV\n",
    "df.to_csv('xyz_sportswear_dataset_random.csv', index=False)"
   ]
  },
  {
   "cell_type": "code",
   "execution_count": 8,
   "metadata": {},
   "outputs": [
    {
     "name": "stdout",
     "output_type": "stream",
     "text": [
      "Current Working Directory: C:\\Users\\lifen\\AppData\\Local\\Programs\\Microsoft VS Code\n"
     ]
    }
   ],
   "source": [
    "import os\n",
    "print(\"Current Working Directory:\", os.getcwd())"
   ]
  },
  {
   "cell_type": "code",
   "execution_count": null,
   "metadata": {},
   "outputs": [],
   "source": []
  }
 ],
 "metadata": {
  "kernelspec": {
   "display_name": "Python 3",
   "language": "python",
   "name": "python3"
  },
  "language_info": {
   "codemirror_mode": {
    "name": "ipython",
    "version": 3
   },
   "file_extension": ".py",
   "mimetype": "text/x-python",
   "name": "python",
   "nbconvert_exporter": "python",
   "pygments_lexer": "ipython3",
   "version": "3.11.7"
  }
 },
 "nbformat": 4,
 "nbformat_minor": 2
}
