{
 "cells": [
  {
   "cell_type": "code",
   "execution_count": 16,
   "metadata": {},
   "outputs": [
    {
     "name": "stdout",
     "output_type": "stream",
     "text": [
      "Random numbers: [69, 51, 70, 34.18, 93.27]\n",
      "Average: 63.49\n"
     ]
    }
   ],
   "source": [
    "import random\n",
    "\n",
    "def calculate_average(numbers):\n",
    "    return round(sum(numbers) / len(numbers), 2)\n",
    "\n",
    "numbers = []\n",
    "\n",
    "#Generate 3 random integers\n",
    "for _ in range(3):\n",
    "    numbers.append(random.randint(1, 100))\n",
    "\n",
    "#Generate 2 random decimals\n",
    "for _ in range(2):\n",
    "    numbers.append(round(random.uniform(1.0, 100.0), 2))\n",
    "\n",
    "print(\"Random numbers:\", numbers)\n",
    "\n",
    "average = calculate_average(numbers)\n",
    "print(\"Average:\", average)\t\t\t\t\t\n",
    "\n"
   ]
  },
  {
   "cell_type": "code",
   "execution_count": 13,
   "metadata": {},
   "outputs": [
    {
     "name": "stdout",
     "output_type": "stream",
     "text": [
      "5.72\n"
     ]
    }
   ],
   "source": [
    "def calculate_average(numbers):\n",
    "    return round(sum(numbers) / len(numbers), 2)\n",
    "# Pick 5 numbers\n",
    "numbers = [7.15, 6, 5.332, 2.1, 8]\n",
    "print(calculate_average(numbers))\n"
   ]
  },
  {
   "cell_type": "code",
   "execution_count": 17,
   "metadata": {},
   "outputs": [
    {
     "name": "stdout",
     "output_type": "stream",
     "text": [
      "Random numbers: [58, 31, 89, 21.39, 18.85]\n",
      "Average: 43.65\n"
     ]
    },
    {
     "ename": "",
     "evalue": "",
     "output_type": "error",
     "traceback": [
      "\u001b[1;31mThe Kernel crashed while executing code in the current cell or a previous cell. \n",
      "\u001b[1;31mPlease review the code in the cell(s) to identify a possible cause of the failure. \n",
      "\u001b[1;31mClick <a href='https://aka.ms/vscodeJupyterKernelCrash'>here</a> for more info. \n",
      "\u001b[1;31mView Jupyter <a href='command:jupyter.viewOutput'>log</a> for further details."
     ]
    }
   ],
   "source": [
    "import random\n",
    "\n",
    "def calculate_average(numbers):\n",
    "    if len(numbers) == 0:\n",
    "        return 0.00\n",
    "    else:\n",
    "        return round(sum(numbers) / len(numbers), 2)\n",
    "\n",
    "numbers = []\n",
    "\n",
    "# Generate 3 random integers\n",
    "for _ in range(3):\n",
    "    numbers.append(random.randint(1, 100))\n",
    "\n",
    "# Generate 2 random decimals\n",
    "for _ in range(2):\n",
    "    numbers.append(round(random.uniform(1.0, 100.0), 2))\n",
    "\n",
    "print(\"Random numbers:\", numbers)\n",
    "\n",
    "average = calculate_average(numbers)\n",
    "print(\"Average:\", average)\n"
   ]
  }
 ],
 "metadata": {
  "kernelspec": {
   "display_name": "Python 3",
   "language": "python",
   "name": "python3"
  },
  "language_info": {
   "codemirror_mode": {
    "name": "ipython",
    "version": 3
   },
   "file_extension": ".py",
   "mimetype": "text/x-python",
   "name": "python",
   "nbconvert_exporter": "python",
   "pygments_lexer": "ipython3",
   "version": "3.11.9"
  }
 },
 "nbformat": 4,
 "nbformat_minor": 2
}
