{
 "cells": [
  {
   "cell_type": "code",
   "execution_count": 17,
   "metadata": {},
   "outputs": [
    {
     "name": "stdout",
     "output_type": "stream",
     "text": [
      "Requirement already satisfied: gurobipy in c:\\users\\lifen\\appdata\\local\\packages\\pythonsoftwarefoundation.python.3.11_qbz5n2kfra8p0\\localcache\\local-packages\\python311\\site-packages (11.0.0)\n",
      "Note: you may need to restart the kernel to use updated packages.\n"
     ]
    },
    {
     "name": "stderr",
     "output_type": "stream",
     "text": [
      "\n",
      "[notice] A new release of pip is available: 23.3.1 -> 23.3.2\n",
      "[notice] To update, run: C:\\Users\\lifen\\AppData\\Local\\Microsoft\\WindowsApps\\PythonSoftwareFoundation.Python.3.11_qbz5n2kfra8p0\\python.exe -m pip install --upgrade pip\n"
     ]
    }
   ],
   "source": [
    "pip install gurobipy"
   ]
  },
  {
   "cell_type": "code",
   "execution_count": 2,
   "metadata": {},
   "outputs": [],
   "source": [
    "from gurobipy import GRB\n",
    "import gurobipy as gb"
   ]
  },
  {
   "cell_type": "code",
   "execution_count": 1,
   "metadata": {},
   "outputs": [],
   "source": [
    "# Define given data\n",
    "months = ['May', 'June', 'July'] # No need to list 'August'\n",
    "revenues = [180000, 260000, 420000, 580000]\n",
    "expenses = [300000, 400000, 350000, 200000]\n",
    "min_cash_balance = [25000, 20000, 35000, 18000]\n",
    "max_borrow_amount = [250000, 150000, 350000]\n",
    "init_cash_balance = 140000\n",
    "interest_rates = {\n",
    "    'May': [0.0175, 0.0225, 0.0275],\n",
    "    'June': [0.0175, 0.0225],\n",
    "    'July': [0.0175]\n",
    "}"
   ]
  },
  {
   "cell_type": "code",
   "execution_count": 7,
   "metadata": {},
   "outputs": [
    {
     "name": "stdout",
     "output_type": "stream",
     "text": [
      "Restricted license - for non-production use only - expires 2025-11-24\n",
      "Gurobi Optimizer version 11.0.0 build v11.0.0rc2 (win64 - Windows 11.0 (22621.2))\n",
      "\n",
      "CPU model: 12th Gen Intel(R) Core(TM) i7-1255U, instruction set [SSE2|AVX|AVX2]\n",
      "Thread count: 10 physical cores, 12 logical processors, using up to 12 threads\n",
      "\n",
      "Optimize a model with 9 rows, 6 columns and 30 nonzeros\n",
      "Model fingerprint: 0x24866750\n",
      "Coefficient statistics:\n",
      "  Matrix range     [1e+00, 1e+00]\n",
      "  Objective range  [2e-02, 3e-02]\n",
      "  Bounds range     [0e+00, 0e+00]\n",
      "  RHS range        [5e+03, 5e+05]\n",
      "Presolve removed 6 rows and 0 columns\n",
      "Presolve time: 0.02s\n",
      "Presolved: 3 rows, 8 columns, 13 nonzeros\n",
      "\n",
      "Iteration    Objective       Primal Inf.    Dual Inf.      Time\n",
      "       0    0.0000000e+00   6.162500e+04   0.000000e+00      0s\n",
      "       3    8.0491400e+03   0.000000e+00   0.000000e+00      0s\n",
      "\n",
      "Solved in 3 iterations and 0.03 seconds (0.00 work units)\n",
      "Optimal objective  8.049140049e+03\n",
      "Optimal solution found!\n",
      "Total repayment: $8049.14\n",
      "Borrow in May at rate 0.0175: $250000.00\n",
      "Borrow in May at rate 0.0225: $0.00\n",
      "Borrow in May at rate 0.0275: $0.00\n",
      "Borrow in June at rate 0.0175: $150000.00\n",
      "Borrow in June at rate 0.0225: $0.00\n",
      "Borrow in July at rate 0.0175: $59950.86\n"
     ]
    }
   ],
   "source": [
    "def find_model_optimization(model):\n",
    "    # Decision variables\n",
    "    borrow = {(i, j): model.addVar(vtype=GRB.CONTINUOUS, name=f\"borrow_{i}_{j}\")\n",
    "          for i in months for j in range(len(interest_rates[i]))}\n",
    "\n",
    "    # Objective function: minimize total repayment\n",
    "    model.setObjective(gb.quicksum(borrow[i, j] * interest_rates[i][j] for i in months for j in range(len(interest_rates[i]))),\n",
    "                   GRB.MINIMIZE)\n",
    "\n",
    "    # Constrints\n",
    "    for i in range(len(months)):\n",
    "        # cash balance constraints: borrow + init_balance + revenue - expenses >= min_cash_balance\n",
    "        model.addConstr(gb.quicksum(borrow[months[i], j] for j in range(len(interest_rates[months[i]]))) +\n",
    "                    init_cash_balance + revenues[i] - expenses[i] >= min_cash_balance[i], f\"cash_balance_{months[i]}\")\n",
    "\n",
    "        # total amount borrowed constraint\n",
    "        model.addConstr(gb.quicksum(borrow[months[i], j] for j in range(len(interest_rates[months[i]]))) <=\n",
    "                    max_borrow_amount[i], f\"total_borrowed_{months[i]}\")\n",
    "\n",
    "\n",
    "        # cash balance constraint for end of July\n",
    "        may_cash = gb.quicksum(borrow[months[0], j] * (1 + interest_rates[months[0]][j]) for j in range(len(interest_rates[months[0]])))\n",
    "        june_cash = gb.quicksum(borrow[months[1], j] * (1 + interest_rates[months[1]][j]) for j in range(len(interest_rates[months[1]])))\n",
    "        july_cash = borrow[months[2], 0] * (1 + interest_rates[months[2]][0])\n",
    "\n",
    "        model.addConstr(may_cash + june_cash + july_cash >= 0.65 *\n",
    "                (init_cash_balance + revenues[0] + init_cash_balance + revenues[1]),\n",
    "                \"end_of_July_constraint\")\n",
    "\n",
    "    # optimize the Model\n",
    "    model.optimize()\n",
    "\n",
    "    # display the results\n",
    "    if model.status == gb.GRB.OPTIMAL:\n",
    "        print(\"Optimal solution found!\")\n",
    "        total_repayment = model.objVal\n",
    "        print(f\"Total repayment: ${total_repayment:.2f}\")\n",
    "\n",
    "        for i in months:\n",
    "            for j in  range(len(interest_rates[i])):\n",
    "                print(f\"Borrow in {i} at rate {interest_rates[i][j]}: ${borrow[i, j].x:.2f}\")\n",
    "    else:\n",
    "        print(\"No optimal solution found.\")\n",
    "\n",
    "\n",
    "# Create a model\n",
    "model = gb.Model('bank_repay_optimization')\n",
    "find_model_optimization(model)\n"
   ]
  }
 ],
 "metadata": {
  "kernelspec": {
   "display_name": "Python 3",
   "language": "python",
   "name": "python3"
  },
  "language_info": {
   "codemirror_mode": {
    "name": "ipython",
    "version": 3
   },
   "file_extension": ".py",
   "mimetype": "text/x-python",
   "name": "python",
   "nbconvert_exporter": "python",
   "pygments_lexer": "ipython3",
   "version": "3.11.7"
  }
 },
 "nbformat": 4,
 "nbformat_minor": 2
}
