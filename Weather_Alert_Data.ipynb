{
 "cells": [
  {
   "cell_type": "markdown",
   "id": "ed0e0f84",
   "metadata": {},
   "source": [
    "# Weather Warning Data\n",
    "\n",
    "\n",
    "## Data Location\n",
    "The data can be accessed at the following URLs:\n",
    "\n",
    "https://dd.weather.gc.ca/alerts/cap/{YYYYMMDD}/{EEEE}/{hh}/\n",
    "\n",
    "A 30-day history is kept in this directory.\n",
    "where:\n",
    "- YYYYMMDD: warning transmission day.\n",
    "- EEEE: 4 letters for the responsible office code except LAND or WATR for tornado warning and severe thunderstorm warning alerts.\n",
    "- hh: warning transmission hour.\n",
    "- The LAND directory contains the CAP-XML files for all tornado warning and severe thunderstorm warning alerts that are issued over land zones in Canada.\n",
    "\n",
    "## File name nomenclature\n",
    "NOTE: ALL HOURS ARE IN UTC.\n",
    "\n",
    "The directories have the following nomenclature :\n",
    "\n",
    "alerts/cap/YYYYMMDD/\n",
    "\n",
    "The filenames have the following nomenclature :\n",
    "\n",
    "T_BBBBNN_C_EEEE_YYYYMMDDhh_##########.cap\n",
    "\n",
    "where:\n",
    "\n",
    "- T: constant string. Literal specification from WMO-386 manual as a prefix for this file naming convention.\n",
    "- BBBBNN (for tornado and severe thunderstorm alerts): 4 letters and 2 numbers representing the 2 letter province or water body code, the 2 letter country code CN (from the WMO list), and a 2 digit numeric code set to 00 to satisfy the format of the existing filename structure. Ex: ABCN00.\n",
    "- BBBBNN (for all other alerts): 4 letters and 2 numbers representing the traditional WMO bulletin header used for the alert bulletin on the WMO transmission circuits. Ex: WWCN11.\n",
    "\n",
    "- C: constant string. Specified by the WMO, as a prefix for the CCCC group.\n",
    "- EEEE: 4 letters for the responsible office code (CWAO, CWTO, etc.). The exception is for tornado warning and severe thunderstorm warning alerts where the 4 letters are either LAND or WATR rather than responsible office.\n",
    "- YYYYMMDDhhmm: warning transmission date/time (UTC).\n",
    "- '##########': the 10 numeric digit CAP message identifier found in the CAP file"
   ]
  },
  {
   "cell_type": "code",
   "execution_count": 1,
   "id": "448244d0",
   "metadata": {},
   "outputs": [],
   "source": [
    "from datetime import datetime, date\n",
    "from datetime import timedelta\n",
    "import subprocess\n",
    "import os\n",
    "import pandas as pd\n",
    "import xml.etree.ElementTree as ET"
   ]
  },
  {
   "cell_type": "code",
   "execution_count": 2,
   "id": "870f03bf",
   "metadata": {},
   "outputs": [],
   "source": [
    "# Define where the data store locally\n",
    "# save_dir = './alerts'\n",
    "\n",
    "# For windows\n",
    "# save_dir = r'D:\\3.MMAI5100 Database Fundametals\\WeatherAPI\\alerts'\n",
    "save_dir = '.'"
   ]
  },
  {
   "cell_type": "code",
   "execution_count": 3,
   "id": "72de6751",
   "metadata": {},
   "outputs": [
    {
     "data": {
      "text/plain": [
       "datetime.date(2023, 8, 13)"
      ]
     },
     "execution_count": 3,
     "metadata": {},
     "output_type": "execute_result"
    }
   ],
   "source": [
    "current_date = date.today()\n",
    "current_date"
   ]
  },
  {
   "cell_type": "markdown",
   "id": "4bc53bba",
   "metadata": {},
   "source": [
    "# NOTE\n",
    "After the first time, no need to run week_dates again"
   ]
  },
  {
   "cell_type": "code",
   "execution_count": 4,
   "id": "de55ce2c",
   "metadata": {},
   "outputs": [],
   "source": [
    "# Get the latest one week date \n",
    "# week_dates = [(current_date - timedelta(days=i)).strftime('%Y%m%d') for i in range(0, 7)]"
   ]
  },
  {
   "cell_type": "code",
   "execution_count": null,
   "id": "c0f5d159",
   "metadata": {},
   "outputs": [],
   "source": []
  },
  {
   "cell_type": "markdown",
   "id": "f432a5b4",
   "metadata": {},
   "source": [
    "# Define some helper functions"
   ]
  },
  {
   "cell_type": "code",
   "execution_count": 5,
   "id": "ecb02426",
   "metadata": {},
   "outputs": [],
   "source": [
    "def get_remote_data(url):\n",
    "    if not os.path.exists(save_dir):\n",
    "        os.makedirs(save_dir)\n",
    "    cmd = ['wget', '-r', '-np', '-nH', '--cut-dirs=1', '-P', save_dir, url]\n",
    "    process = subprocess.Popen(\n",
    "        cmd,\n",
    "        stdout = subprocess.PIPE,\n",
    "        stderr = subprocess.PIPE\n",
    "    )\n",
    "    process.communicate()\n",
    "    \n",
    "    if process.returncode != 0:\n",
    "        print(\"url does not exist!\")"
   ]
  },
  {
   "cell_type": "code",
   "execution_count": 6,
   "id": "fbeffd8f",
   "metadata": {},
   "outputs": [],
   "source": [
    "def get_element_tag(element):\n",
    "    if element.tag[0] == \"{\":\n",
    "        uri, ignore, tag = element.tag[1:].partition(\"}\")\n",
    "    else:\n",
    "        uri = None\n",
    "        tag = element.tag\n",
    "    return tag, \"{\"+uri+\"}\""
   ]
  },
  {
   "cell_type": "code",
   "execution_count": 7,
   "id": "93bc14bd",
   "metadata": {},
   "outputs": [],
   "source": [
    "def get_area_info(area):\n",
    "    areaDesc = ''\n",
    "    ploygon = ''\n",
    "    geocodes = []\n",
    "    for attr in area:\n",
    "        tag, uri = get_element_tag(attr)\n",
    "        if tag == 'areaDesc':\n",
    "            areaDesc = attr.text\n",
    "        if tag == 'polygon':\n",
    "            ploygon = attr.text\n",
    "        if tag == 'geocode':\n",
    "            for geo in attr:\n",
    "                tag, uri = get_element_tag(geo)\n",
    "                if tag == 'value':\n",
    "                    geocodes.append(geo.text)\n",
    "                    \n",
    "    geocodes = ','.join(geocodes)\n",
    "\n",
    "    return areaDesc, ploygon, geocodes"
   ]
  },
  {
   "cell_type": "markdown",
   "id": "9ccb6c0b",
   "metadata": {},
   "source": [
    "## Note\n",
    "For testing purpose, we only collect alerts from Ontario Storm Prediction Centre (CWTO) and tornado warning and severe thrunderstorm warning alerts on LAND."
   ]
  },
  {
   "cell_type": "code",
   "execution_count": 8,
   "id": "7808c283",
   "metadata": {},
   "outputs": [],
   "source": [
    "hours = [\"{:02d}\".format(i) for i in range(0, 24)]\n",
    "# dests = [\"CWTO\", \"LAND\"]\n",
    "# Full data\n",
    "dests = [\"CWHX\", \"CWNT\", \"CWTO\", \"CWUL\", \"CWVR\", \"CWWG\", \"LAND\"]"
   ]
  },
  {
   "cell_type": "markdown",
   "id": "e614696d",
   "metadata": {},
   "source": [
    "# Get Remote Data\n",
    "- If this is your first time run the code, you can download the last 7 days data\n",
    "- Daily run:\n",
    "    - Skip week data downloading\n",
    "    - Just download current date data\n",
    "    \n",
    "\n",
    "# Best and Fast way to get Remote Data\n",
    "Using Advanced Message Queuing Protocol(AMQP) they provided.\n",
    "\n",
    "https://eccc-msc.github.io/open-data/msc-datamart/amqp_en/\n"
   ]
  },
  {
   "cell_type": "code",
   "execution_count": 9,
   "id": "437e0c38",
   "metadata": {},
   "outputs": [
    {
     "data": {
      "text/plain": [
       "'\\nfor date in week_dates:\\n    for dest in dests:\\n        remote_path = \"https://dd.weather.gc.ca/alerts/cap/{}/{}/\".format(date, dest)\\n        get_remote_data(remote_path)\\n'"
      ]
     },
     "execution_count": 9,
     "metadata": {},
     "output_type": "execute_result"
    }
   ],
   "source": [
    "'''\n",
    "for date in week_dates:\n",
    "    for dest in dests:\n",
    "        remote_path = \"https://dd.weather.gc.ca/alerts/cap/{}/{}/\".format(date, dest)\n",
    "        get_remote_data(remote_path)\n",
    "'''"
   ]
  },
  {
   "cell_type": "code",
   "execution_count": 12,
   "id": "7666b4c9",
   "metadata": {},
   "outputs": [
    {
     "name": "stdout",
     "output_type": "stream",
     "text": [
      "https://dd.weather.gc.ca/alerts/cap/20230813/CWHX/\n"
     ]
    },
    {
     "ename": "FileNotFoundError",
     "evalue": "[WinError 2] The system cannot find the file specified",
     "output_type": "error",
     "traceback": [
      "\u001b[1;31m---------------------------------------------------------------------------\u001b[0m",
      "\u001b[1;31mFileNotFoundError\u001b[0m                         Traceback (most recent call last)",
      "Cell \u001b[1;32mIn[12], line 5\u001b[0m\n\u001b[0;32m      3\u001b[0m remote_path \u001b[39m=\u001b[39m \u001b[39m\"\u001b[39m\u001b[39mhttps://dd.weather.gc.ca/alerts/cap/\u001b[39m\u001b[39m{}\u001b[39;00m\u001b[39m/\u001b[39m\u001b[39m{}\u001b[39;00m\u001b[39m/\u001b[39m\u001b[39m\"\u001b[39m\u001b[39m.\u001b[39mformat(current_date, dest)\n\u001b[0;32m      4\u001b[0m \u001b[39mprint\u001b[39m(remote_path)\n\u001b[1;32m----> 5\u001b[0m get_remote_data(remote_path)\n",
      "Cell \u001b[1;32mIn[5], line 5\u001b[0m, in \u001b[0;36mget_remote_data\u001b[1;34m(url)\u001b[0m\n\u001b[0;32m      3\u001b[0m     os\u001b[39m.\u001b[39mmakedirs(save_dir)\n\u001b[0;32m      4\u001b[0m cmd \u001b[39m=\u001b[39m [\u001b[39m'\u001b[39m\u001b[39mwget\u001b[39m\u001b[39m'\u001b[39m, \u001b[39m'\u001b[39m\u001b[39m-r\u001b[39m\u001b[39m'\u001b[39m, \u001b[39m'\u001b[39m\u001b[39m-np\u001b[39m\u001b[39m'\u001b[39m, \u001b[39m'\u001b[39m\u001b[39m-nH\u001b[39m\u001b[39m'\u001b[39m, \u001b[39m'\u001b[39m\u001b[39m--cut-dirs=1\u001b[39m\u001b[39m'\u001b[39m, \u001b[39m'\u001b[39m\u001b[39m-P\u001b[39m\u001b[39m'\u001b[39m, save_dir, url]\n\u001b[1;32m----> 5\u001b[0m process \u001b[39m=\u001b[39m subprocess\u001b[39m.\u001b[39;49mPopen(\n\u001b[0;32m      6\u001b[0m     cmd,\n\u001b[0;32m      7\u001b[0m     stdout \u001b[39m=\u001b[39;49m subprocess\u001b[39m.\u001b[39;49mPIPE,\n\u001b[0;32m      8\u001b[0m     stderr \u001b[39m=\u001b[39;49m subprocess\u001b[39m.\u001b[39;49mPIPE\n\u001b[0;32m      9\u001b[0m )\n\u001b[0;32m     10\u001b[0m process\u001b[39m.\u001b[39mcommunicate()\n\u001b[0;32m     12\u001b[0m \u001b[39mif\u001b[39;00m process\u001b[39m.\u001b[39mreturncode \u001b[39m!=\u001b[39m \u001b[39m0\u001b[39m:\n",
      "File \u001b[1;32mC:\\Program Files\\WindowsApps\\PythonSoftwareFoundation.Python.3.11_3.11.1008.0_x64__qbz5n2kfra8p0\\Lib\\subprocess.py:1024\u001b[0m, in \u001b[0;36mPopen.__init__\u001b[1;34m(self, args, bufsize, executable, stdin, stdout, stderr, preexec_fn, close_fds, shell, cwd, env, universal_newlines, startupinfo, creationflags, restore_signals, start_new_session, pass_fds, user, group, extra_groups, encoding, errors, text, umask, pipesize, process_group)\u001b[0m\n\u001b[0;32m   1020\u001b[0m         \u001b[39mif\u001b[39;00m \u001b[39mself\u001b[39m\u001b[39m.\u001b[39mtext_mode:\n\u001b[0;32m   1021\u001b[0m             \u001b[39mself\u001b[39m\u001b[39m.\u001b[39mstderr \u001b[39m=\u001b[39m io\u001b[39m.\u001b[39mTextIOWrapper(\u001b[39mself\u001b[39m\u001b[39m.\u001b[39mstderr,\n\u001b[0;32m   1022\u001b[0m                     encoding\u001b[39m=\u001b[39mencoding, errors\u001b[39m=\u001b[39merrors)\n\u001b[1;32m-> 1024\u001b[0m     \u001b[39mself\u001b[39;49m\u001b[39m.\u001b[39;49m_execute_child(args, executable, preexec_fn, close_fds,\n\u001b[0;32m   1025\u001b[0m                         pass_fds, cwd, env,\n\u001b[0;32m   1026\u001b[0m                         startupinfo, creationflags, shell,\n\u001b[0;32m   1027\u001b[0m                         p2cread, p2cwrite,\n\u001b[0;32m   1028\u001b[0m                         c2pread, c2pwrite,\n\u001b[0;32m   1029\u001b[0m                         errread, errwrite,\n\u001b[0;32m   1030\u001b[0m                         restore_signals,\n\u001b[0;32m   1031\u001b[0m                         gid, gids, uid, umask,\n\u001b[0;32m   1032\u001b[0m                         start_new_session, process_group)\n\u001b[0;32m   1033\u001b[0m \u001b[39mexcept\u001b[39;00m:\n\u001b[0;32m   1034\u001b[0m     \u001b[39m# Cleanup if the child failed starting.\u001b[39;00m\n\u001b[0;32m   1035\u001b[0m     \u001b[39mfor\u001b[39;00m f \u001b[39min\u001b[39;00m \u001b[39mfilter\u001b[39m(\u001b[39mNone\u001b[39;00m, (\u001b[39mself\u001b[39m\u001b[39m.\u001b[39mstdin, \u001b[39mself\u001b[39m\u001b[39m.\u001b[39mstdout, \u001b[39mself\u001b[39m\u001b[39m.\u001b[39mstderr)):\n",
      "File \u001b[1;32mC:\\Program Files\\WindowsApps\\PythonSoftwareFoundation.Python.3.11_3.11.1008.0_x64__qbz5n2kfra8p0\\Lib\\subprocess.py:1509\u001b[0m, in \u001b[0;36mPopen._execute_child\u001b[1;34m(self, args, executable, preexec_fn, close_fds, pass_fds, cwd, env, startupinfo, creationflags, shell, p2cread, p2cwrite, c2pread, c2pwrite, errread, errwrite, unused_restore_signals, unused_gid, unused_gids, unused_uid, unused_umask, unused_start_new_session, unused_process_group)\u001b[0m\n\u001b[0;32m   1507\u001b[0m \u001b[39m# Start the process\u001b[39;00m\n\u001b[0;32m   1508\u001b[0m \u001b[39mtry\u001b[39;00m:\n\u001b[1;32m-> 1509\u001b[0m     hp, ht, pid, tid \u001b[39m=\u001b[39m _winapi\u001b[39m.\u001b[39;49mCreateProcess(executable, args,\n\u001b[0;32m   1510\u001b[0m                              \u001b[39m# no special security\u001b[39;49;00m\n\u001b[0;32m   1511\u001b[0m                              \u001b[39mNone\u001b[39;49;00m, \u001b[39mNone\u001b[39;49;00m,\n\u001b[0;32m   1512\u001b[0m                              \u001b[39mint\u001b[39;49m(\u001b[39mnot\u001b[39;49;00m close_fds),\n\u001b[0;32m   1513\u001b[0m                              creationflags,\n\u001b[0;32m   1514\u001b[0m                              env,\n\u001b[0;32m   1515\u001b[0m                              cwd,\n\u001b[0;32m   1516\u001b[0m                              startupinfo)\n\u001b[0;32m   1517\u001b[0m \u001b[39mfinally\u001b[39;00m:\n\u001b[0;32m   1518\u001b[0m     \u001b[39m# Child is launched. Close the parent's copy of those pipe\u001b[39;00m\n\u001b[0;32m   1519\u001b[0m     \u001b[39m# handles that only the child should have open.  You need\u001b[39;00m\n\u001b[1;32m   (...)\u001b[0m\n\u001b[0;32m   1522\u001b[0m     \u001b[39m# pipe will not close when the child process exits and the\u001b[39;00m\n\u001b[0;32m   1523\u001b[0m     \u001b[39m# ReadFile will hang.\u001b[39;00m\n\u001b[0;32m   1524\u001b[0m     \u001b[39mself\u001b[39m\u001b[39m.\u001b[39m_close_pipe_fds(p2cread, p2cwrite,\n\u001b[0;32m   1525\u001b[0m                          c2pread, c2pwrite,\n\u001b[0;32m   1526\u001b[0m                          errread, errwrite)\n",
      "\u001b[1;31mFileNotFoundError\u001b[0m: [WinError 2] The system cannot find the file specified"
     ]
    }
   ],
   "source": [
    "current_date = date.today().strftime('%Y%m%d')\n",
    "for dest in dests:\n",
    "    remote_path = \"https://dd.weather.gc.ca/alerts/cap/{}/{}/\".format(current_date, dest)\n",
    "    print(remote_path)\n",
    "    get_remote_data(remote_path)"
   ]
  },
  {
   "cell_type": "code",
   "execution_count": null,
   "id": "c4544674",
   "metadata": {},
   "outputs": [],
   "source": [
    "# Remove unrelated index file\n",
    "for root, dirs, files in os.walk(save_dir):\n",
    "    for file in files:\n",
    "        if not file.endswith(\".cap\"):\n",
    "            file_path = os.path.join(root, file)\n",
    "            os.remove(file_path)"
   ]
  },
  {
   "cell_type": "code",
   "execution_count": null,
   "id": "fc845eea",
   "metadata": {},
   "outputs": [],
   "source": [
    "# Create csv file headers\n",
    "headers = ['identifier', 'sent', 'category', 'event', 'urgency', 'severity', 'certainty', 'effective', 'expires', 'areaDesc', 'ploygon', 'geocodes']"
   ]
  },
  {
   "cell_type": "code",
   "execution_count": null,
   "id": "e927dad8",
   "metadata": {},
   "outputs": [],
   "source": [
    "def get_xml_data(xmltree):\n",
    "    alert_attr = {}\n",
    "    areaDesc, ploygon, geocodes = '', '', ''\n",
    "    for element in xmltree.getroot():\n",
    "        tag, uri = get_element_tag(element)\n",
    "        if tag == 'identifier':\n",
    "            alert_attr['identifier'] = element.text.split(':')[2]\n",
    "        if tag == 'sent':\n",
    "            alert_attr['sent'] = element.text\n",
    "            \n",
    "        if tag == 'info':\n",
    "            for elem in element:\n",
    "                sub_tag, uri = get_element_tag(elem)\n",
    "                if sub_tag == 'language' and elem.text == 'fr-CA': # skip the Franch version\n",
    "                    break\n",
    "                if sub_tag == 'category':\n",
    "                    alert_attr['category'] = elem.text\n",
    "                if sub_tag == 'event':\n",
    "                    alert_attr['event'] = elem.text\n",
    "                if sub_tag == 'urgency':\n",
    "                    alert_attr['urgency'] = elem.text\n",
    "                if sub_tag == 'severity':\n",
    "                    alert_attr['severity'] = elem.text\n",
    "                if sub_tag == 'certainty':\n",
    "                    alert_attr['certainty'] = elem.text\n",
    "                if sub_tag == 'effective':\n",
    "                    alert_attr['effective'] = elem.text\n",
    "                if sub_tag == 'expires':\n",
    "                    alert_attr['expires'] = elem.text\n",
    "                if sub_tag == 'area':\n",
    "                    desc, pg, geos = get_area_info(elem)\n",
    "\n",
    "                    areaDesc = desc if not areaDesc else areaDesc + '; ' + desc\n",
    "                    ploygon = pg if not ploygon else ploygon + ' ' + pg\n",
    "                    geocodes = geos if not geocodes else geocodes + ',' + geos \n",
    "\n",
    "                    alert_attr['areaDesc'] = areaDesc\n",
    "                    alert_attr['ploygon'] = ploygon\n",
    "                    alert_attr['geocodes'] = geocodes\n",
    "                    \n",
    "    collected_attrs = [alert_attr[header] for header in headers]\n",
    "                    \n",
    "    return collected_attrs"
   ]
  },
  {
   "cell_type": "code",
   "execution_count": null,
   "id": "149371ac",
   "metadata": {},
   "outputs": [],
   "source": [
    "alert_df = pd.DataFrame(columns=headers)"
   ]
  },
  {
   "cell_type": "code",
   "execution_count": null,
   "id": "d1d92e98",
   "metadata": {},
   "outputs": [],
   "source": [
    "for root, dirs, files in os.walk(save_dir):\n",
    "    for file in files:\n",
    "        file_path = os.path.join(root, file)\n",
    "        data_tree = ET.parse(file_path)\n",
    "        data_entry = get_xml_data(data_tree)\n",
    "        try:\n",
    "            alert_df.loc[len(alert_df)] = data_entry\n",
    "        except:\n",
    "            print(\"Fail to process file: {}\".format(file))\n"
   ]
  },
  {
   "cell_type": "code",
   "execution_count": null,
   "id": "3848d51c",
   "metadata": {},
   "outputs": [],
   "source": [
    "file_name = \"alerts_by_\" + datetime.today().strftime('%Y-%m-%d') + \".csv\"\n",
    "alert_df.to_csv(file_name)"
   ]
  },
  {
   "cell_type": "code",
   "execution_count": null,
   "id": "1a5d2db5",
   "metadata": {},
   "outputs": [],
   "source": []
  }
 ],
 "metadata": {
  "kernelspec": {
   "display_name": "Python 3 (ipykernel)",
   "language": "python",
   "name": "python3"
  },
  "language_info": {
   "codemirror_mode": {
    "name": "ipython",
    "version": 3
   },
   "file_extension": ".py",
   "mimetype": "text/x-python",
   "name": "python",
   "nbconvert_exporter": "python",
   "pygments_lexer": "ipython3",
   "version": "3.11.3"
  }
 },
 "nbformat": 4,
 "nbformat_minor": 5
}
