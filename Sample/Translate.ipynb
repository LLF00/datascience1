{
 "cells": [
  {
   "cell_type": "code",
   "execution_count": 11,
   "metadata": {},
   "outputs": [
    {
     "name": "stdout",
     "output_type": "stream",
     "text": [
      "Requirement already satisfied: googletrans in c:\\users\\lifen\\appdata\\local\\packages\\pythonsoftwarefoundation.python.3.11_qbz5n2kfra8p0\\localcache\\local-packages\\python311\\site-packages (3.0.0)\n",
      "Requirement already satisfied: httpx==0.13.3 in c:\\users\\lifen\\appdata\\local\\packages\\pythonsoftwarefoundation.python.3.11_qbz5n2kfra8p0\\localcache\\local-packages\\python311\\site-packages (from googletrans) (0.13.3)\n",
      "Requirement already satisfied: certifi in c:\\users\\lifen\\appdata\\local\\packages\\pythonsoftwarefoundation.python.3.11_qbz5n2kfra8p0\\localcache\\local-packages\\python311\\site-packages (from httpx==0.13.3->googletrans) (2023.7.22)\n",
      "Requirement already satisfied: hstspreload in c:\\users\\lifen\\appdata\\local\\packages\\pythonsoftwarefoundation.python.3.11_qbz5n2kfra8p0\\localcache\\local-packages\\python311\\site-packages (from httpx==0.13.3->googletrans) (2024.1.5)\n",
      "Requirement already satisfied: sniffio in c:\\users\\lifen\\appdata\\local\\packages\\pythonsoftwarefoundation.python.3.11_qbz5n2kfra8p0\\localcache\\local-packages\\python311\\site-packages (from httpx==0.13.3->googletrans) (1.3.0)\n",
      "Requirement already satisfied: chardet==3.* in c:\\users\\lifen\\appdata\\local\\packages\\pythonsoftwarefoundation.python.3.11_qbz5n2kfra8p0\\localcache\\local-packages\\python311\\site-packages (from httpx==0.13.3->googletrans) (3.0.4)\n",
      "Requirement already satisfied: idna==2.* in c:\\users\\lifen\\appdata\\local\\packages\\pythonsoftwarefoundation.python.3.11_qbz5n2kfra8p0\\localcache\\local-packages\\python311\\site-packages (from httpx==0.13.3->googletrans) (2.10)\n",
      "Requirement already satisfied: rfc3986<2,>=1.3 in c:\\users\\lifen\\appdata\\local\\packages\\pythonsoftwarefoundation.python.3.11_qbz5n2kfra8p0\\localcache\\local-packages\\python311\\site-packages (from httpx==0.13.3->googletrans) (1.5.0)\n",
      "Requirement already satisfied: httpcore==0.9.* in c:\\users\\lifen\\appdata\\local\\packages\\pythonsoftwarefoundation.python.3.11_qbz5n2kfra8p0\\localcache\\local-packages\\python311\\site-packages (from httpx==0.13.3->googletrans) (0.9.1)\n",
      "Requirement already satisfied: h11<0.10,>=0.8 in c:\\users\\lifen\\appdata\\local\\packages\\pythonsoftwarefoundation.python.3.11_qbz5n2kfra8p0\\localcache\\local-packages\\python311\\site-packages (from httpcore==0.9.*->httpx==0.13.3->googletrans) (0.9.0)\n",
      "Requirement already satisfied: h2==3.* in c:\\users\\lifen\\appdata\\local\\packages\\pythonsoftwarefoundation.python.3.11_qbz5n2kfra8p0\\localcache\\local-packages\\python311\\site-packages (from httpcore==0.9.*->httpx==0.13.3->googletrans) (3.2.0)\n",
      "Requirement already satisfied: hyperframe<6,>=5.2.0 in c:\\users\\lifen\\appdata\\local\\packages\\pythonsoftwarefoundation.python.3.11_qbz5n2kfra8p0\\localcache\\local-packages\\python311\\site-packages (from h2==3.*->httpcore==0.9.*->httpx==0.13.3->googletrans) (5.2.0)\n",
      "Requirement already satisfied: hpack<4,>=3.0 in c:\\users\\lifen\\appdata\\local\\packages\\pythonsoftwarefoundation.python.3.11_qbz5n2kfra8p0\\localcache\\local-packages\\python311\\site-packages (from h2==3.*->httpcore==0.9.*->httpx==0.13.3->googletrans) (3.0.0)\n",
      "Note: you may need to restart the kernel to use updated packages.\n"
     ]
    },
    {
     "name": "stderr",
     "output_type": "stream",
     "text": [
      "\n",
      "[notice] A new release of pip is available: 23.3.1 -> 23.3.2\n",
      "[notice] To update, run: C:\\Users\\lifen\\AppData\\Local\\Microsoft\\WindowsApps\\PythonSoftwareFoundation.Python.3.11_qbz5n2kfra8p0\\python.exe -m pip install --upgrade pip\n"
     ]
    }
   ],
   "source": [
    "pip install googletrans"
   ]
  },
  {
   "cell_type": "code",
   "execution_count": 4,
   "metadata": {},
   "outputs": [],
   "source": [
    "from googletrans import Translator\n",
    "import pandas as pd"
   ]
  },
  {
   "cell_type": "code",
   "execution_count": 5,
   "metadata": {},
   "outputs": [
    {
     "name": "stdout",
     "output_type": "stream",
     "text": [
      "<class 'pandas.core.frame.DataFrame'>\n",
      "RangeIndex: 680 entries, 0 to 679\n",
      "Data columns (total 7 columns):\n",
      " #   Column      Non-Null Count  Dtype \n",
      "---  ------      --------------  ----- \n",
      " 0   Unnamed: 0  680 non-null    int64 \n",
      " 1   Link        680 non-null    object\n",
      " 2   Username    680 non-null    object\n",
      " 3   Tweet       680 non-null    object\n",
      " 4   Date        680 non-null    object\n",
      " 5   Likes       680 non-null    int64 \n",
      " 6   Comments    680 non-null    int64 \n",
      "dtypes: int64(3), object(4)\n",
      "memory usage: 37.3+ KB\n"
     ]
    }
   ],
   "source": [
    "mizuho = pd.read_csv(r\"D:\\5.ACP\\Asia\\mizuhobank_since_2018_01_01.csv\")\n",
    "mizuho.info()"
   ]
  },
  {
   "cell_type": "code",
   "execution_count": 8,
   "metadata": {},
   "outputs": [
    {
     "name": "stdout",
     "output_type": "stream",
     "text": [
      "0    【「お客さまの\"声\"×DX」で顧客理解を実現】 みずほ銀行は、アンケートやコンタクトセンター...\n",
      "1    【国際航業と〈みずほ〉が、ともに挑む。】 〈みずほ〉のサステナブルビジネスの取り組みを紹介す...\n",
      "2    【〈みずほ〉とIHIが人的資本経営の更なる推進に向けて、ともに挑む。】  〈みずほ〉のサステ...\n",
      "3    ／ 新作 #LINEスタンプ 配信中！ ＼  #あおまる だよ。#メリークリスマス ♪  今...\n",
      "4    【「これからのお金の話をしよう。」特設サイトをご紹介！】  10月より、「これからのお金の話...\n",
      "5    #あおまる だよ！ 〈みずほ〉は、SANRIO Virtual Festival2024に協...\n",
      "6    ／ 　#みずほJCBデビット をお持ちの方向けキャンペーン実施中！ 　初めてスマホ決済 ＃み...\n",
      "7    同じ〈みずほ〉の仲間、みずほリサーチ＆テクノロジーズ（@mizuho_rt）のコンサルタント...\n",
      "8    〈みずほ〉の源流の一つである第一国立銀行が開業して150年。  創立者の一人 #渋沢栄一 生...\n",
      "9    ／ 終了迫る！ 期間は2023/12/14（木）まで！ ＼  「実りの秋をプレゼント」キャン...\n",
      "Name: Tweet, dtype: object\n"
     ]
    }
   ],
   "source": [
    "print(mizuho['Tweet'][:10])"
   ]
  },
  {
   "cell_type": "code",
   "execution_count": 30,
   "metadata": {},
   "outputs": [
    {
     "name": "stdout",
     "output_type": "stream",
     "text": [
      "Collecting easynmtNote: you may need to restart the kernel to use updated packages.\n",
      "\n",
      "  Downloading EasyNMT-2.0.2.tar.gz (23 kB)\n",
      "  Preparing metadata (setup.py): started\n",
      "  Preparing metadata (setup.py): finished with status 'done'\n",
      "Requirement already satisfied: tqdm in c:\\users\\lifen\\appdata\\local\\packages\\pythonsoftwarefoundation.python.3.11_qbz5n2kfra8p0\\localcache\\local-packages\\python311\\site-packages (from easynmt) (4.66.1)\n",
      "Collecting transformers<5,>=4.4 (from easynmt)\n",
      "  Downloading transformers-4.37.0-py3-none-any.whl.metadata (129 kB)\n",
      "     ---------------------------------------- 0.0/129.4 kB ? eta -:--:--\n",
      "     --------- ----------------------------- 30.7/129.4 kB 1.3 MB/s eta 0:00:01\n",
      "     -------------------------------------- 129.4/129.4 kB 1.9 MB/s eta 0:00:00\n",
      "Collecting torch>=1.6.0 (from easynmt)\n",
      "  Downloading torch-2.1.2-cp311-cp311-win_amd64.whl.metadata (26 kB)\n",
      "Requirement already satisfied: numpy in c:\\users\\lifen\\appdata\\local\\packages\\pythonsoftwarefoundation.python.3.11_qbz5n2kfra8p0\\localcache\\local-packages\\python311\\site-packages (from easynmt) (1.24.3)\n",
      "Collecting nltk (from easynmt)\n",
      "  Downloading nltk-3.8.1-py3-none-any.whl (1.5 MB)\n",
      "     ---------------------------------------- 0.0/1.5 MB ? eta -:--:--\n",
      "     ------------ --------------------------- 0.5/1.5 MB 15.2 MB/s eta 0:00:01\n",
      "     ---------------------------------------  1.5/1.5 MB 19.2 MB/s eta 0:00:01\n",
      "     ---------------------------------------- 1.5/1.5 MB 16.1 MB/s eta 0:00:00\n",
      "Collecting sentencepiece (from easynmt)\n",
      "  Downloading sentencepiece-0.1.99-cp311-cp311-win_amd64.whl (977 kB)\n",
      "     ---------------------------------------- 0.0/977.5 kB ? eta -:--:--\n",
      "     ------------------------------------  972.8/977.5 kB 60.2 MB/s eta 0:00:01\n",
      "     ------------------------------------- 977.5/977.5 kB 31.2 MB/s eta 0:00:00\n",
      "Collecting fasttext (from easynmt)\n",
      "  Downloading fasttext-0.9.2.tar.gz (68 kB)\n",
      "     ---------------------------------------- 0.0/68.8 kB ? eta -:--:--\n",
      "     ---------------------------------------- 68.8/68.8 kB 3.7 MB/s eta 0:00:00\n",
      "  Preparing metadata (setup.py): started\n",
      "  Preparing metadata (setup.py): finished with status 'done'\n",
      "Requirement already satisfied: protobuf in c:\\users\\lifen\\appdata\\local\\packages\\pythonsoftwarefoundation.python.3.11_qbz5n2kfra8p0\\localcache\\local-packages\\python311\\site-packages (from easynmt) (3.20.3)\n",
      "Collecting filelock (from torch>=1.6.0->easynmt)\n",
      "  Downloading filelock-3.13.1-py3-none-any.whl.metadata (2.8 kB)\n",
      "Requirement already satisfied: typing-extensions in c:\\users\\lifen\\appdata\\local\\packages\\pythonsoftwarefoundation.python.3.11_qbz5n2kfra8p0\\localcache\\local-packages\\python311\\site-packages (from torch>=1.6.0->easynmt) (4.8.0)\n",
      "Collecting sympy (from torch>=1.6.0->easynmt)\n",
      "  Downloading sympy-1.12-py3-none-any.whl (5.7 MB)\n",
      "     ---------------------------------------- 0.0/5.7 MB ? eta -:--:--\n",
      "     ------------ --------------------------- 1.8/5.7 MB 38.1 MB/s eta 0:00:01\n",
      "     ----------------------- ---------------- 3.3/5.7 MB 35.3 MB/s eta 0:00:01\n",
      "     ---------------------------------- ----- 5.0/5.7 MB 35.2 MB/s eta 0:00:01\n",
      "     ---------------------------------------- 5.7/5.7 MB 30.5 MB/s eta 0:00:00\n",
      "Requirement already satisfied: networkx in c:\\users\\lifen\\appdata\\local\\packages\\pythonsoftwarefoundation.python.3.11_qbz5n2kfra8p0\\localcache\\local-packages\\python311\\site-packages (from torch>=1.6.0->easynmt) (3.1)\n",
      "Requirement already satisfied: jinja2 in c:\\users\\lifen\\appdata\\local\\packages\\pythonsoftwarefoundation.python.3.11_qbz5n2kfra8p0\\localcache\\local-packages\\python311\\site-packages (from torch>=1.6.0->easynmt) (3.1.2)\n",
      "Requirement already satisfied: fsspec in c:\\users\\lifen\\appdata\\local\\packages\\pythonsoftwarefoundation.python.3.11_qbz5n2kfra8p0\\localcache\\local-packages\\python311\\site-packages (from torch>=1.6.0->easynmt) (2023.10.0)\n",
      "Collecting huggingface-hub<1.0,>=0.19.3 (from transformers<5,>=4.4->easynmt)\n",
      "  Downloading huggingface_hub-0.20.3-py3-none-any.whl.metadata (12 kB)\n",
      "Requirement already satisfied: packaging>=20.0 in c:\\users\\lifen\\appdata\\local\\packages\\pythonsoftwarefoundation.python.3.11_qbz5n2kfra8p0\\localcache\\local-packages\\python311\\site-packages (from transformers<5,>=4.4->easynmt) (23.1)\n",
      "Requirement already satisfied: pyyaml>=5.1 in c:\\users\\lifen\\appdata\\local\\packages\\pythonsoftwarefoundation.python.3.11_qbz5n2kfra8p0\\localcache\\local-packages\\python311\\site-packages (from transformers<5,>=4.4->easynmt) (6.0.1)\n",
      "Collecting regex!=2019.12.17 (from transformers<5,>=4.4->easynmt)\n",
      "  Downloading regex-2023.12.25-cp311-cp311-win_amd64.whl.metadata (41 kB)\n",
      "     ---------------------------------------- 0.0/42.0 kB ? eta -:--:--\n",
      "     ---------------------------------------- 42.0/42.0 kB 1.0 MB/s eta 0:00:00\n",
      "Requirement already satisfied: requests in c:\\users\\lifen\\appdata\\local\\packages\\pythonsoftwarefoundation.python.3.11_qbz5n2kfra8p0\\localcache\\local-packages\\python311\\site-packages (from transformers<5,>=4.4->easynmt) (2.31.0)\n",
      "Collecting tokenizers<0.19,>=0.14 (from transformers<5,>=4.4->easynmt)\n",
      "  Downloading tokenizers-0.15.1-cp311-none-win_amd64.whl.metadata (6.8 kB)\n",
      "Collecting safetensors>=0.3.1 (from transformers<5,>=4.4->easynmt)\n",
      "  Downloading safetensors-0.4.1-cp311-none-win_amd64.whl.metadata (3.8 kB)\n",
      "Requirement already satisfied: colorama in c:\\users\\lifen\\appdata\\local\\packages\\pythonsoftwarefoundation.python.3.11_qbz5n2kfra8p0\\localcache\\local-packages\\python311\\site-packages (from tqdm->easynmt) (0.4.6)\n",
      "Collecting pybind11>=2.2 (from fasttext->easynmt)\n",
      "  Using cached pybind11-2.11.1-py3-none-any.whl.metadata (9.5 kB)\n",
      "Requirement already satisfied: setuptools>=0.7.0 in c:\\users\\lifen\\appdata\\local\\packages\\pythonsoftwarefoundation.python.3.11_qbz5n2kfra8p0\\localcache\\local-packages\\python311\\site-packages (from fasttext->easynmt) (67.7.2)\n",
      "Requirement already satisfied: click in c:\\users\\lifen\\appdata\\local\\packages\\pythonsoftwarefoundation.python.3.11_qbz5n2kfra8p0\\localcache\\local-packages\\python311\\site-packages (from nltk->easynmt) (8.1.6)\n",
      "Requirement already satisfied: joblib in c:\\users\\lifen\\appdata\\local\\packages\\pythonsoftwarefoundation.python.3.11_qbz5n2kfra8p0\\localcache\\local-packages\\python311\\site-packages (from nltk->easynmt) (1.2.0)\n",
      "Requirement already satisfied: MarkupSafe>=2.0 in c:\\users\\lifen\\appdata\\local\\packages\\pythonsoftwarefoundation.python.3.11_qbz5n2kfra8p0\\localcache\\local-packages\\python311\\site-packages (from jinja2->torch>=1.6.0->easynmt) (2.1.3)\n",
      "Requirement already satisfied: charset-normalizer<4,>=2 in c:\\users\\lifen\\appdata\\local\\packages\\pythonsoftwarefoundation.python.3.11_qbz5n2kfra8p0\\localcache\\local-packages\\python311\\site-packages (from requests->transformers<5,>=4.4->easynmt) (3.3.2)\n",
      "Requirement already satisfied: idna<4,>=2.5 in c:\\users\\lifen\\appdata\\local\\packages\\pythonsoftwarefoundation.python.3.11_qbz5n2kfra8p0\\localcache\\local-packages\\python311\\site-packages (from requests->transformers<5,>=4.4->easynmt) (2.10)\n",
      "Requirement already satisfied: urllib3<3,>=1.21.1 in c:\\users\\lifen\\appdata\\local\\packages\\pythonsoftwarefoundation.python.3.11_qbz5n2kfra8p0\\localcache\\local-packages\\python311\\site-packages (from requests->transformers<5,>=4.4->easynmt) (2.0.7)\n",
      "Requirement already satisfied: certifi>=2017.4.17 in c:\\users\\lifen\\appdata\\local\\packages\\pythonsoftwarefoundation.python.3.11_qbz5n2kfra8p0\\localcache\\local-packages\\python311\\site-packages (from requests->transformers<5,>=4.4->easynmt) (2023.7.22)\n",
      "Collecting mpmath>=0.19 (from sympy->torch>=1.6.0->easynmt)\n",
      "  Downloading mpmath-1.3.0-py3-none-any.whl (536 kB)\n",
      "     ---------------------------------------- 0.0/536.2 kB ? eta -:--:--\n",
      "     ------------------------------------- 536.2/536.2 kB 11.2 MB/s eta 0:00:00\n",
      "Downloading torch-2.1.2-cp311-cp311-win_amd64.whl (192.3 MB)\n",
      "   ---------------------------------------- 0.0/192.3 MB ? eta -:--:--\n",
      "   ---------------------------------------- 1.9/192.3 MB 41.0 MB/s eta 0:00:05\n",
      "    --------------------------------------- 3.7/192.3 MB 39.1 MB/s eta 0:00:05\n",
      "   - -------------------------------------- 5.9/192.3 MB 41.5 MB/s eta 0:00:05\n",
      "   - -------------------------------------- 7.7/192.3 MB 41.1 MB/s eta 0:00:05\n",
      "   - -------------------------------------- 9.0/192.3 MB 38.6 MB/s eta 0:00:05\n",
      "   -- ------------------------------------- 10.7/192.3 MB 38.6 MB/s eta 0:00:05\n",
      "   -- ------------------------------------- 12.6/192.3 MB 38.6 MB/s eta 0:00:05\n",
      "   --- ------------------------------------ 15.2/192.3 MB 40.9 MB/s eta 0:00:05\n",
      "   --- ------------------------------------ 16.9/192.3 MB 40.9 MB/s eta 0:00:05\n",
      "   --- ------------------------------------ 18.8/192.3 MB 40.9 MB/s eta 0:00:05\n",
      "   ---- ----------------------------------- 20.6/192.3 MB 40.9 MB/s eta 0:00:05\n",
      "   ---- ----------------------------------- 22.2/192.3 MB 40.9 MB/s eta 0:00:05\n",
      "   ----- ---------------------------------- 24.3/192.3 MB 43.5 MB/s eta 0:00:04\n",
      "   ----- ---------------------------------- 26.4/192.3 MB 40.9 MB/s eta 0:00:05\n",
      "   ----- ---------------------------------- 28.0/192.3 MB 38.6 MB/s eta 0:00:05\n",
      "   ------ --------------------------------- 30.4/192.3 MB 43.7 MB/s eta 0:00:04\n",
      "   ------ --------------------------------- 32.5/192.3 MB 46.9 MB/s eta 0:00:04\n",
      "   ------ --------------------------------- 33.6/192.3 MB 40.9 MB/s eta 0:00:04\n",
      "   ------- -------------------------------- 35.3/192.3 MB 40.9 MB/s eta 0:00:04\n",
      "   ------- -------------------------------- 36.9/192.3 MB 38.5 MB/s eta 0:00:05\n",
      "   -------- ------------------------------- 38.5/192.3 MB 40.9 MB/s eta 0:00:04\n",
      "   -------- ------------------------------- 40.9/192.3 MB 40.9 MB/s eta 0:00:04\n",
      "   -------- ------------------------------- 42.5/192.3 MB 36.3 MB/s eta 0:00:05\n",
      "   --------- ------------------------------ 44.5/192.3 MB 40.9 MB/s eta 0:00:04\n",
      "   --------- ------------------------------ 46.4/192.3 MB 40.9 MB/s eta 0:00:04\n",
      "   ---------- ----------------------------- 48.8/192.3 MB 46.7 MB/s eta 0:00:04\n",
      "   ---------- ----------------------------- 50.7/192.3 MB 43.7 MB/s eta 0:00:04\n",
      "   ---------- ----------------------------- 52.3/192.3 MB 43.7 MB/s eta 0:00:04\n",
      "   ----------- ---------------------------- 53.7/192.3 MB 40.9 MB/s eta 0:00:04\n",
      "   ----------- ---------------------------- 55.8/192.3 MB 40.9 MB/s eta 0:00:04\n",
      "   ------------ --------------------------- 58.1/192.3 MB 40.9 MB/s eta 0:00:04\n",
      "   ------------ --------------------------- 60.1/192.3 MB 40.9 MB/s eta 0:00:04\n",
      "   ------------ --------------------------- 62.4/192.3 MB 43.7 MB/s eta 0:00:03\n",
      "   ------------- -------------------------- 65.2/192.3 MB 50.4 MB/s eta 0:00:03\n",
      "   ------------- -------------------------- 67.0/192.3 MB 50.4 MB/s eta 0:00:03\n",
      "   -------------- ------------------------- 69.3/192.3 MB 50.4 MB/s eta 0:00:03\n",
      "   -------------- ------------------------- 71.5/192.3 MB 50.4 MB/s eta 0:00:03\n",
      "   --------------- ------------------------ 73.3/192.3 MB 46.7 MB/s eta 0:00:03\n",
      "   --------------- ------------------------ 75.3/192.3 MB 43.5 MB/s eta 0:00:03\n",
      "   --------------- ------------------------ 76.5/192.3 MB 40.9 MB/s eta 0:00:03\n",
      "   ---------------- ----------------------- 79.6/192.3 MB 43.7 MB/s eta 0:00:03\n",
      "   ---------------- ----------------------- 80.8/192.3 MB 40.9 MB/s eta 0:00:03\n",
      "   ----------------- ---------------------- 82.7/192.3 MB 40.9 MB/s eta 0:00:03\n",
      "   ----------------- ---------------------- 84.7/192.3 MB 40.9 MB/s eta 0:00:03\n",
      "   ------------------ --------------------- 87.4/192.3 MB 46.7 MB/s eta 0:00:03\n",
      "   ------------------ --------------------- 88.8/192.3 MB 43.7 MB/s eta 0:00:03\n",
      "   ------------------ --------------------- 90.8/192.3 MB 40.9 MB/s eta 0:00:03\n",
      "   ------------------- -------------------- 92.8/192.3 MB 40.9 MB/s eta 0:00:03\n",
      "   ------------------- -------------------- 94.9/192.3 MB 43.7 MB/s eta 0:00:03\n",
      "   -------------------- ------------------- 97.3/192.3 MB 40.9 MB/s eta 0:00:03\n",
      "   -------------------- ------------------- 99.4/192.3 MB 46.7 MB/s eta 0:00:02\n",
      "   -------------------- ------------------ 101.9/192.3 MB 46.7 MB/s eta 0:00:02\n",
      "   -------------------- ------------------ 102.5/192.3 MB 40.9 MB/s eta 0:00:03\n",
      "   --------------------- ----------------- 104.2/192.3 MB 38.5 MB/s eta 0:00:03\n",
      "   --------------------- ----------------- 106.5/192.3 MB 40.9 MB/s eta 0:00:03\n",
      "   ---------------------- ---------------- 108.8/192.3 MB 43.5 MB/s eta 0:00:02\n",
      "   ---------------------- ---------------- 110.7/192.3 MB 40.9 MB/s eta 0:00:02\n",
      "   ---------------------- ---------------- 112.5/192.3 MB 40.9 MB/s eta 0:00:02\n",
      "   ----------------------- --------------- 115.0/192.3 MB 50.4 MB/s eta 0:00:02\n",
      "   ----------------------- --------------- 117.0/192.3 MB 46.9 MB/s eta 0:00:02\n",
      "   ------------------------ -------------- 119.0/192.3 MB 43.7 MB/s eta 0:00:02\n",
      "   ------------------------ -------------- 120.9/192.3 MB 46.7 MB/s eta 0:00:02\n",
      "   ------------------------ -------------- 122.9/192.3 MB 46.7 MB/s eta 0:00:02\n",
      "   ------------------------- ------------- 124.1/192.3 MB 40.9 MB/s eta 0:00:02\n",
      "   ------------------------- ------------- 126.1/192.3 MB 40.9 MB/s eta 0:00:02\n",
      "   ------------------------- ------------- 127.8/192.3 MB 38.5 MB/s eta 0:00:02\n",
      "   -------------------------- ------------ 129.6/192.3 MB 38.6 MB/s eta 0:00:02\n",
      "   -------------------------- ------------ 131.8/192.3 MB 38.6 MB/s eta 0:00:02\n",
      "   --------------------------- ----------- 133.7/192.3 MB 38.6 MB/s eta 0:00:02\n",
      "   --------------------------- ----------- 135.6/192.3 MB 40.9 MB/s eta 0:00:02\n",
      "   --------------------------- ----------- 137.4/192.3 MB 43.7 MB/s eta 0:00:02\n",
      "   ---------------------------- ---------- 139.4/192.3 MB 40.9 MB/s eta 0:00:02\n",
      "   ---------------------------- ---------- 141.4/192.3 MB 43.7 MB/s eta 0:00:02\n",
      "   ----------------------------- --------- 143.6/192.3 MB 40.9 MB/s eta 0:00:02\n",
      "   ----------------------------- --------- 145.8/192.3 MB 43.7 MB/s eta 0:00:02\n",
      "   ------------------------------ -------- 148.4/192.3 MB 50.4 MB/s eta 0:00:01\n",
      "   ------------------------------ -------- 150.0/192.3 MB 46.7 MB/s eta 0:00:01\n",
      "   ------------------------------ -------- 151.9/192.3 MB 46.9 MB/s eta 0:00:01\n",
      "   ------------------------------- ------- 154.0/192.3 MB 46.9 MB/s eta 0:00:01\n",
      "   ------------------------------- ------- 155.4/192.3 MB 40.9 MB/s eta 0:00:01\n",
      "   ------------------------------- ------- 156.8/192.3 MB 38.5 MB/s eta 0:00:01\n",
      "   -------------------------------- ------ 159.8/192.3 MB 38.5 MB/s eta 0:00:01\n",
      "   -------------------------------- ------ 161.6/192.3 MB 43.5 MB/s eta 0:00:01\n",
      "   --------------------------------- ----- 163.5/192.3 MB 43.5 MB/s eta 0:00:01\n",
      "   --------------------------------- ----- 166.1/192.3 MB 50.1 MB/s eta 0:00:01\n",
      "   --------------------------------- ----- 167.6/192.3 MB 46.9 MB/s eta 0:00:01\n",
      "   ---------------------------------- ---- 169.7/192.3 MB 43.7 MB/s eta 0:00:01\n",
      "   ---------------------------------- ---- 171.7/192.3 MB 43.7 MB/s eta 0:00:01\n",
      "   ----------------------------------- --- 173.3/192.3 MB 43.7 MB/s eta 0:00:01\n",
      "   ----------------------------------- --- 175.5/192.3 MB 43.7 MB/s eta 0:00:01\n",
      "   ------------------------------------ -- 177.9/192.3 MB 46.7 MB/s eta 0:00:01\n",
      "   ------------------------------------ -- 179.7/192.3 MB 43.5 MB/s eta 0:00:01\n",
      "   ------------------------------------ -- 181.4/192.3 MB 40.9 MB/s eta 0:00:01\n",
      "   ------------------------------------- - 183.7/192.3 MB 46.9 MB/s eta 0:00:01\n",
      "   ------------------------------------- - 185.3/192.3 MB 43.7 MB/s eta 0:00:01\n",
      "   ------------------------------------- - 187.1/192.3 MB 40.9 MB/s eta 0:00:01\n",
      "   --------------------------------------  188.9/192.3 MB 40.9 MB/s eta 0:00:01\n",
      "   --------------------------------------  190.7/192.3 MB 38.5 MB/s eta 0:00:01\n",
      "   --------------------------------------  192.3/192.3 MB 40.9 MB/s eta 0:00:01\n",
      "   --------------------------------------  192.3/192.3 MB 40.9 MB/s eta 0:00:01\n",
      "   --------------------------------------  192.3/192.3 MB 40.9 MB/s eta 0:00:01\n",
      "   --------------------------------------  192.3/192.3 MB 40.9 MB/s eta 0:00:01\n",
      "   --------------------------------------  192.3/192.3 MB 40.9 MB/s eta 0:00:01\n",
      "   --------------------------------------  192.3/192.3 MB 40.9 MB/s eta 0:00:01\n",
      "   --------------------------------------  192.3/192.3 MB 40.9 MB/s eta 0:00:01\n",
      "   --------------------------------------  192.3/192.3 MB 40.9 MB/s eta 0:00:01\n",
      "   --------------------------------------  192.3/192.3 MB 40.9 MB/s eta 0:00:01\n",
      "   --------------------------------------  192.3/192.3 MB 40.9 MB/s eta 0:00:01\n",
      "   --------------------------------------  192.3/192.3 MB 40.9 MB/s eta 0:00:01\n",
      "   --------------------------------------  192.3/192.3 MB 40.9 MB/s eta 0:00:01\n",
      "   --------------------------------------  192.3/192.3 MB 40.9 MB/s eta 0:00:01\n",
      "   --------------------------------------  192.3/192.3 MB 40.9 MB/s eta 0:00:01\n",
      "   --------------------------------------  192.3/192.3 MB 40.9 MB/s eta 0:00:01\n",
      "   --------------------------------------  192.3/192.3 MB 40.9 MB/s eta 0:00:01\n",
      "   --------------------------------------- 192.3/192.3 MB 10.4 MB/s eta 0:00:00\n",
      "Downloading transformers-4.37.0-py3-none-any.whl (8.4 MB)\n",
      "   ---------------------------------------- 0.0/8.4 MB ? eta -:--:--\n",
      "   ------- -------------------------------- 1.6/8.4 MB 34.2 MB/s eta 0:00:01\n",
      "   ---------------- ----------------------- 3.4/8.4 MB 35.9 MB/s eta 0:00:01\n",
      "   --------------------------- ------------ 5.8/8.4 MB 41.5 MB/s eta 0:00:01\n",
      "   -------------------------------- ------- 6.9/8.4 MB 36.7 MB/s eta 0:00:01\n",
      "   ---------------------------------------  8.4/8.4 MB 38.3 MB/s eta 0:00:01\n",
      "   ---------------------------------------- 8.4/8.4 MB 31.7 MB/s eta 0:00:00\n",
      "Downloading huggingface_hub-0.20.3-py3-none-any.whl (330 kB)\n",
      "   ---------------------------------------- 0.0/330.1 kB ? eta -:--:--\n",
      "   --------------------------------------- 330.1/330.1 kB 20.0 MB/s eta 0:00:00\n",
      "Using cached pybind11-2.11.1-py3-none-any.whl (227 kB)\n",
      "Downloading regex-2023.12.25-cp311-cp311-win_amd64.whl (269 kB)\n",
      "   ---------------------------------------- 0.0/269.5 kB ? eta -:--:--\n",
      "   --------------------------------------- 269.5/269.5 kB 16.2 MB/s eta 0:00:00\n",
      "Downloading safetensors-0.4.1-cp311-none-win_amd64.whl (277 kB)\n",
      "   ---------------------------------------- 0.0/277.5 kB ? eta -:--:--\n",
      "   ---------------------------------------- 277.5/277.5 kB 8.6 MB/s eta 0:00:00\n",
      "Downloading tokenizers-0.15.1-cp311-none-win_amd64.whl (2.2 MB)\n",
      "   ---------------------------------------- 0.0/2.2 MB ? eta -:--:--\n",
      "   ------------------------------------ --- 2.0/2.2 MB 42.0 MB/s eta 0:00:01\n",
      "   ---------------------------------------- 2.2/2.2 MB 27.5 MB/s eta 0:00:00\n",
      "Downloading filelock-3.13.1-py3-none-any.whl (11 kB)\n",
      "Building wheels for collected packages: easynmt, fasttext\n",
      "  Building wheel for easynmt (setup.py): started\n",
      "  Building wheel for easynmt (setup.py): finished with status 'done'\n",
      "  Created wheel for easynmt: filename=EasyNMT-2.0.2-py3-none-any.whl size=19930 sha256=0f69dea1fed5a246c49bb68ee84300b6128d953f5d4ab5dfab7cc1df7ea8528b\n",
      "  Stored in directory: c:\\users\\lifen\\appdata\\local\\pip\\cache\\wheels\\88\\fe\\22\\be090950467d027d0daba923dee70c2c3a77738b0e83aa729d\n",
      "  Building wheel for fasttext (setup.py): started\n",
      "  Building wheel for fasttext (setup.py): finished with status 'error'\n",
      "  Running setup.py clean for fasttext\n",
      "Successfully built easynmt\n",
      "Failed to build fasttext\n"
     ]
    },
    {
     "name": "stderr",
     "output_type": "stream",
     "text": [
      "  error: subprocess-exited-with-error\n",
      "  \n",
      "  × python setup.py bdist_wheel did not run successfully.\n",
      "  │ exit code: 1\n",
      "  ╰─> [33 lines of output]\n",
      "      C:\\Users\\lifen\\AppData\\Local\\Packages\\PythonSoftwareFoundation.Python.3.11_qbz5n2kfra8p0\\LocalCache\\local-packages\\Python311\\site-packages\\setuptools\\dist.py:755: SetuptoolsDeprecationWarning: Invalid dash-separated options\n",
      "      !!\n",
      "      \n",
      "              ********************************************************************************\n",
      "              Usage of dash-separated 'description-file' will not be supported in future\n",
      "              versions. Please use the underscore name 'description_file' instead.\n",
      "      \n",
      "              This deprecation is overdue, please update your project and remove deprecated\n",
      "              calls to avoid build errors in the future.\n",
      "      \n",
      "              See https://setuptools.pypa.io/en/latest/userguide/declarative_config.html for details.\n",
      "              ********************************************************************************\n",
      "      \n",
      "      !!\n",
      "        opt = self.warn_dash_deprecation(opt, section)\n",
      "      running bdist_wheel\n",
      "      running build\n",
      "      running build_py\n",
      "      creating build\n",
      "      creating build\\lib.win-amd64-cpython-311\n",
      "      creating build\\lib.win-amd64-cpython-311\\fasttext\n",
      "      copying python\\fasttext_module\\fasttext\\FastText.py -> build\\lib.win-amd64-cpython-311\\fasttext\n",
      "      copying python\\fasttext_module\\fasttext\\__init__.py -> build\\lib.win-amd64-cpython-311\\fasttext\n",
      "      creating build\\lib.win-amd64-cpython-311\\fasttext\\util\n",
      "      copying python\\fasttext_module\\fasttext\\util\\util.py -> build\\lib.win-amd64-cpython-311\\fasttext\\util\n",
      "      copying python\\fasttext_module\\fasttext\\util\\__init__.py -> build\\lib.win-amd64-cpython-311\\fasttext\\util\n",
      "      creating build\\lib.win-amd64-cpython-311\\fasttext\\tests\n",
      "      copying python\\fasttext_module\\fasttext\\tests\\test_configurations.py -> build\\lib.win-amd64-cpython-311\\fasttext\\tests\n",
      "      copying python\\fasttext_module\\fasttext\\tests\\test_script.py -> build\\lib.win-amd64-cpython-311\\fasttext\\tests\n",
      "      copying python\\fasttext_module\\fasttext\\tests\\__init__.py -> build\\lib.win-amd64-cpython-311\\fasttext\\tests\n",
      "      running build_ext\n",
      "      building 'fasttext_pybind' extension\n",
      "      error: Microsoft Visual C++ 14.0 or greater is required. Get it with \"Microsoft C++ Build Tools\": https://visualstudio.microsoft.com/visual-cpp-build-tools/\n",
      "      [end of output]\n",
      "  \n",
      "  note: This error originates from a subprocess, and is likely not a problem with pip.\n",
      "  ERROR: Failed building wheel for fasttext\n",
      "ERROR: Could not build wheels for fasttext, which is required to install pyproject.toml-based projects\n",
      "\n",
      "[notice] A new release of pip is available: 23.3.1 -> 23.3.2\n",
      "[notice] To update, run: C:\\Users\\lifen\\AppData\\Local\\Microsoft\\WindowsApps\\PythonSoftwareFoundation.Python.3.11_qbz5n2kfra8p0\\python.exe -m pip install --upgrade pip\n"
     ]
    }
   ],
   "source": [
    "pip install easynmt\n"
   ]
  },
  {
   "cell_type": "code",
   "execution_count": 3,
   "metadata": {},
   "outputs": [],
   "source": [
    "#from easynmt import EasyNMT"
   ]
  },
  {
   "cell_type": "code",
   "execution_count": 1,
   "metadata": {},
   "outputs": [],
   "source": [
    "##from easynmt import EasyNMT\n",
    "#model = EasyNMT(\"opus-mt\")\n",
    "\n",
    "#mizuho[\"value_en\"] = mizuho.apply(lambda row: model.translate(row[\"Tweet\"], target_lang=\"en\"), axis=1)"
   ]
  },
  {
   "cell_type": "code",
   "execution_count": 18,
   "metadata": {},
   "outputs": [
    {
     "name": "stdout",
     "output_type": "stream",
     "text": [
      "0    【「お客さまの\"声\"×DX」で顧客理解を実現】 みずほ銀行は、アンケートやコンタクトセンター...\n",
      "1    【国際航業と〈みずほ〉が、ともに挑む。】 〈みずほ〉のサステナブルビジネスの取り組みを紹介す...\n",
      "2    【〈みずほ〉とIHIが人的資本経営の更なる推進に向けて、ともに挑む。】  〈みずほ〉のサステ...\n",
      "3    ／ 新作 #LINEスタンプ 配信中！ ＼  #あおまる だよ。#メリークリスマス ♪  今...\n",
      "4    【「これからのお金の話をしよう。」特設サイトをご紹介！】  10月より、「これからのお金の話...\n",
      "Name: Tweet, dtype: object\n"
     ]
    }
   ],
   "source": [
    "print(mizuho['Tweet'][:5])"
   ]
  },
  {
   "cell_type": "code",
   "execution_count": 25,
   "metadata": {},
   "outputs": [],
   "source": [
    "sample = '【「お客さまの\"声\"×DX」で顧客理解を実現】 みずほ銀行は、'"
   ]
  },
  {
   "cell_type": "code",
   "execution_count": 2,
   "metadata": {},
   "outputs": [],
   "source": [
    "#translator = Translator()\n",
    "\n",
    "#translation = translator.translate(sample, dest='en')"
   ]
  },
  {
   "cell_type": "code",
   "execution_count": null,
   "metadata": {},
   "outputs": [],
   "source": [
    "print(translation.text)"
   ]
  },
  {
   "cell_type": "code",
   "execution_count": 24,
   "metadata": {},
   "outputs": [
    {
     "ename": "AttributeError",
     "evalue": "'NoneType' object has no attribute 'group'",
     "output_type": "error",
     "traceback": [
      "\u001b[1;31m---------------------------------------------------------------------------\u001b[0m",
      "\u001b[1;31mAttributeError\u001b[0m                            Traceback (most recent call last)",
      "Cell \u001b[1;32mIn[24], line 1\u001b[0m\n\u001b[1;32m----> 1\u001b[0m en_sample \u001b[38;5;241m=\u001b[39m \u001b[43mtranslate_text\u001b[49m\u001b[43m(\u001b[49m\u001b[43msample\u001b[49m\u001b[43m)\u001b[49m\n",
      "Cell \u001b[1;32mIn[15], line 4\u001b[0m, in \u001b[0;36mtranslate_text\u001b[1;34m(text, source_lang, target_lang)\u001b[0m\n\u001b[0;32m      2\u001b[0m \u001b[38;5;28;01mdef\u001b[39;00m \u001b[38;5;21mtranslate_text\u001b[39m(text, source_lang\u001b[38;5;241m=\u001b[39m\u001b[38;5;124m'\u001b[39m\u001b[38;5;124mja\u001b[39m\u001b[38;5;124m'\u001b[39m, target_lang\u001b[38;5;241m=\u001b[39m\u001b[38;5;124m'\u001b[39m\u001b[38;5;124men\u001b[39m\u001b[38;5;124m'\u001b[39m):\n\u001b[0;32m      3\u001b[0m     translator \u001b[38;5;241m=\u001b[39m Translator()\n\u001b[1;32m----> 4\u001b[0m     translation \u001b[38;5;241m=\u001b[39m \u001b[43mtranslator\u001b[49m\u001b[38;5;241;43m.\u001b[39;49m\u001b[43mtranslate\u001b[49m\u001b[43m(\u001b[49m\u001b[43mtext\u001b[49m\u001b[43m,\u001b[49m\u001b[43m \u001b[49m\u001b[43msrc\u001b[49m\u001b[38;5;241;43m=\u001b[39;49m\u001b[43msource_lang\u001b[49m\u001b[43m,\u001b[49m\u001b[43m \u001b[49m\u001b[43mdest\u001b[49m\u001b[38;5;241;43m=\u001b[39;49m\u001b[43mtarget_lang\u001b[49m\u001b[43m)\u001b[49m\n\u001b[0;32m      5\u001b[0m     \u001b[38;5;28;01mreturn\u001b[39;00m translation\u001b[38;5;241m.\u001b[39mtext\n",
      "File \u001b[1;32m~\\AppData\\Local\\Packages\\PythonSoftwareFoundation.Python.3.11_qbz5n2kfra8p0\\LocalCache\\local-packages\\Python311\\site-packages\\googletrans\\client.py:182\u001b[0m, in \u001b[0;36mTranslator.translate\u001b[1;34m(self, text, dest, src, **kwargs)\u001b[0m\n\u001b[0;32m    179\u001b[0m     \u001b[38;5;28;01mreturn\u001b[39;00m result\n\u001b[0;32m    181\u001b[0m origin \u001b[38;5;241m=\u001b[39m text\n\u001b[1;32m--> 182\u001b[0m data \u001b[38;5;241m=\u001b[39m \u001b[38;5;28;43mself\u001b[39;49m\u001b[38;5;241;43m.\u001b[39;49m\u001b[43m_translate\u001b[49m\u001b[43m(\u001b[49m\u001b[43mtext\u001b[49m\u001b[43m,\u001b[49m\u001b[43m \u001b[49m\u001b[43mdest\u001b[49m\u001b[43m,\u001b[49m\u001b[43m \u001b[49m\u001b[43msrc\u001b[49m\u001b[43m,\u001b[49m\u001b[43m \u001b[49m\u001b[43mkwargs\u001b[49m\u001b[43m)\u001b[49m\n\u001b[0;32m    184\u001b[0m \u001b[38;5;66;03m# this code will be updated when the format is changed.\u001b[39;00m\n\u001b[0;32m    185\u001b[0m translated \u001b[38;5;241m=\u001b[39m \u001b[38;5;124m'\u001b[39m\u001b[38;5;124m'\u001b[39m\u001b[38;5;241m.\u001b[39mjoin([d[\u001b[38;5;241m0\u001b[39m] \u001b[38;5;28;01mif\u001b[39;00m d[\u001b[38;5;241m0\u001b[39m] \u001b[38;5;28;01melse\u001b[39;00m \u001b[38;5;124m'\u001b[39m\u001b[38;5;124m'\u001b[39m \u001b[38;5;28;01mfor\u001b[39;00m d \u001b[38;5;129;01min\u001b[39;00m data[\u001b[38;5;241m0\u001b[39m]])\n",
      "File \u001b[1;32m~\\AppData\\Local\\Packages\\PythonSoftwareFoundation.Python.3.11_qbz5n2kfra8p0\\LocalCache\\local-packages\\Python311\\site-packages\\googletrans\\client.py:78\u001b[0m, in \u001b[0;36mTranslator._translate\u001b[1;34m(self, text, dest, src, override)\u001b[0m\n\u001b[0;32m     77\u001b[0m \u001b[38;5;28;01mdef\u001b[39;00m \u001b[38;5;21m_translate\u001b[39m(\u001b[38;5;28mself\u001b[39m, text, dest, src, override):\n\u001b[1;32m---> 78\u001b[0m     token \u001b[38;5;241m=\u001b[39m \u001b[38;5;28;43mself\u001b[39;49m\u001b[38;5;241;43m.\u001b[39;49m\u001b[43mtoken_acquirer\u001b[49m\u001b[38;5;241;43m.\u001b[39;49m\u001b[43mdo\u001b[49m\u001b[43m(\u001b[49m\u001b[43mtext\u001b[49m\u001b[43m)\u001b[49m\n\u001b[0;32m     79\u001b[0m     params \u001b[38;5;241m=\u001b[39m utils\u001b[38;5;241m.\u001b[39mbuild_params(query\u001b[38;5;241m=\u001b[39mtext, src\u001b[38;5;241m=\u001b[39msrc, dest\u001b[38;5;241m=\u001b[39mdest,\n\u001b[0;32m     80\u001b[0m                                 token\u001b[38;5;241m=\u001b[39mtoken, override\u001b[38;5;241m=\u001b[39moverride)\n\u001b[0;32m     82\u001b[0m     url \u001b[38;5;241m=\u001b[39m urls\u001b[38;5;241m.\u001b[39mTRANSLATE\u001b[38;5;241m.\u001b[39mformat(host\u001b[38;5;241m=\u001b[39m\u001b[38;5;28mself\u001b[39m\u001b[38;5;241m.\u001b[39m_pick_service_url())\n",
      "File \u001b[1;32m~\\AppData\\Local\\Packages\\PythonSoftwareFoundation.Python.3.11_qbz5n2kfra8p0\\LocalCache\\local-packages\\Python311\\site-packages\\googletrans\\gtoken.py:194\u001b[0m, in \u001b[0;36mTokenAcquirer.do\u001b[1;34m(self, text)\u001b[0m\n\u001b[0;32m    193\u001b[0m \u001b[38;5;28;01mdef\u001b[39;00m \u001b[38;5;21mdo\u001b[39m(\u001b[38;5;28mself\u001b[39m, text):\n\u001b[1;32m--> 194\u001b[0m     \u001b[38;5;28;43mself\u001b[39;49m\u001b[38;5;241;43m.\u001b[39;49m\u001b[43m_update\u001b[49m\u001b[43m(\u001b[49m\u001b[43m)\u001b[49m\n\u001b[0;32m    195\u001b[0m     tk \u001b[38;5;241m=\u001b[39m \u001b[38;5;28mself\u001b[39m\u001b[38;5;241m.\u001b[39macquire(text)\n\u001b[0;32m    196\u001b[0m     \u001b[38;5;28;01mreturn\u001b[39;00m tk\n",
      "File \u001b[1;32m~\\AppData\\Local\\Packages\\PythonSoftwareFoundation.Python.3.11_qbz5n2kfra8p0\\LocalCache\\local-packages\\Python311\\site-packages\\googletrans\\gtoken.py:62\u001b[0m, in \u001b[0;36mTokenAcquirer._update\u001b[1;34m(self)\u001b[0m\n\u001b[0;32m     59\u001b[0m     \u001b[38;5;28;01mreturn\u001b[39;00m\n\u001b[0;32m     61\u001b[0m \u001b[38;5;66;03m# this will be the same as python code after stripping out a reserved word 'var'\u001b[39;00m\n\u001b[1;32m---> 62\u001b[0m code \u001b[38;5;241m=\u001b[39m \u001b[38;5;28;43mself\u001b[39;49m\u001b[38;5;241;43m.\u001b[39;49m\u001b[43mRE_TKK\u001b[49m\u001b[38;5;241;43m.\u001b[39;49m\u001b[43msearch\u001b[49m\u001b[43m(\u001b[49m\u001b[43mr\u001b[49m\u001b[38;5;241;43m.\u001b[39;49m\u001b[43mtext\u001b[49m\u001b[43m)\u001b[49m\u001b[38;5;241;43m.\u001b[39;49m\u001b[43mgroup\u001b[49m(\u001b[38;5;241m1\u001b[39m)\u001b[38;5;241m.\u001b[39mreplace(\u001b[38;5;124m'\u001b[39m\u001b[38;5;124mvar \u001b[39m\u001b[38;5;124m'\u001b[39m, \u001b[38;5;124m'\u001b[39m\u001b[38;5;124m'\u001b[39m)\n\u001b[0;32m     63\u001b[0m \u001b[38;5;66;03m# unescape special ascii characters such like a \\x3d(=)\u001b[39;00m\n\u001b[0;32m     64\u001b[0m code \u001b[38;5;241m=\u001b[39m code\u001b[38;5;241m.\u001b[39mencode()\u001b[38;5;241m.\u001b[39mdecode(\u001b[38;5;124m'\u001b[39m\u001b[38;5;124municode-escape\u001b[39m\u001b[38;5;124m'\u001b[39m)\n",
      "\u001b[1;31mAttributeError\u001b[0m: 'NoneType' object has no attribute 'group'"
     ]
    }
   ],
   "source": [
    "en_sample = translate_text(sample)"
   ]
  },
  {
   "cell_type": "code",
   "execution_count": 22,
   "metadata": {},
   "outputs": [],
   "source": [
    "for tweet in mizuho['Tweet']:\n",
    "    #en_tweet = translate_text(tweet)\n",
    "    if not tweet:\n",
    "        print(\"None type found\")\n",
    "    #print(tweet)"
   ]
  },
  {
   "cell_type": "code",
   "execution_count": null,
   "metadata": {},
   "outputs": [],
   "source": []
  },
  {
   "cell_type": "code",
   "execution_count": 16,
   "metadata": {},
   "outputs": [
    {
     "ename": "AttributeError",
     "evalue": "'NoneType' object has no attribute 'group'",
     "output_type": "error",
     "traceback": [
      "\u001b[1;31m---------------------------------------------------------------------------\u001b[0m",
      "\u001b[1;31mAttributeError\u001b[0m                            Traceback (most recent call last)",
      "Cell \u001b[1;32mIn[16], line 2\u001b[0m\n\u001b[0;32m      1\u001b[0m \u001b[38;5;66;03m# Translate the 'Tweet' column from Japanese to English\u001b[39;00m\n\u001b[1;32m----> 2\u001b[0m mizuho[\u001b[38;5;124m'\u001b[39m\u001b[38;5;124mTranslated_Tweet\u001b[39m\u001b[38;5;124m'\u001b[39m] \u001b[38;5;241m=\u001b[39m \u001b[43mmizuho\u001b[49m\u001b[43m[\u001b[49m\u001b[38;5;124;43m'\u001b[39;49m\u001b[38;5;124;43mTweet\u001b[39;49m\u001b[38;5;124;43m'\u001b[39;49m\u001b[43m]\u001b[49m\u001b[38;5;241;43m.\u001b[39;49m\u001b[43mapply\u001b[49m\u001b[43m(\u001b[49m\u001b[43mtranslate_text\u001b[49m\u001b[43m)\u001b[49m\n",
      "File \u001b[1;32m~\\AppData\\Local\\Packages\\PythonSoftwareFoundation.Python.3.11_qbz5n2kfra8p0\\LocalCache\\local-packages\\Python311\\site-packages\\pandas\\core\\series.py:4630\u001b[0m, in \u001b[0;36mSeries.apply\u001b[1;34m(self, func, convert_dtype, args, **kwargs)\u001b[0m\n\u001b[0;32m   4520\u001b[0m \u001b[38;5;28;01mdef\u001b[39;00m \u001b[38;5;21mapply\u001b[39m(\n\u001b[0;32m   4521\u001b[0m     \u001b[38;5;28mself\u001b[39m,\n\u001b[0;32m   4522\u001b[0m     func: AggFuncType,\n\u001b[1;32m   (...)\u001b[0m\n\u001b[0;32m   4525\u001b[0m     \u001b[38;5;241m*\u001b[39m\u001b[38;5;241m*\u001b[39mkwargs,\n\u001b[0;32m   4526\u001b[0m ) \u001b[38;5;241m-\u001b[39m\u001b[38;5;241m>\u001b[39m DataFrame \u001b[38;5;241m|\u001b[39m Series:\n\u001b[0;32m   4527\u001b[0m \u001b[38;5;250m    \u001b[39m\u001b[38;5;124;03m\"\"\"\u001b[39;00m\n\u001b[0;32m   4528\u001b[0m \u001b[38;5;124;03m    Invoke function on values of Series.\u001b[39;00m\n\u001b[0;32m   4529\u001b[0m \n\u001b[1;32m   (...)\u001b[0m\n\u001b[0;32m   4628\u001b[0m \u001b[38;5;124;03m    dtype: float64\u001b[39;00m\n\u001b[0;32m   4629\u001b[0m \u001b[38;5;124;03m    \"\"\"\u001b[39;00m\n\u001b[1;32m-> 4630\u001b[0m     \u001b[38;5;28;01mreturn\u001b[39;00m \u001b[43mSeriesApply\u001b[49m\u001b[43m(\u001b[49m\u001b[38;5;28;43mself\u001b[39;49m\u001b[43m,\u001b[49m\u001b[43m \u001b[49m\u001b[43mfunc\u001b[49m\u001b[43m,\u001b[49m\u001b[43m \u001b[49m\u001b[43mconvert_dtype\u001b[49m\u001b[43m,\u001b[49m\u001b[43m \u001b[49m\u001b[43margs\u001b[49m\u001b[43m,\u001b[49m\u001b[43m \u001b[49m\u001b[43mkwargs\u001b[49m\u001b[43m)\u001b[49m\u001b[38;5;241;43m.\u001b[39;49m\u001b[43mapply\u001b[49m\u001b[43m(\u001b[49m\u001b[43m)\u001b[49m\n",
      "File \u001b[1;32m~\\AppData\\Local\\Packages\\PythonSoftwareFoundation.Python.3.11_qbz5n2kfra8p0\\LocalCache\\local-packages\\Python311\\site-packages\\pandas\\core\\apply.py:1025\u001b[0m, in \u001b[0;36mSeriesApply.apply\u001b[1;34m(self)\u001b[0m\n\u001b[0;32m   1022\u001b[0m     \u001b[38;5;28;01mreturn\u001b[39;00m \u001b[38;5;28mself\u001b[39m\u001b[38;5;241m.\u001b[39mapply_str()\n\u001b[0;32m   1024\u001b[0m \u001b[38;5;66;03m# self.f is Callable\u001b[39;00m\n\u001b[1;32m-> 1025\u001b[0m \u001b[38;5;28;01mreturn\u001b[39;00m \u001b[38;5;28;43mself\u001b[39;49m\u001b[38;5;241;43m.\u001b[39;49m\u001b[43mapply_standard\u001b[49m\u001b[43m(\u001b[49m\u001b[43m)\u001b[49m\n",
      "File \u001b[1;32m~\\AppData\\Local\\Packages\\PythonSoftwareFoundation.Python.3.11_qbz5n2kfra8p0\\LocalCache\\local-packages\\Python311\\site-packages\\pandas\\core\\apply.py:1076\u001b[0m, in \u001b[0;36mSeriesApply.apply_standard\u001b[1;34m(self)\u001b[0m\n\u001b[0;32m   1074\u001b[0m     \u001b[38;5;28;01melse\u001b[39;00m:\n\u001b[0;32m   1075\u001b[0m         values \u001b[38;5;241m=\u001b[39m obj\u001b[38;5;241m.\u001b[39mastype(\u001b[38;5;28mobject\u001b[39m)\u001b[38;5;241m.\u001b[39m_values\n\u001b[1;32m-> 1076\u001b[0m         mapped \u001b[38;5;241m=\u001b[39m \u001b[43mlib\u001b[49m\u001b[38;5;241;43m.\u001b[39;49m\u001b[43mmap_infer\u001b[49m\u001b[43m(\u001b[49m\n\u001b[0;32m   1077\u001b[0m \u001b[43m            \u001b[49m\u001b[43mvalues\u001b[49m\u001b[43m,\u001b[49m\n\u001b[0;32m   1078\u001b[0m \u001b[43m            \u001b[49m\u001b[43mf\u001b[49m\u001b[43m,\u001b[49m\n\u001b[0;32m   1079\u001b[0m \u001b[43m            \u001b[49m\u001b[43mconvert\u001b[49m\u001b[38;5;241;43m=\u001b[39;49m\u001b[38;5;28;43mself\u001b[39;49m\u001b[38;5;241;43m.\u001b[39;49m\u001b[43mconvert_dtype\u001b[49m\u001b[43m,\u001b[49m\n\u001b[0;32m   1080\u001b[0m \u001b[43m        \u001b[49m\u001b[43m)\u001b[49m\n\u001b[0;32m   1082\u001b[0m \u001b[38;5;28;01mif\u001b[39;00m \u001b[38;5;28mlen\u001b[39m(mapped) \u001b[38;5;129;01mand\u001b[39;00m \u001b[38;5;28misinstance\u001b[39m(mapped[\u001b[38;5;241m0\u001b[39m], ABCSeries):\n\u001b[0;32m   1083\u001b[0m     \u001b[38;5;66;03m# GH#43986 Need to do list(mapped) in order to get treated as nested\u001b[39;00m\n\u001b[0;32m   1084\u001b[0m     \u001b[38;5;66;03m#  See also GH#25959 regarding EA support\u001b[39;00m\n\u001b[0;32m   1085\u001b[0m     \u001b[38;5;28;01mreturn\u001b[39;00m obj\u001b[38;5;241m.\u001b[39m_constructor_expanddim(\u001b[38;5;28mlist\u001b[39m(mapped), index\u001b[38;5;241m=\u001b[39mobj\u001b[38;5;241m.\u001b[39mindex)\n",
      "File \u001b[1;32m~\\AppData\\Local\\Packages\\PythonSoftwareFoundation.Python.3.11_qbz5n2kfra8p0\\LocalCache\\local-packages\\Python311\\site-packages\\pandas\\_libs\\lib.pyx:2834\u001b[0m, in \u001b[0;36mpandas._libs.lib.map_infer\u001b[1;34m()\u001b[0m\n",
      "Cell \u001b[1;32mIn[15], line 4\u001b[0m, in \u001b[0;36mtranslate_text\u001b[1;34m(text, source_lang, target_lang)\u001b[0m\n\u001b[0;32m      2\u001b[0m \u001b[38;5;28;01mdef\u001b[39;00m \u001b[38;5;21mtranslate_text\u001b[39m(text, source_lang\u001b[38;5;241m=\u001b[39m\u001b[38;5;124m'\u001b[39m\u001b[38;5;124mja\u001b[39m\u001b[38;5;124m'\u001b[39m, target_lang\u001b[38;5;241m=\u001b[39m\u001b[38;5;124m'\u001b[39m\u001b[38;5;124men\u001b[39m\u001b[38;5;124m'\u001b[39m):\n\u001b[0;32m      3\u001b[0m     translator \u001b[38;5;241m=\u001b[39m Translator()\n\u001b[1;32m----> 4\u001b[0m     translation \u001b[38;5;241m=\u001b[39m \u001b[43mtranslator\u001b[49m\u001b[38;5;241;43m.\u001b[39;49m\u001b[43mtranslate\u001b[49m\u001b[43m(\u001b[49m\u001b[43mtext\u001b[49m\u001b[43m,\u001b[49m\u001b[43m \u001b[49m\u001b[43msrc\u001b[49m\u001b[38;5;241;43m=\u001b[39;49m\u001b[43msource_lang\u001b[49m\u001b[43m,\u001b[49m\u001b[43m \u001b[49m\u001b[43mdest\u001b[49m\u001b[38;5;241;43m=\u001b[39;49m\u001b[43mtarget_lang\u001b[49m\u001b[43m)\u001b[49m\n\u001b[0;32m      5\u001b[0m     \u001b[38;5;28;01mreturn\u001b[39;00m translation\u001b[38;5;241m.\u001b[39mtext\n",
      "File \u001b[1;32m~\\AppData\\Local\\Packages\\PythonSoftwareFoundation.Python.3.11_qbz5n2kfra8p0\\LocalCache\\local-packages\\Python311\\site-packages\\googletrans\\client.py:182\u001b[0m, in \u001b[0;36mTranslator.translate\u001b[1;34m(self, text, dest, src, **kwargs)\u001b[0m\n\u001b[0;32m    179\u001b[0m     \u001b[38;5;28;01mreturn\u001b[39;00m result\n\u001b[0;32m    181\u001b[0m origin \u001b[38;5;241m=\u001b[39m text\n\u001b[1;32m--> 182\u001b[0m data \u001b[38;5;241m=\u001b[39m \u001b[38;5;28;43mself\u001b[39;49m\u001b[38;5;241;43m.\u001b[39;49m\u001b[43m_translate\u001b[49m\u001b[43m(\u001b[49m\u001b[43mtext\u001b[49m\u001b[43m,\u001b[49m\u001b[43m \u001b[49m\u001b[43mdest\u001b[49m\u001b[43m,\u001b[49m\u001b[43m \u001b[49m\u001b[43msrc\u001b[49m\u001b[43m,\u001b[49m\u001b[43m \u001b[49m\u001b[43mkwargs\u001b[49m\u001b[43m)\u001b[49m\n\u001b[0;32m    184\u001b[0m \u001b[38;5;66;03m# this code will be updated when the format is changed.\u001b[39;00m\n\u001b[0;32m    185\u001b[0m translated \u001b[38;5;241m=\u001b[39m \u001b[38;5;124m'\u001b[39m\u001b[38;5;124m'\u001b[39m\u001b[38;5;241m.\u001b[39mjoin([d[\u001b[38;5;241m0\u001b[39m] \u001b[38;5;28;01mif\u001b[39;00m d[\u001b[38;5;241m0\u001b[39m] \u001b[38;5;28;01melse\u001b[39;00m \u001b[38;5;124m'\u001b[39m\u001b[38;5;124m'\u001b[39m \u001b[38;5;28;01mfor\u001b[39;00m d \u001b[38;5;129;01min\u001b[39;00m data[\u001b[38;5;241m0\u001b[39m]])\n",
      "File \u001b[1;32m~\\AppData\\Local\\Packages\\PythonSoftwareFoundation.Python.3.11_qbz5n2kfra8p0\\LocalCache\\local-packages\\Python311\\site-packages\\googletrans\\client.py:78\u001b[0m, in \u001b[0;36mTranslator._translate\u001b[1;34m(self, text, dest, src, override)\u001b[0m\n\u001b[0;32m     77\u001b[0m \u001b[38;5;28;01mdef\u001b[39;00m \u001b[38;5;21m_translate\u001b[39m(\u001b[38;5;28mself\u001b[39m, text, dest, src, override):\n\u001b[1;32m---> 78\u001b[0m     token \u001b[38;5;241m=\u001b[39m \u001b[38;5;28;43mself\u001b[39;49m\u001b[38;5;241;43m.\u001b[39;49m\u001b[43mtoken_acquirer\u001b[49m\u001b[38;5;241;43m.\u001b[39;49m\u001b[43mdo\u001b[49m\u001b[43m(\u001b[49m\u001b[43mtext\u001b[49m\u001b[43m)\u001b[49m\n\u001b[0;32m     79\u001b[0m     params \u001b[38;5;241m=\u001b[39m utils\u001b[38;5;241m.\u001b[39mbuild_params(query\u001b[38;5;241m=\u001b[39mtext, src\u001b[38;5;241m=\u001b[39msrc, dest\u001b[38;5;241m=\u001b[39mdest,\n\u001b[0;32m     80\u001b[0m                                 token\u001b[38;5;241m=\u001b[39mtoken, override\u001b[38;5;241m=\u001b[39moverride)\n\u001b[0;32m     82\u001b[0m     url \u001b[38;5;241m=\u001b[39m urls\u001b[38;5;241m.\u001b[39mTRANSLATE\u001b[38;5;241m.\u001b[39mformat(host\u001b[38;5;241m=\u001b[39m\u001b[38;5;28mself\u001b[39m\u001b[38;5;241m.\u001b[39m_pick_service_url())\n",
      "File \u001b[1;32m~\\AppData\\Local\\Packages\\PythonSoftwareFoundation.Python.3.11_qbz5n2kfra8p0\\LocalCache\\local-packages\\Python311\\site-packages\\googletrans\\gtoken.py:194\u001b[0m, in \u001b[0;36mTokenAcquirer.do\u001b[1;34m(self, text)\u001b[0m\n\u001b[0;32m    193\u001b[0m \u001b[38;5;28;01mdef\u001b[39;00m \u001b[38;5;21mdo\u001b[39m(\u001b[38;5;28mself\u001b[39m, text):\n\u001b[1;32m--> 194\u001b[0m     \u001b[38;5;28;43mself\u001b[39;49m\u001b[38;5;241;43m.\u001b[39;49m\u001b[43m_update\u001b[49m\u001b[43m(\u001b[49m\u001b[43m)\u001b[49m\n\u001b[0;32m    195\u001b[0m     tk \u001b[38;5;241m=\u001b[39m \u001b[38;5;28mself\u001b[39m\u001b[38;5;241m.\u001b[39macquire(text)\n\u001b[0;32m    196\u001b[0m     \u001b[38;5;28;01mreturn\u001b[39;00m tk\n",
      "File \u001b[1;32m~\\AppData\\Local\\Packages\\PythonSoftwareFoundation.Python.3.11_qbz5n2kfra8p0\\LocalCache\\local-packages\\Python311\\site-packages\\googletrans\\gtoken.py:62\u001b[0m, in \u001b[0;36mTokenAcquirer._update\u001b[1;34m(self)\u001b[0m\n\u001b[0;32m     59\u001b[0m     \u001b[38;5;28;01mreturn\u001b[39;00m\n\u001b[0;32m     61\u001b[0m \u001b[38;5;66;03m# this will be the same as python code after stripping out a reserved word 'var'\u001b[39;00m\n\u001b[1;32m---> 62\u001b[0m code \u001b[38;5;241m=\u001b[39m \u001b[38;5;28;43mself\u001b[39;49m\u001b[38;5;241;43m.\u001b[39;49m\u001b[43mRE_TKK\u001b[49m\u001b[38;5;241;43m.\u001b[39;49m\u001b[43msearch\u001b[49m\u001b[43m(\u001b[49m\u001b[43mr\u001b[49m\u001b[38;5;241;43m.\u001b[39;49m\u001b[43mtext\u001b[49m\u001b[43m)\u001b[49m\u001b[38;5;241;43m.\u001b[39;49m\u001b[43mgroup\u001b[49m(\u001b[38;5;241m1\u001b[39m)\u001b[38;5;241m.\u001b[39mreplace(\u001b[38;5;124m'\u001b[39m\u001b[38;5;124mvar \u001b[39m\u001b[38;5;124m'\u001b[39m, \u001b[38;5;124m'\u001b[39m\u001b[38;5;124m'\u001b[39m)\n\u001b[0;32m     63\u001b[0m \u001b[38;5;66;03m# unescape special ascii characters such like a \\x3d(=)\u001b[39;00m\n\u001b[0;32m     64\u001b[0m code \u001b[38;5;241m=\u001b[39m code\u001b[38;5;241m.\u001b[39mencode()\u001b[38;5;241m.\u001b[39mdecode(\u001b[38;5;124m'\u001b[39m\u001b[38;5;124municode-escape\u001b[39m\u001b[38;5;124m'\u001b[39m)\n",
      "\u001b[1;31mAttributeError\u001b[0m: 'NoneType' object has no attribute 'group'"
     ]
    }
   ],
   "source": [
    "# Translate the 'Tweet' column from Japanese to English\n",
    "mizuho['Translated_Tweet'] = mizuho['Tweet'].apply(translate_text)\n"
   ]
  }
 ],
 "metadata": {
  "kernelspec": {
   "display_name": "Python 3",
   "language": "python",
   "name": "python3"
  },
  "language_info": {
   "codemirror_mode": {
    "name": "ipython",
    "version": 3
   },
   "file_extension": ".py",
   "mimetype": "text/x-python",
   "name": "python",
   "nbconvert_exporter": "python",
   "pygments_lexer": "ipython3",
   "version": "3.11.7"
  }
 },
 "nbformat": 4,
 "nbformat_minor": 2
}
