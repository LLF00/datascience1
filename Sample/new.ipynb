{
 "cells": [
  {
   "cell_type": "code",
   "execution_count": 21,
   "metadata": {},
   "outputs": [],
   "source": [
    "import time\n",
    "import pandas as pd\n",
    "from selenium import webdriver\n",
    "from selenium.webdriver.common.by import By\n",
    "from selenium.webdriver.common.keys import Keys\n",
    "from selenium.webdriver.support.ui import WebDriverWait\n",
    "from selenium.webdriver.support import expected_conditions as EC"
   ]
  },
  {
   "cell_type": "code",
   "execution_count": 22,
   "metadata": {},
   "outputs": [],
   "source": [
    "username = 'APTX9998'\n",
    "password = 'Acp123456.'"
   ]
  },
  {
   "cell_type": "code",
   "execution_count": 23,
   "metadata": {},
   "outputs": [],
   "source": [
    "max_tweets = 50000"
   ]
  },
  {
   "cell_type": "code",
   "execution_count": 24,
   "metadata": {},
   "outputs": [],
   "source": [
    "output_path = r\"D:\\5.ACP\"\n",
    "output_filename = \"CT.csv\"\n",
    "real_time_saving = \"real_time_CT_data.csv\"\n",
    "output = f\"{output_path}\\\\{output_filename}\"\n",
    "realtime_output = f\"{output_path}\\\\{real_time_saving}\""
   ]
  },
  {
   "cell_type": "code",
   "execution_count": 25,
   "metadata": {},
   "outputs": [],
   "source": [
    "options = webdriver.FirefoxOptions()\n",
    "options.add_argument('--headless')"
   ]
  },
  {
   "cell_type": "code",
   "execution_count": 26,
   "metadata": {},
   "outputs": [],
   "source": [
    "def scroll_down(browser):\n",
    "    browser.execute_script(\"window.scrollTo(0, document.body.scrollHeight);\")\n",
    "    time.sleep(2)"
   ]
  },
  {
   "cell_type": "code",
   "execution_count": 27,
   "metadata": {},
   "outputs": [],
   "source": [
    "def write_data_entry(entry):\n",
    "    with open(realtime_output, 'a') as f:\n",
    "        f.write(entry+'\\n')"
   ]
  },
  {
   "cell_type": "code",
   "execution_count": 28,
   "metadata": {},
   "outputs": [],
   "source": [
    "def start_twitter_search():\n",
    "    with webdriver.Firefox(options=options) as browser:\n",
    "        url = 'https://twitter.com/Citi'\n",
    "        browser.get(url)\n",
    "\n",
    "        wait = WebDriverWait(browser, 10)\n",
    "\n",
    "        login_button = wait.until(EC.presence_of_element_located((By.XPATH, '//a[@href=\"/login\"]')))\n",
    "        login_button.click()\n",
    "\n",
    "        username_input = wait.until(EC.presence_of_element_located((By.XPATH, './/input[@name=\"text\"]')))\n",
    "        username_input.send_keys(username)\n",
    "        username_input.send_keys(Keys.RETURN)\n",
    "\n",
    "        time.sleep(3)\n",
    "\n",
    "        password_input = wait.until(EC.presence_of_element_located((By.XPATH, './/input[@name=\"password\"]')))\n",
    "        password_input.send_keys(password)\n",
    "        password_input.send_keys(Keys.RETURN)\n",
    "\n",
    "        wait.until(EC.presence_of_element_located((By.XPATH, '//input[@enterkeyhint=\"search\"]')))\n",
    "\n",
    "        # Removing the topic search\n",
    "        search_input = browser.find_element(By.XPATH, '//input[@enterkeyhint=\"search\"]')\n",
    "        search_input.send_keys(Keys.RETURN)\n",
    "\n",
    "        current_tweets = 0\n",
    "        user_data = []\n",
    "        text_data = []\n",
    "        time_data = []\n",
    "\n",
    "        while current_tweets < max_tweets:\n",
    "            for _ in range(10):\n",
    "                scroll_down(browser)\n",
    "    \n",
    "            tweets = wait.until(EC.presence_of_all_elements_located((By.XPATH, '//article[@role=\"article\"]')))\n",
    "    \n",
    "            for tweet in tweets:\n",
    "                try:\n",
    "                    user = tweet.find_element(By.XPATH, './/span[contains(text(), \"@\")]').text\n",
    "                    text = tweet.find_element(By.XPATH, \".//div[@lang]\").text\n",
    "                    tweet_time = tweet.find_element(By.XPATH, \".//time\").get_attribute(\"datetime\")\n",
    "    \n",
    "                    tweets_data = [user, text, tweet_time]\n",
    "                except Exception as e:\n",
    "                    print(f\"Error extracting tweet: {e}\")\n",
    "                    tweets_data = ['user', 'text', \"time\"]\n",
    "    \n",
    "                userdata = tweets_data[0]\n",
    "                textdata = \" \".join(tweets_data[1].split())\n",
    "                timedata = tweets_data[2]\n",
    "                entry = userdata + ',' + textdata + ',' + timedata\n",
    "                write_data_entry(entry)\n",
    "                user_data.append(userdata)\n",
    "                text_data.append(textdata)\n",
    "                time_data.append(entry)\n",
    "    \n",
    "                current_tweets += 1\n",
    "\n",
    "            print(f\"Scraped {current_tweets} tweets\")\n",
    "\n",
    "        df = pd.DataFrame({'user': user_data, 'text': text_data, 'time': time_data})\n",
    "        df.to_csv(output, index=False)\n",
    "        print(f\"Total {current_tweets} tweets scraped\")"
   ]
  },
  {
   "cell_type": "code",
   "execution_count": 29,
   "metadata": {},
   "outputs": [],
   "source": [
    "def main():\n",
    "    start_twitter_search()"
   ]
  },
  {
   "cell_type": "code",
   "execution_count": 30,
   "metadata": {},
   "outputs": [
    {
     "ename": "TimeoutException",
     "evalue": "Message: \nStacktrace:\nRemoteError@chrome://remote/content/shared/RemoteError.sys.mjs:8:8\nWebDriverError@chrome://remote/content/shared/webdriver/Errors.sys.mjs:189:5\nNoSuchElementError@chrome://remote/content/shared/webdriver/Errors.sys.mjs:507:5\ndom.find/</<@chrome://remote/content/shared/DOM.sys.mjs:132:16\n",
     "output_type": "error",
     "traceback": [
      "\u001b[1;31m---------------------------------------------------------------------------\u001b[0m",
      "\u001b[1;31mTimeoutException\u001b[0m                          Traceback (most recent call last)",
      "Cell \u001b[1;32mIn[30], line 2\u001b[0m\n\u001b[0;32m      1\u001b[0m \u001b[38;5;28;01mif\u001b[39;00m \u001b[38;5;18m__name__\u001b[39m \u001b[38;5;241m==\u001b[39m \u001b[38;5;124m\"\u001b[39m\u001b[38;5;124m__main__\u001b[39m\u001b[38;5;124m\"\u001b[39m:\n\u001b[1;32m----> 2\u001b[0m    \u001b[43mmain\u001b[49m\u001b[43m(\u001b[49m\u001b[43m)\u001b[49m\n",
      "Cell \u001b[1;32mIn[29], line 2\u001b[0m, in \u001b[0;36mmain\u001b[1;34m()\u001b[0m\n\u001b[0;32m      1\u001b[0m \u001b[38;5;28;01mdef\u001b[39;00m \u001b[38;5;21mmain\u001b[39m():\n\u001b[1;32m----> 2\u001b[0m     \u001b[43mstart_twitter_search\u001b[49m\u001b[43m(\u001b[49m\u001b[43m)\u001b[49m\n",
      "Cell \u001b[1;32mIn[28], line 17\u001b[0m, in \u001b[0;36mstart_twitter_search\u001b[1;34m()\u001b[0m\n\u001b[0;32m     13\u001b[0m username_input\u001b[38;5;241m.\u001b[39msend_keys(Keys\u001b[38;5;241m.\u001b[39mRETURN)\n\u001b[0;32m     15\u001b[0m time\u001b[38;5;241m.\u001b[39msleep(\u001b[38;5;241m3\u001b[39m)\n\u001b[1;32m---> 17\u001b[0m password_input \u001b[38;5;241m=\u001b[39m \u001b[43mwait\u001b[49m\u001b[38;5;241;43m.\u001b[39;49m\u001b[43muntil\u001b[49m\u001b[43m(\u001b[49m\u001b[43mEC\u001b[49m\u001b[38;5;241;43m.\u001b[39;49m\u001b[43mpresence_of_element_located\u001b[49m\u001b[43m(\u001b[49m\u001b[43m(\u001b[49m\u001b[43mBy\u001b[49m\u001b[38;5;241;43m.\u001b[39;49m\u001b[43mXPATH\u001b[49m\u001b[43m,\u001b[49m\u001b[43m \u001b[49m\u001b[38;5;124;43m'\u001b[39;49m\u001b[38;5;124;43m.//input[@name=\u001b[39;49m\u001b[38;5;124;43m\"\u001b[39;49m\u001b[38;5;124;43mpassword\u001b[39;49m\u001b[38;5;124;43m\"\u001b[39;49m\u001b[38;5;124;43m]\u001b[39;49m\u001b[38;5;124;43m'\u001b[39;49m\u001b[43m)\u001b[49m\u001b[43m)\u001b[49m\u001b[43m)\u001b[49m\n\u001b[0;32m     18\u001b[0m password_input\u001b[38;5;241m.\u001b[39msend_keys(password)\n\u001b[0;32m     19\u001b[0m password_input\u001b[38;5;241m.\u001b[39msend_keys(Keys\u001b[38;5;241m.\u001b[39mRETURN)\n",
      "File \u001b[1;32m~\\AppData\\Local\\Packages\\PythonSoftwareFoundation.Python.3.11_qbz5n2kfra8p0\\LocalCache\\local-packages\\Python311\\site-packages\\selenium\\webdriver\\support\\wait.py:105\u001b[0m, in \u001b[0;36mWebDriverWait.until\u001b[1;34m(self, method, message)\u001b[0m\n\u001b[0;32m    103\u001b[0m     \u001b[38;5;28;01mif\u001b[39;00m time\u001b[38;5;241m.\u001b[39mmonotonic() \u001b[38;5;241m>\u001b[39m end_time:\n\u001b[0;32m    104\u001b[0m         \u001b[38;5;28;01mbreak\u001b[39;00m\n\u001b[1;32m--> 105\u001b[0m \u001b[38;5;28;01mraise\u001b[39;00m TimeoutException(message, screen, stacktrace)\n",
      "\u001b[1;31mTimeoutException\u001b[0m: Message: \nStacktrace:\nRemoteError@chrome://remote/content/shared/RemoteError.sys.mjs:8:8\nWebDriverError@chrome://remote/content/shared/webdriver/Errors.sys.mjs:189:5\nNoSuchElementError@chrome://remote/content/shared/webdriver/Errors.sys.mjs:507:5\ndom.find/</<@chrome://remote/content/shared/DOM.sys.mjs:132:16\n"
     ]
    }
   ],
   "source": [
    "if __name__ == \"__main__\":\n",
    "   main()"
   ]
  },
  {
   "cell_type": "code",
   "execution_count": null,
   "metadata": {},
   "outputs": [
    {
     "name": "stdout",
     "output_type": "stream",
     "text": [
      "<class 'pandas.core.frame.DataFrame'>\n",
      "RangeIndex: 100003 entries, 0 to 100002\n",
      "Data columns (total 3 columns):\n",
      " #   Column  Non-Null Count   Dtype \n",
      "---  ------  --------------   ----- \n",
      " 0   user    100003 non-null  object\n",
      " 1   text    100003 non-null  object\n",
      " 2   time    100003 non-null  object\n",
      "dtypes: object(3)\n",
      "memory usage: 2.3+ MB\n"
     ]
    }
   ],
   "source": [
    "df = pd.read_csv(r\"D:\\5.ACP\\BOA.csv\")\n",
    "df.info()"
   ]
  },
  {
   "cell_type": "code",
   "execution_count": null,
   "metadata": {},
   "outputs": [],
   "source": [
    "dups = df.duplicated()"
   ]
  },
  {
   "cell_type": "code",
   "execution_count": null,
   "metadata": {},
   "outputs": [],
   "source": [
    "# count the number of duplicated rows\n",
    "dup_count = dups.sum()"
   ]
  },
  {
   "cell_type": "code",
   "execution_count": null,
   "metadata": {},
   "outputs": [
    {
     "name": "stdout",
     "output_type": "stream",
     "text": [
      "99984\n"
     ]
    }
   ],
   "source": [
    "print(dup_count)"
   ]
  },
  {
   "cell_type": "code",
   "execution_count": null,
   "metadata": {},
   "outputs": [],
   "source": []
  }
 ],
 "metadata": {
  "kernelspec": {
   "display_name": "Python 3",
   "language": "python",
   "name": "python3"
  },
  "language_info": {
   "codemirror_mode": {
    "name": "ipython",
    "version": 3
   },
   "file_extension": ".py",
   "mimetype": "text/x-python",
   "name": "python",
   "nbconvert_exporter": "python",
   "pygments_lexer": "ipython3",
   "version": "3.11.7"
  }
 },
 "nbformat": 4,
 "nbformat_minor": 2
}
